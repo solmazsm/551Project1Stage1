{
 "cells": [
  {
   "cell_type": "markdown",
   "id": "cae08860-26ef-4bfd-bc58-2cb68d15f6b5",
   "metadata": {},
   "source": [
    "## *Guanyu Li* "
   ]
  },
  {
   "cell_type": "markdown",
   "id": "83ae0894-ea54-4311-ac31-24c73c3758ce",
   "metadata": {},
   "source": [
    "## *Solmaz Seyed Monir*"
   ]
  },
  {
   "cell_type": "markdown",
   "id": "c5ae4a74-46cf-468b-8074-12a8354cd260",
   "metadata": {},
   "source": [
    "# <span style=\"font-family: Arial; font-size:1.4em; background-color: yellow;\"> ***Starting of stage-1*** "
   ]
  },
  {
   "cell_type": "markdown",
   "id": "be870f6c-f289-46ef-8433-d686a7661005",
   "metadata": {},
   "source": [
    "## 1.1 Stage-1"
   ]
  },
  {
   "cell_type": "markdown",
   "id": "bd1f23e1-93ca-4848-8c48-eb7f06f9fe22",
   "metadata": {},
   "source": [
    "`Here is Starting of stage-1!`"
   ]
  },
  {
   "cell_type": "markdown",
   "id": "380665fc-b09f-4e8d-8a9d-e045ed2092c7",
   "metadata": {},
   "source": [
    "# Problem Formulation/Introduction [5 points]\n",
    "At the beginning of your notebook, you are required to write an introduction of the problem, which will motivate the readers.\n",
    "\n",
    "1. You need to carefully read the description of your chosen Kaggle competition and formulate the data problem you are going to solve similar to what we have discussed in class. Points will be deducted if the problem is not correctly describing the corresponding Kaggle problem or the problem formulation is not clear to understand even judge the previous point. [3 points]\n",
    "\n",
    "2. According to the problem, what's the data population? [2 points]"
   ]
  },
  {
   "cell_type": "markdown",
   "id": "e43172a3-9e42-4a96-8a43-8b28e9de4901",
   "metadata": {},
   "source": [
    "Titanic (Classification)\n",
    "The sinking of the Titanic is one of the most infamous shipwrecks in history. On April 15, 1912, the widely considered “unsinkable” Titanic sank after colliding with an iceberg. Unfortunately, there weren’t enough lifeboats for everyone on board, resulting in the death of 1502 out of 2224 passengers and crew.\n",
    "Goal: Build a predictive model that answers the question: “what sorts of people were more likely to survive?” using passenger data like age, gender, class. How to deal with the data, how to analyze data through different plots and graphs, how to do data preprocessing, and finally how to predict things. we need to predict whether the other 418 passengers on board survived.\n",
    "Data population: 891 passengers of the Titanic shipwreck whose life status has been known, and 418 passengers that we don't know if they survived in the Titanic."
   ]
  },
  {
   "cell_type": "markdown",
   "id": "bb0c8d7c-c825-4311-bd36-de6b01b5c759",
   "metadata": {},
   "source": [
    "<br><span style=\"font-family: Arial; font-size:1.4em; background-color: gold;\"><font color='red'>Comments\n",
    "The data population is not the sample information but the whole data population related your prediction question, which is not limited to the available sample data.</font>"
   ]
  },
  {
   "cell_type": "markdown",
   "id": "c0ae5b25-430f-42e2-9b96-cdfe6ebcd458",
   "metadata": {},
   "source": [
    "*`Here is the changes of answer! data population`* "
   ]
  },
  {
   "cell_type": "markdown",
   "id": "69fc06ab-5e17-4919-98f6-da362fb40869",
   "metadata": {},
   "source": [
    "<font color='blue'>***Answer:Contains demographics and passenger information from 891 of the 2224 passengers and crew on board the Titanic.***</font>"
   ]
  },
  {
   "cell_type": "markdown",
   "id": "25964ab7-61af-4d1c-96c2-f2adf46fed0b",
   "metadata": {},
   "source": [
    "# Kaggle account\n",
    "1. If you don't have a Kaggle account, you need to register one. Please include your account name in your notebook, which will be the one showing on the Leaderboard, when you submit your result in stage-2. [1 point]"
   ]
  },
  {
   "cell_type": "markdown",
   "id": "1fd71caf-455b-495a-a473-5951d53128ea",
   "metadata": {},
   "source": [
    "solmazsm "
   ]
  },
  {
   "cell_type": "markdown",
   "id": "5eb02540-f9c8-4789-a506-4d1386374971",
   "metadata": {},
   "source": [
    "GUGUGU"
   ]
  },
  {
   "cell_type": "markdown",
   "id": "1b2616c8-9035-48e4-b3f5-857315a8500d",
   "metadata": {},
   "source": [
    "<span style=\"font-family: Arial; font-size:1.4em;\"><font color='red'>Comments<br>\n",
    "Later, you will need to team up on Kaggle to submit a team model in stage 2.</font>"
   ]
  },
  {
   "attachments": {
    "cf74e2c3-9c35-45cc-a602-75eadf4d0143.png": {
     "image/png": "[encoded data removed]"
    }
   },
   "cell_type": "markdown",
   "id": "dd50adbe-d55f-473c-9de3-06b4bde7a41e",
   "metadata": {},
   "source": [
    "![image.png](attachment:cf74e2c3-9c35-45cc-a602-75eadf4d0143.png)"
   ]
  },
  {
   "cell_type": "markdown",
   "id": "9c11d34b-cc9a-45f3-aca1-6701bee50b87",
   "metadata": {},
   "source": [
    "<span style=\"font-family: Arial; font-size:1.4em;\"><font color='red'>Comments<br>\n",
    "Those types of each feature are also part of the structure property</font>"
   ]
  },
  {
   "cell_type": "code",
   "execution_count": 201,
   "id": "39b7ccc4-b27e-4889-85fe-e005c776d045",
   "metadata": {},
   "outputs": [],
   "source": [
    "import numpy as np # linear algebra\n",
    "import pandas as pd # data processing, CSV file I/O (e.g. pd.read_csv)\n",
    "import matplotlib.pyplot as plt\n",
    "import seaborn as sns\n",
    "from IPython.display import HTML, display\n",
    "\n"
   ]
  },
  {
   "cell_type": "code",
   "execution_count": 202,
   "id": "b4b0943f-85d9-494a-95fc-6ab0b575ef94",
   "metadata": {},
   "outputs": [],
   "source": [
    "def set_background(color):    \n",
    "    script = (\n",
    "        \"var cell = this.closest('.jp-CodeCell');\"\n",
    "        \"var editor = cell.querySelector('.jp-Editor');\"\n",
    "        \"editor.style.background='{}';\"\n",
    "        \"this.parentNode.removeChild(this)\"\n",
    "    ).format(color)\n",
    "    \n",
    "    display(HTML('<img src onerror=\"{}\" style=\"display:none\">'.format(script)))"
   ]
  },
  {
   "cell_type": "markdown",
   "id": "3e0845a4-f120-47f4-9953-ff95c43f5f26",
   "metadata": {},
   "source": [
    "2. After you download the data, you need to load them to your notebook, show several lines of each separate file and describe what is that data for. [5 points]"
   ]
  },
  {
   "cell_type": "markdown",
   "id": "c5026526-8bb9-4fd0-b3ea-fa0225fc4220",
   "metadata": {},
   "source": [
    "Each row represents the data of 1 passenger.\n",
    "Columns represent the features. We have 10 features/ variables in this dataset.\n",
    "Survival: This variable shows whether the person survived or not. This is our target variable & we have to predict its value. It’s a binary variable. 0 means not survived and 1 means survived.\n",
    "pclass: The ticket class of passengers. 1st  (upper class), 2nd (middle), or 3rd (lower).\n",
    "Sex: Gender of passenger\n",
    "Age: Age (in years) of a passenger\n",
    "sibsp: The no. of siblings/spouses of a particular passenger who were there on the ship.\n",
    "parch: The no. of parents/children of a particular passenger who were there on the ship.\n",
    "ticket: Ticket Number\n",
    "fare: Passenger fare (like 1st class ticket fare must be greater than 2nd pr 3rd class ticket right)\n",
    "cabin: Cabin Number\n",
    "embarked: Port of Embarkation; From where that passenger took the ship. ( C = Cherbourg, Q = Queenstown, S = Southampton)\n",
    "Clearly, it’s a classification problem because we need to tell whether the person will survive or not. We will use 5 different classifiers and compare their accuracy. The 5 different classifiers are as follows:"
   ]
  },
  {
   "cell_type": "markdown",
   "id": "abdf67ca-30e4-4f87-a77c-378fc53e8af7",
   "metadata": {},
   "source": [
    "# 1. Show the data"
   ]
  },
  {
   "cell_type": "code",
   "execution_count": 203,
   "id": "c6dfd993-59c4-4880-95b6-ef0a0a02c092",
   "metadata": {},
   "outputs": [
    {
     "data": {
      "text/html": [
       "<div>\n",
       "<style scoped>\n",
       "    .dataframe tbody tr th:only-of-type {\n",
       "        vertical-align: middle;\n",
       "    }\n",
       "\n",
       "    .dataframe tbody tr th {\n",
       "        vertical-align: top;\n",
       "    }\n",
       "\n",
       "    .dataframe thead th {\n",
       "        text-align: right;\n",
       "    }\n",
       "</style>\n",
       "<table border=\"1\" class=\"dataframe\">\n",
       "  <thead>\n",
       "    <tr style=\"text-align: right;\">\n",
       "      <th></th>\n",
       "      <th>PassengerId</th>\n",
       "      <th>Survived</th>\n",
       "      <th>Pclass</th>\n",
       "      <th>Name</th>\n",
       "      <th>Sex</th>\n",
       "      <th>Age</th>\n",
       "      <th>SibSp</th>\n",
       "      <th>Parch</th>\n",
       "      <th>Ticket</th>\n",
       "      <th>Fare</th>\n",
       "      <th>Cabin</th>\n",
       "      <th>Embarked</th>\n",
       "    </tr>\n",
       "  </thead>\n",
       "  <tbody>\n",
       "    <tr>\n",
       "      <th>0</th>\n",
       "      <td>1</td>\n",
       "      <td>0</td>\n",
       "      <td>3</td>\n",
       "      <td>Braund, Mr. Owen Harris</td>\n",
       "      <td>male</td>\n",
       "      <td>22.0</td>\n",
       "      <td>1</td>\n",
       "      <td>0</td>\n",
       "      <td>A/5 21171</td>\n",
       "      <td>7.2500</td>\n",
       "      <td>NaN</td>\n",
       "      <td>S</td>\n",
       "    </tr>\n",
       "    <tr>\n",
       "      <th>1</th>\n",
       "      <td>2</td>\n",
       "      <td>1</td>\n",
       "      <td>1</td>\n",
       "      <td>Cumings, Mrs. John Bradley (Florence Briggs Th...</td>\n",
       "      <td>female</td>\n",
       "      <td>38.0</td>\n",
       "      <td>1</td>\n",
       "      <td>0</td>\n",
       "      <td>PC 17599</td>\n",
       "      <td>71.2833</td>\n",
       "      <td>C85</td>\n",
       "      <td>C</td>\n",
       "    </tr>\n",
       "    <tr>\n",
       "      <th>2</th>\n",
       "      <td>3</td>\n",
       "      <td>1</td>\n",
       "      <td>3</td>\n",
       "      <td>Heikkinen, Miss. Laina</td>\n",
       "      <td>female</td>\n",
       "      <td>26.0</td>\n",
       "      <td>0</td>\n",
       "      <td>0</td>\n",
       "      <td>STON/O2. 3101282</td>\n",
       "      <td>7.9250</td>\n",
       "      <td>NaN</td>\n",
       "      <td>S</td>\n",
       "    </tr>\n",
       "    <tr>\n",
       "      <th>3</th>\n",
       "      <td>4</td>\n",
       "      <td>1</td>\n",
       "      <td>1</td>\n",
       "      <td>Futrelle, Mrs. Jacques Heath (Lily May Peel)</td>\n",
       "      <td>female</td>\n",
       "      <td>35.0</td>\n",
       "      <td>1</td>\n",
       "      <td>0</td>\n",
       "      <td>113803</td>\n",
       "      <td>53.1000</td>\n",
       "      <td>C123</td>\n",
       "      <td>S</td>\n",
       "    </tr>\n",
       "    <tr>\n",
       "      <th>4</th>\n",
       "      <td>5</td>\n",
       "      <td>0</td>\n",
       "      <td>3</td>\n",
       "      <td>Allen, Mr. William Henry</td>\n",
       "      <td>male</td>\n",
       "      <td>35.0</td>\n",
       "      <td>0</td>\n",
       "      <td>0</td>\n",
       "      <td>373450</td>\n",
       "      <td>8.0500</td>\n",
       "      <td>NaN</td>\n",
       "      <td>S</td>\n",
       "    </tr>\n",
       "    <tr>\n",
       "      <th>...</th>\n",
       "      <td>...</td>\n",
       "      <td>...</td>\n",
       "      <td>...</td>\n",
       "      <td>...</td>\n",
       "      <td>...</td>\n",
       "      <td>...</td>\n",
       "      <td>...</td>\n",
       "      <td>...</td>\n",
       "      <td>...</td>\n",
       "      <td>...</td>\n",
       "      <td>...</td>\n",
       "      <td>...</td>\n",
       "    </tr>\n",
       "    <tr>\n",
       "      <th>886</th>\n",
       "      <td>887</td>\n",
       "      <td>0</td>\n",
       "      <td>2</td>\n",
       "      <td>Montvila, Rev. Juozas</td>\n",
       "      <td>male</td>\n",
       "      <td>27.0</td>\n",
       "      <td>0</td>\n",
       "      <td>0</td>\n",
       "      <td>211536</td>\n",
       "      <td>13.0000</td>\n",
       "      <td>NaN</td>\n",
       "      <td>S</td>\n",
       "    </tr>\n",
       "    <tr>\n",
       "      <th>887</th>\n",
       "      <td>888</td>\n",
       "      <td>1</td>\n",
       "      <td>1</td>\n",
       "      <td>Graham, Miss. Margaret Edith</td>\n",
       "      <td>female</td>\n",
       "      <td>19.0</td>\n",
       "      <td>0</td>\n",
       "      <td>0</td>\n",
       "      <td>112053</td>\n",
       "      <td>30.0000</td>\n",
       "      <td>B42</td>\n",
       "      <td>S</td>\n",
       "    </tr>\n",
       "    <tr>\n",
       "      <th>888</th>\n",
       "      <td>889</td>\n",
       "      <td>0</td>\n",
       "      <td>3</td>\n",
       "      <td>Johnston, Miss. Catherine Helen \"Carrie\"</td>\n",
       "      <td>female</td>\n",
       "      <td>NaN</td>\n",
       "      <td>1</td>\n",
       "      <td>2</td>\n",
       "      <td>W./C. 6607</td>\n",
       "      <td>23.4500</td>\n",
       "      <td>NaN</td>\n",
       "      <td>S</td>\n",
       "    </tr>\n",
       "    <tr>\n",
       "      <th>889</th>\n",
       "      <td>890</td>\n",
       "      <td>1</td>\n",
       "      <td>1</td>\n",
       "      <td>Behr, Mr. Karl Howell</td>\n",
       "      <td>male</td>\n",
       "      <td>26.0</td>\n",
       "      <td>0</td>\n",
       "      <td>0</td>\n",
       "      <td>111369</td>\n",
       "      <td>30.0000</td>\n",
       "      <td>C148</td>\n",
       "      <td>C</td>\n",
       "    </tr>\n",
       "    <tr>\n",
       "      <th>890</th>\n",
       "      <td>891</td>\n",
       "      <td>0</td>\n",
       "      <td>3</td>\n",
       "      <td>Dooley, Mr. Patrick</td>\n",
       "      <td>male</td>\n",
       "      <td>32.0</td>\n",
       "      <td>0</td>\n",
       "      <td>0</td>\n",
       "      <td>370376</td>\n",
       "      <td>7.7500</td>\n",
       "      <td>NaN</td>\n",
       "      <td>Q</td>\n",
       "    </tr>\n",
       "  </tbody>\n",
       "</table>\n",
       "<p>891 rows × 12 columns</p>\n",
       "</div>"
      ],
      "text/plain": [
       "     PassengerId  Survived  Pclass  \\\n",
       "0              1         0       3   \n",
       "1              2         1       1   \n",
       "2              3         1       3   \n",
       "3              4         1       1   \n",
       "4              5         0       3   \n",
       "..           ...       ...     ...   \n",
       "886          887         0       2   \n",
       "887          888         1       1   \n",
       "888          889         0       3   \n",
       "889          890         1       1   \n",
       "890          891         0       3   \n",
       "\n",
       "                                                  Name     Sex   Age  SibSp  \\\n",
       "0                              Braund, Mr. Owen Harris    male  22.0      1   \n",
       "1    Cumings, Mrs. John Bradley (Florence Briggs Th...  female  38.0      1   \n",
       "2                               Heikkinen, Miss. Laina  female  26.0      0   \n",
       "3         Futrelle, Mrs. Jacques Heath (Lily May Peel)  female  35.0      1   \n",
       "4                             Allen, Mr. William Henry    male  35.0      0   \n",
       "..                                                 ...     ...   ...    ...   \n",
       "886                              Montvila, Rev. Juozas    male  27.0      0   \n",
       "887                       Graham, Miss. Margaret Edith  female  19.0      0   \n",
       "888           Johnston, Miss. Catherine Helen \"Carrie\"  female   NaN      1   \n",
       "889                              Behr, Mr. Karl Howell    male  26.0      0   \n",
       "890                                Dooley, Mr. Patrick    male  32.0      0   \n",
       "\n",
       "     Parch            Ticket     Fare Cabin Embarked  \n",
       "0        0         A/5 21171   7.2500   NaN        S  \n",
       "1        0          PC 17599  71.2833   C85        C  \n",
       "2        0  STON/O2. 3101282   7.9250   NaN        S  \n",
       "3        0            113803  53.1000  C123        S  \n",
       "4        0            373450   8.0500   NaN        S  \n",
       "..     ...               ...      ...   ...      ...  \n",
       "886      0            211536  13.0000   NaN        S  \n",
       "887      0            112053  30.0000   B42        S  \n",
       "888      2        W./C. 6607  23.4500   NaN        S  \n",
       "889      0            111369  30.0000  C148        C  \n",
       "890      0            370376   7.7500   NaN        Q  \n",
       "\n",
       "[891 rows x 12 columns]"
      ]
     },
     "execution_count": 203,
     "metadata": {},
     "output_type": "execute_result"
    }
   ],
   "source": [
    "titani_data_train=pd.read_csv('data/train.csv', delimiter=',')\n",
    "titani_data_train"
   ]
  },
  {
   "cell_type": "code",
   "execution_count": 204,
   "id": "824d214d-24b6-4b19-bef6-b7a0717fb309",
   "metadata": {},
   "outputs": [
    {
     "data": {
      "text/plain": [
       "(891, 12)"
      ]
     },
     "execution_count": 204,
     "metadata": {},
     "output_type": "execute_result"
    }
   ],
   "source": [
    "titani_data_train.shape"
   ]
  },
  {
   "cell_type": "markdown",
   "id": "d851d182-45a7-4442-83e9-1df6b70db95d",
   "metadata": {},
   "source": [
    "There are 891 passengers and 11 attributes (PassengerId is just an index not an attribute of a passenger). The attributes are:"
   ]
  },
  {
   "cell_type": "code",
   "execution_count": 205,
   "id": "77634c03-524c-45f1-8d74-3f872181b1ca",
   "metadata": {},
   "outputs": [
    {
     "data": {
      "text/html": [
       "<div>\n",
       "<style scoped>\n",
       "    .dataframe tbody tr th:only-of-type {\n",
       "        vertical-align: middle;\n",
       "    }\n",
       "\n",
       "    .dataframe tbody tr th {\n",
       "        vertical-align: top;\n",
       "    }\n",
       "\n",
       "    .dataframe thead th {\n",
       "        text-align: right;\n",
       "    }\n",
       "</style>\n",
       "<table border=\"1\" class=\"dataframe\">\n",
       "  <thead>\n",
       "    <tr style=\"text-align: right;\">\n",
       "      <th></th>\n",
       "      <th>PassengerId</th>\n",
       "      <th>Survived</th>\n",
       "      <th>Pclass</th>\n",
       "      <th>Name</th>\n",
       "      <th>Sex</th>\n",
       "      <th>Age</th>\n",
       "      <th>SibSp</th>\n",
       "      <th>Parch</th>\n",
       "      <th>Ticket</th>\n",
       "      <th>Fare</th>\n",
       "      <th>Cabin</th>\n",
       "      <th>Embarked</th>\n",
       "    </tr>\n",
       "  </thead>\n",
       "  <tbody>\n",
       "    <tr>\n",
       "      <th>0</th>\n",
       "      <td>1</td>\n",
       "      <td>0</td>\n",
       "      <td>3</td>\n",
       "      <td>Braund, Mr. Owen Harris</td>\n",
       "      <td>male</td>\n",
       "      <td>22.0</td>\n",
       "      <td>1</td>\n",
       "      <td>0</td>\n",
       "      <td>A/5 21171</td>\n",
       "      <td>7.2500</td>\n",
       "      <td>NaN</td>\n",
       "      <td>S</td>\n",
       "    </tr>\n",
       "    <tr>\n",
       "      <th>1</th>\n",
       "      <td>2</td>\n",
       "      <td>1</td>\n",
       "      <td>1</td>\n",
       "      <td>Cumings, Mrs. John Bradley (Florence Briggs Th...</td>\n",
       "      <td>female</td>\n",
       "      <td>38.0</td>\n",
       "      <td>1</td>\n",
       "      <td>0</td>\n",
       "      <td>PC 17599</td>\n",
       "      <td>71.2833</td>\n",
       "      <td>C85</td>\n",
       "      <td>C</td>\n",
       "    </tr>\n",
       "    <tr>\n",
       "      <th>2</th>\n",
       "      <td>3</td>\n",
       "      <td>1</td>\n",
       "      <td>3</td>\n",
       "      <td>Heikkinen, Miss. Laina</td>\n",
       "      <td>female</td>\n",
       "      <td>26.0</td>\n",
       "      <td>0</td>\n",
       "      <td>0</td>\n",
       "      <td>STON/O2. 3101282</td>\n",
       "      <td>7.9250</td>\n",
       "      <td>NaN</td>\n",
       "      <td>S</td>\n",
       "    </tr>\n",
       "    <tr>\n",
       "      <th>3</th>\n",
       "      <td>4</td>\n",
       "      <td>1</td>\n",
       "      <td>1</td>\n",
       "      <td>Futrelle, Mrs. Jacques Heath (Lily May Peel)</td>\n",
       "      <td>female</td>\n",
       "      <td>35.0</td>\n",
       "      <td>1</td>\n",
       "      <td>0</td>\n",
       "      <td>113803</td>\n",
       "      <td>53.1000</td>\n",
       "      <td>C123</td>\n",
       "      <td>S</td>\n",
       "    </tr>\n",
       "    <tr>\n",
       "      <th>4</th>\n",
       "      <td>5</td>\n",
       "      <td>0</td>\n",
       "      <td>3</td>\n",
       "      <td>Allen, Mr. William Henry</td>\n",
       "      <td>male</td>\n",
       "      <td>35.0</td>\n",
       "      <td>0</td>\n",
       "      <td>0</td>\n",
       "      <td>373450</td>\n",
       "      <td>8.0500</td>\n",
       "      <td>NaN</td>\n",
       "      <td>S</td>\n",
       "    </tr>\n",
       "  </tbody>\n",
       "</table>\n",
       "</div>"
      ],
      "text/plain": [
       "   PassengerId  Survived  Pclass  \\\n",
       "0            1         0       3   \n",
       "1            2         1       1   \n",
       "2            3         1       3   \n",
       "3            4         1       1   \n",
       "4            5         0       3   \n",
       "\n",
       "                                                Name     Sex   Age  SibSp  \\\n",
       "0                            Braund, Mr. Owen Harris    male  22.0      1   \n",
       "1  Cumings, Mrs. John Bradley (Florence Briggs Th...  female  38.0      1   \n",
       "2                             Heikkinen, Miss. Laina  female  26.0      0   \n",
       "3       Futrelle, Mrs. Jacques Heath (Lily May Peel)  female  35.0      1   \n",
       "4                           Allen, Mr. William Henry    male  35.0      0   \n",
       "\n",
       "   Parch            Ticket     Fare Cabin Embarked  \n",
       "0      0         A/5 21171   7.2500   NaN        S  \n",
       "1      0          PC 17599  71.2833   C85        C  \n",
       "2      0  STON/O2. 3101282   7.9250   NaN        S  \n",
       "3      0            113803  53.1000  C123        S  \n",
       "4      0            373450   8.0500   NaN        S  "
      ]
     },
     "execution_count": 205,
     "metadata": {},
     "output_type": "execute_result"
    }
   ],
   "source": [
    "titani_data_train.head()"
   ]
  },
  {
   "cell_type": "code",
   "execution_count": 206,
   "id": "c20fea9d-15f4-4bef-8e0e-2f38b38ad689",
   "metadata": {},
   "outputs": [
    {
     "name": "stdout",
     "output_type": "stream",
     "text": [
      "<class 'pandas.core.frame.DataFrame'>\n",
      "RangeIndex: 891 entries, 0 to 890\n",
      "Data columns (total 12 columns):\n",
      " #   Column       Non-Null Count  Dtype  \n",
      "---  ------       --------------  -----  \n",
      " 0   PassengerId  891 non-null    int64  \n",
      " 1   Survived     891 non-null    int64  \n",
      " 2   Pclass       891 non-null    int64  \n",
      " 3   Name         891 non-null    object \n",
      " 4   Sex          891 non-null    object \n",
      " 5   Age          714 non-null    float64\n",
      " 6   SibSp        891 non-null    int64  \n",
      " 7   Parch        891 non-null    int64  \n",
      " 8   Ticket       891 non-null    object \n",
      " 9   Fare         891 non-null    float64\n",
      " 10  Cabin        204 non-null    object \n",
      " 11  Embarked     889 non-null    object \n",
      "dtypes: float64(2), int64(5), object(5)\n",
      "memory usage: 83.7+ KB\n"
     ]
    }
   ],
   "source": [
    "titani_data_train.info()"
   ]
  },
  {
   "cell_type": "markdown",
   "id": "e800cd92-d28d-4486-b5cf-bfc6e5723b50",
   "metadata": {},
   "source": [
    "# 1. Show the data (test data set)"
   ]
  },
  {
   "cell_type": "code",
   "execution_count": 207,
   "id": "4d979d31-80dd-42d1-8411-4bf7b48f306a",
   "metadata": {},
   "outputs": [
    {
     "data": {
      "text/html": [
       "<div>\n",
       "<style scoped>\n",
       "    .dataframe tbody tr th:only-of-type {\n",
       "        vertical-align: middle;\n",
       "    }\n",
       "\n",
       "    .dataframe tbody tr th {\n",
       "        vertical-align: top;\n",
       "    }\n",
       "\n",
       "    .dataframe thead th {\n",
       "        text-align: right;\n",
       "    }\n",
       "</style>\n",
       "<table border=\"1\" class=\"dataframe\">\n",
       "  <thead>\n",
       "    <tr style=\"text-align: right;\">\n",
       "      <th></th>\n",
       "      <th>PassengerId</th>\n",
       "      <th>Pclass</th>\n",
       "      <th>Name</th>\n",
       "      <th>Sex</th>\n",
       "      <th>Age</th>\n",
       "      <th>SibSp</th>\n",
       "      <th>Parch</th>\n",
       "      <th>Ticket</th>\n",
       "      <th>Fare</th>\n",
       "      <th>Cabin</th>\n",
       "      <th>Embarked</th>\n",
       "    </tr>\n",
       "  </thead>\n",
       "  <tbody>\n",
       "    <tr>\n",
       "      <th>0</th>\n",
       "      <td>892</td>\n",
       "      <td>3</td>\n",
       "      <td>Kelly, Mr. James</td>\n",
       "      <td>male</td>\n",
       "      <td>34.5</td>\n",
       "      <td>0</td>\n",
       "      <td>0</td>\n",
       "      <td>330911</td>\n",
       "      <td>7.8292</td>\n",
       "      <td>NaN</td>\n",
       "      <td>Q</td>\n",
       "    </tr>\n",
       "    <tr>\n",
       "      <th>1</th>\n",
       "      <td>893</td>\n",
       "      <td>3</td>\n",
       "      <td>Wilkes, Mrs. James (Ellen Needs)</td>\n",
       "      <td>female</td>\n",
       "      <td>47.0</td>\n",
       "      <td>1</td>\n",
       "      <td>0</td>\n",
       "      <td>363272</td>\n",
       "      <td>7.0000</td>\n",
       "      <td>NaN</td>\n",
       "      <td>S</td>\n",
       "    </tr>\n",
       "    <tr>\n",
       "      <th>2</th>\n",
       "      <td>894</td>\n",
       "      <td>2</td>\n",
       "      <td>Myles, Mr. Thomas Francis</td>\n",
       "      <td>male</td>\n",
       "      <td>62.0</td>\n",
       "      <td>0</td>\n",
       "      <td>0</td>\n",
       "      <td>240276</td>\n",
       "      <td>9.6875</td>\n",
       "      <td>NaN</td>\n",
       "      <td>Q</td>\n",
       "    </tr>\n",
       "    <tr>\n",
       "      <th>3</th>\n",
       "      <td>895</td>\n",
       "      <td>3</td>\n",
       "      <td>Wirz, Mr. Albert</td>\n",
       "      <td>male</td>\n",
       "      <td>27.0</td>\n",
       "      <td>0</td>\n",
       "      <td>0</td>\n",
       "      <td>315154</td>\n",
       "      <td>8.6625</td>\n",
       "      <td>NaN</td>\n",
       "      <td>S</td>\n",
       "    </tr>\n",
       "    <tr>\n",
       "      <th>4</th>\n",
       "      <td>896</td>\n",
       "      <td>3</td>\n",
       "      <td>Hirvonen, Mrs. Alexander (Helga E Lindqvist)</td>\n",
       "      <td>female</td>\n",
       "      <td>22.0</td>\n",
       "      <td>1</td>\n",
       "      <td>1</td>\n",
       "      <td>3101298</td>\n",
       "      <td>12.2875</td>\n",
       "      <td>NaN</td>\n",
       "      <td>S</td>\n",
       "    </tr>\n",
       "    <tr>\n",
       "      <th>...</th>\n",
       "      <td>...</td>\n",
       "      <td>...</td>\n",
       "      <td>...</td>\n",
       "      <td>...</td>\n",
       "      <td>...</td>\n",
       "      <td>...</td>\n",
       "      <td>...</td>\n",
       "      <td>...</td>\n",
       "      <td>...</td>\n",
       "      <td>...</td>\n",
       "      <td>...</td>\n",
       "    </tr>\n",
       "    <tr>\n",
       "      <th>413</th>\n",
       "      <td>1305</td>\n",
       "      <td>3</td>\n",
       "      <td>Spector, Mr. Woolf</td>\n",
       "      <td>male</td>\n",
       "      <td>NaN</td>\n",
       "      <td>0</td>\n",
       "      <td>0</td>\n",
       "      <td>A.5. 3236</td>\n",
       "      <td>8.0500</td>\n",
       "      <td>NaN</td>\n",
       "      <td>S</td>\n",
       "    </tr>\n",
       "    <tr>\n",
       "      <th>414</th>\n",
       "      <td>1306</td>\n",
       "      <td>1</td>\n",
       "      <td>Oliva y Ocana, Dona. Fermina</td>\n",
       "      <td>female</td>\n",
       "      <td>39.0</td>\n",
       "      <td>0</td>\n",
       "      <td>0</td>\n",
       "      <td>PC 17758</td>\n",
       "      <td>108.9000</td>\n",
       "      <td>C105</td>\n",
       "      <td>C</td>\n",
       "    </tr>\n",
       "    <tr>\n",
       "      <th>415</th>\n",
       "      <td>1307</td>\n",
       "      <td>3</td>\n",
       "      <td>Saether, Mr. Simon Sivertsen</td>\n",
       "      <td>male</td>\n",
       "      <td>38.5</td>\n",
       "      <td>0</td>\n",
       "      <td>0</td>\n",
       "      <td>SOTON/O.Q. 3101262</td>\n",
       "      <td>7.2500</td>\n",
       "      <td>NaN</td>\n",
       "      <td>S</td>\n",
       "    </tr>\n",
       "    <tr>\n",
       "      <th>416</th>\n",
       "      <td>1308</td>\n",
       "      <td>3</td>\n",
       "      <td>Ware, Mr. Frederick</td>\n",
       "      <td>male</td>\n",
       "      <td>NaN</td>\n",
       "      <td>0</td>\n",
       "      <td>0</td>\n",
       "      <td>359309</td>\n",
       "      <td>8.0500</td>\n",
       "      <td>NaN</td>\n",
       "      <td>S</td>\n",
       "    </tr>\n",
       "    <tr>\n",
       "      <th>417</th>\n",
       "      <td>1309</td>\n",
       "      <td>3</td>\n",
       "      <td>Peter, Master. Michael J</td>\n",
       "      <td>male</td>\n",
       "      <td>NaN</td>\n",
       "      <td>1</td>\n",
       "      <td>1</td>\n",
       "      <td>2668</td>\n",
       "      <td>22.3583</td>\n",
       "      <td>NaN</td>\n",
       "      <td>C</td>\n",
       "    </tr>\n",
       "  </tbody>\n",
       "</table>\n",
       "<p>418 rows × 11 columns</p>\n",
       "</div>"
      ],
      "text/plain": [
       "     PassengerId  Pclass                                          Name  \\\n",
       "0            892       3                              Kelly, Mr. James   \n",
       "1            893       3              Wilkes, Mrs. James (Ellen Needs)   \n",
       "2            894       2                     Myles, Mr. Thomas Francis   \n",
       "3            895       3                              Wirz, Mr. Albert   \n",
       "4            896       3  Hirvonen, Mrs. Alexander (Helga E Lindqvist)   \n",
       "..           ...     ...                                           ...   \n",
       "413         1305       3                            Spector, Mr. Woolf   \n",
       "414         1306       1                  Oliva y Ocana, Dona. Fermina   \n",
       "415         1307       3                  Saether, Mr. Simon Sivertsen   \n",
       "416         1308       3                           Ware, Mr. Frederick   \n",
       "417         1309       3                      Peter, Master. Michael J   \n",
       "\n",
       "        Sex   Age  SibSp  Parch              Ticket      Fare Cabin Embarked  \n",
       "0      male  34.5      0      0              330911    7.8292   NaN        Q  \n",
       "1    female  47.0      1      0              363272    7.0000   NaN        S  \n",
       "2      male  62.0      0      0              240276    9.6875   NaN        Q  \n",
       "3      male  27.0      0      0              315154    8.6625   NaN        S  \n",
       "4    female  22.0      1      1             3101298   12.2875   NaN        S  \n",
       "..      ...   ...    ...    ...                 ...       ...   ...      ...  \n",
       "413    male   NaN      0      0           A.5. 3236    8.0500   NaN        S  \n",
       "414  female  39.0      0      0            PC 17758  108.9000  C105        C  \n",
       "415    male  38.5      0      0  SOTON/O.Q. 3101262    7.2500   NaN        S  \n",
       "416    male   NaN      0      0              359309    8.0500   NaN        S  \n",
       "417    male   NaN      1      1                2668   22.3583   NaN        C  \n",
       "\n",
       "[418 rows x 11 columns]"
      ]
     },
     "execution_count": 207,
     "metadata": {},
     "output_type": "execute_result"
    }
   ],
   "source": [
    "titani_data_test=pd.read_csv('data/test.csv', delimiter=',')\n",
    "titani_data_test"
   ]
  },
  {
   "cell_type": "code",
   "execution_count": 208,
   "id": "30b7ce20-9079-4591-8b6d-d5c591d6e463",
   "metadata": {},
   "outputs": [
    {
     "data": {
      "text/plain": [
       "(418, 11)"
      ]
     },
     "execution_count": 208,
     "metadata": {},
     "output_type": "execute_result"
    }
   ],
   "source": [
    "titani_data_test.shape"
   ]
  },
  {
   "cell_type": "code",
   "execution_count": 209,
   "id": "32d3ba7b-7e33-461a-8573-303104f20b51",
   "metadata": {},
   "outputs": [
    {
     "data": {
      "text/html": [
       "<div>\n",
       "<style scoped>\n",
       "    .dataframe tbody tr th:only-of-type {\n",
       "        vertical-align: middle;\n",
       "    }\n",
       "\n",
       "    .dataframe tbody tr th {\n",
       "        vertical-align: top;\n",
       "    }\n",
       "\n",
       "    .dataframe thead th {\n",
       "        text-align: right;\n",
       "    }\n",
       "</style>\n",
       "<table border=\"1\" class=\"dataframe\">\n",
       "  <thead>\n",
       "    <tr style=\"text-align: right;\">\n",
       "      <th></th>\n",
       "      <th>PassengerId</th>\n",
       "      <th>Pclass</th>\n",
       "      <th>Name</th>\n",
       "      <th>Sex</th>\n",
       "      <th>Age</th>\n",
       "      <th>SibSp</th>\n",
       "      <th>Parch</th>\n",
       "      <th>Ticket</th>\n",
       "      <th>Fare</th>\n",
       "      <th>Cabin</th>\n",
       "      <th>Embarked</th>\n",
       "    </tr>\n",
       "  </thead>\n",
       "  <tbody>\n",
       "    <tr>\n",
       "      <th>0</th>\n",
       "      <td>892</td>\n",
       "      <td>3</td>\n",
       "      <td>Kelly, Mr. James</td>\n",
       "      <td>male</td>\n",
       "      <td>34.5</td>\n",
       "      <td>0</td>\n",
       "      <td>0</td>\n",
       "      <td>330911</td>\n",
       "      <td>7.8292</td>\n",
       "      <td>NaN</td>\n",
       "      <td>Q</td>\n",
       "    </tr>\n",
       "    <tr>\n",
       "      <th>1</th>\n",
       "      <td>893</td>\n",
       "      <td>3</td>\n",
       "      <td>Wilkes, Mrs. James (Ellen Needs)</td>\n",
       "      <td>female</td>\n",
       "      <td>47.0</td>\n",
       "      <td>1</td>\n",
       "      <td>0</td>\n",
       "      <td>363272</td>\n",
       "      <td>7.0000</td>\n",
       "      <td>NaN</td>\n",
       "      <td>S</td>\n",
       "    </tr>\n",
       "    <tr>\n",
       "      <th>2</th>\n",
       "      <td>894</td>\n",
       "      <td>2</td>\n",
       "      <td>Myles, Mr. Thomas Francis</td>\n",
       "      <td>male</td>\n",
       "      <td>62.0</td>\n",
       "      <td>0</td>\n",
       "      <td>0</td>\n",
       "      <td>240276</td>\n",
       "      <td>9.6875</td>\n",
       "      <td>NaN</td>\n",
       "      <td>Q</td>\n",
       "    </tr>\n",
       "    <tr>\n",
       "      <th>3</th>\n",
       "      <td>895</td>\n",
       "      <td>3</td>\n",
       "      <td>Wirz, Mr. Albert</td>\n",
       "      <td>male</td>\n",
       "      <td>27.0</td>\n",
       "      <td>0</td>\n",
       "      <td>0</td>\n",
       "      <td>315154</td>\n",
       "      <td>8.6625</td>\n",
       "      <td>NaN</td>\n",
       "      <td>S</td>\n",
       "    </tr>\n",
       "    <tr>\n",
       "      <th>4</th>\n",
       "      <td>896</td>\n",
       "      <td>3</td>\n",
       "      <td>Hirvonen, Mrs. Alexander (Helga E Lindqvist)</td>\n",
       "      <td>female</td>\n",
       "      <td>22.0</td>\n",
       "      <td>1</td>\n",
       "      <td>1</td>\n",
       "      <td>3101298</td>\n",
       "      <td>12.2875</td>\n",
       "      <td>NaN</td>\n",
       "      <td>S</td>\n",
       "    </tr>\n",
       "  </tbody>\n",
       "</table>\n",
       "</div>"
      ],
      "text/plain": [
       "   PassengerId  Pclass                                          Name     Sex  \\\n",
       "0          892       3                              Kelly, Mr. James    male   \n",
       "1          893       3              Wilkes, Mrs. James (Ellen Needs)  female   \n",
       "2          894       2                     Myles, Mr. Thomas Francis    male   \n",
       "3          895       3                              Wirz, Mr. Albert    male   \n",
       "4          896       3  Hirvonen, Mrs. Alexander (Helga E Lindqvist)  female   \n",
       "\n",
       "    Age  SibSp  Parch   Ticket     Fare Cabin Embarked  \n",
       "0  34.5      0      0   330911   7.8292   NaN        Q  \n",
       "1  47.0      1      0   363272   7.0000   NaN        S  \n",
       "2  62.0      0      0   240276   9.6875   NaN        Q  \n",
       "3  27.0      0      0   315154   8.6625   NaN        S  \n",
       "4  22.0      1      1  3101298  12.2875   NaN        S  "
      ]
     },
     "execution_count": 209,
     "metadata": {},
     "output_type": "execute_result"
    }
   ],
   "source": [
    "titani_data_test.head()"
   ]
  },
  {
   "cell_type": "code",
   "execution_count": 210,
   "id": "afa3840e-9ef6-4af2-8ac7-b0f640db36a7",
   "metadata": {},
   "outputs": [
    {
     "name": "stdout",
     "output_type": "stream",
     "text": [
      "<class 'pandas.core.frame.DataFrame'>\n",
      "RangeIndex: 418 entries, 0 to 417\n",
      "Data columns (total 11 columns):\n",
      " #   Column       Non-Null Count  Dtype  \n",
      "---  ------       --------------  -----  \n",
      " 0   PassengerId  418 non-null    int64  \n",
      " 1   Pclass       418 non-null    int64  \n",
      " 2   Name         418 non-null    object \n",
      " 3   Sex          418 non-null    object \n",
      " 4   Age          332 non-null    float64\n",
      " 5   SibSp        418 non-null    int64  \n",
      " 6   Parch        418 non-null    int64  \n",
      " 7   Ticket       418 non-null    object \n",
      " 8   Fare         417 non-null    float64\n",
      " 9   Cabin        91 non-null     object \n",
      " 10  Embarked     418 non-null    object \n",
      "dtypes: float64(2), int64(4), object(5)\n",
      "memory usage: 36.0+ KB\n"
     ]
    }
   ],
   "source": [
    "titani_data_test.info()"
   ]
  },
  {
   "cell_type": "markdown",
   "id": "407f8cee-5ffb-4c1f-a391-98a5e0b0a3f8",
   "metadata": {},
   "source": [
    "3.  Data Wrangling: this is an open component and you need to transform the data into a data frame or data frames for analysis or visualization. However, you need to include the discussion for each data properties (i.e., structure, granularity, scope, temporality, and faithfulness), using the data (e.g., visualizations or statistical summaries) as evidences. If one property cannot be identified using the data, you also need to show and tell that this is not available. [25 points, 5 for each property]"
   ]
  },
  {
   "cell_type": "markdown",
   "id": "af2763a2-9b2b-4092-aa79-805476306394",
   "metadata": {},
   "source": [
    "Ø Structure -- the “shape” of a data file Ø Granularity -- how fine/coarse is each datum Ø Scope -- how (in)complete is the data Ø Temporality -- how is the data situated in time Ø Faithfulness -- how well does the data capture “reality”\n"
   ]
  },
  {
   "cell_type": "markdown",
   "id": "6c2c706a-4bfc-4c35-8e44-90e351c1e9c8",
   "metadata": {},
   "source": [
    "# 3.1 Structure: the “shape” of a data file\n",
    "The train dataset and test dataset are all tabular data. For train dataset, we have 891 rows and 12 columns. For test dataset, we have 418 rows and 11 columns. The column names in test data and train data are same except that train data has “ground truth” for each passenger which is called \"Survived\" and test data doesn't."
   ]
  },
  {
   "cell_type": "code",
   "execution_count": 211,
   "id": "4d3265b0-3cf3-4b23-a7ea-ee5e87211834",
   "metadata": {},
   "outputs": [
    {
     "name": "stdout",
     "output_type": "stream",
     "text": [
      "Shape of train data (891, 12)\n",
      "Shape of test data (418, 11)\n"
     ]
    }
   ],
   "source": [
    "print('Shape of train data', titani_data_train.shape)\n",
    "print('Shape of test data', titani_data_test.shape)"
   ]
  },
  {
   "cell_type": "markdown",
   "id": "0a8c79e6-b104-4399-af0f-e1c3b4e70d2e",
   "metadata": {},
   "source": [
    "# 3.2 Granularity: how fine/coarse is each datum Ø Scopetitani_data_train[\"Survived\"].value_counts()\n",
    " We can further analyze the data by 'Pclass', 'Survived', or 'Sex'."
   ]
  },
  {
   "cell_type": "code",
   "execution_count": 212,
   "id": "8286a388-997c-424c-8edd-dbb8bd52eaa2",
   "metadata": {},
   "outputs": [
    {
     "data": {
      "text/plain": [
       "0    549\n",
       "1    342\n",
       "Name: Survived, dtype: int64"
      ]
     },
     "execution_count": 212,
     "metadata": {},
     "output_type": "execute_result"
    }
   ],
   "source": [
    "titani_data_train[\"Survived\"].value_counts()"
   ]
  },
  {
   "cell_type": "markdown",
   "id": "49a30195-3d8d-4694-a1ff-f06da3248d8c",
   "metadata": {},
   "source": [
    " # 0 means not survived and 1 means survived"
   ]
  },
  {
   "cell_type": "code",
   "execution_count": 213,
   "id": "d2a8c30e-76b4-4329-a557-61fbb0fa6504",
   "metadata": {},
   "outputs": [
    {
     "data": {
      "image/png": "[encoded data removed]",
      "text/plain": [
       "<Figure size 432x288 with 1 Axes>"
      ]
     },
     "metadata": {
      "needs_background": "light"
     },
     "output_type": "display_data"
    }
   ],
   "source": [
    "plt.bar(list(titani_data_train[\"Survived\"].value_counts().keys()),list(titani_data_train[\"Survived\"].value_counts()),color= ['b','r'])\n",
    "plt.ylabel(\"Count\")\n",
    "plt.title(\" Count who is not survived and survived\")\n",
    "plt.show()"
   ]
  },
  {
   "cell_type": "markdown",
   "id": "b3eb9c1d-8093-4cb2-be14-37d51f918039",
   "metadata": {},
   "source": [
    "Overall Survival Rates. Surival chances were low based on the graph. We might want to visualize how the survival rates varied by Sex, Age, Pclass. "
   ]
  },
  {
   "cell_type": "code",
   "execution_count": 214,
   "id": "23592e01-7a9f-438a-a51c-fb4264549035",
   "metadata": {},
   "outputs": [
    {
     "data": {
      "text/html": [
       "<div>\n",
       "<style scoped>\n",
       "    .dataframe tbody tr th:only-of-type {\n",
       "        vertical-align: middle;\n",
       "    }\n",
       "\n",
       "    .dataframe tbody tr th {\n",
       "        vertical-align: top;\n",
       "    }\n",
       "\n",
       "    .dataframe thead th {\n",
       "        text-align: right;\n",
       "    }\n",
       "</style>\n",
       "<table border=\"1\" class=\"dataframe\">\n",
       "  <thead>\n",
       "    <tr style=\"text-align: right;\">\n",
       "      <th></th>\n",
       "      <th>Pclass</th>\n",
       "      <th>Survived</th>\n",
       "    </tr>\n",
       "  </thead>\n",
       "  <tbody>\n",
       "    <tr>\n",
       "      <th>0</th>\n",
       "      <td>1</td>\n",
       "      <td>0.629630</td>\n",
       "    </tr>\n",
       "    <tr>\n",
       "      <th>1</th>\n",
       "      <td>2</td>\n",
       "      <td>0.472826</td>\n",
       "    </tr>\n",
       "    <tr>\n",
       "      <th>2</th>\n",
       "      <td>3</td>\n",
       "      <td>0.242363</td>\n",
       "    </tr>\n",
       "  </tbody>\n",
       "</table>\n",
       "</div>"
      ],
      "text/plain": [
       "   Pclass  Survived\n",
       "0       1  0.629630\n",
       "1       2  0.472826\n",
       "2       3  0.242363"
      ]
     },
     "execution_count": 214,
     "metadata": {},
     "output_type": "execute_result"
    }
   ],
   "source": [
    " titani_data_train[['Pclass', 'Survived']].groupby(['Pclass'], as_index=False).mean().sort_values(by='Survived', ascending=False)"
   ]
  },
  {
   "cell_type": "code",
   "execution_count": 215,
   "id": "3fb9aaa1-77fb-40cb-8054-17e40e6261a7",
   "metadata": {},
   "outputs": [
    {
     "data": {
      "text/plain": [
       "<AxesSubplot:xlabel='Pclass', ylabel='Survived'>"
      ]
     },
     "execution_count": 215,
     "metadata": {},
     "output_type": "execute_result"
    },
    {
     "data": {
      "image/png": "[encoded data removed]",
      "text/plain": [
       "<Figure size 432x288 with 1 Axes>"
      ]
     },
     "metadata": {
      "needs_background": "light"
     },
     "output_type": "display_data"
    }
   ],
   "source": [
    "import seaborn as sns\n",
    "sns.barplot(x='Pclass', y='Survived', data=titani_data_train)"
   ]
  },
  {
   "cell_type": "code",
   "execution_count": 216,
   "id": "651b0ee6-ea21-4f27-934e-a8b186a5b454",
   "metadata": {},
   "outputs": [
    {
     "data": {
      "text/html": [
       "<div>\n",
       "<style scoped>\n",
       "    .dataframe tbody tr th:only-of-type {\n",
       "        vertical-align: middle;\n",
       "    }\n",
       "\n",
       "    .dataframe tbody tr th {\n",
       "        vertical-align: top;\n",
       "    }\n",
       "\n",
       "    .dataframe thead th {\n",
       "        text-align: right;\n",
       "    }\n",
       "</style>\n",
       "<table border=\"1\" class=\"dataframe\">\n",
       "  <thead>\n",
       "    <tr style=\"text-align: right;\">\n",
       "      <th></th>\n",
       "      <th>Sex</th>\n",
       "      <th>Survived</th>\n",
       "    </tr>\n",
       "  </thead>\n",
       "  <tbody>\n",
       "    <tr>\n",
       "      <th>0</th>\n",
       "      <td>female</td>\n",
       "      <td>0.742038</td>\n",
       "    </tr>\n",
       "    <tr>\n",
       "      <th>1</th>\n",
       "      <td>male</td>\n",
       "      <td>0.188908</td>\n",
       "    </tr>\n",
       "  </tbody>\n",
       "</table>\n",
       "</div>"
      ],
      "text/plain": [
       "      Sex  Survived\n",
       "0  female  0.742038\n",
       "1    male  0.188908"
      ]
     },
     "execution_count": 216,
     "metadata": {},
     "output_type": "execute_result"
    }
   ],
   "source": [
    "titani_data_train[[\"Sex\", \"Survived\"]].groupby(['Sex'], as_index=False).mean().sort_values(by='Survived', ascending=False)"
   ]
  },
  {
   "cell_type": "code",
   "execution_count": 217,
   "id": "c69ef4cf-c8c7-4208-b69e-d3ba1d1628ec",
   "metadata": {},
   "outputs": [
    {
     "data": {
      "text/plain": [
       "<AxesSubplot:xlabel='Sex', ylabel='Survived'>"
      ]
     },
     "execution_count": 217,
     "metadata": {},
     "output_type": "execute_result"
    },
    {
     "data": {
      "image/png": "[encoded data removed]",
      "text/plain": [
       "<Figure size 432x288 with 1 Axes>"
      ]
     },
     "metadata": {
      "needs_background": "light"
     },
     "output_type": "display_data"
    }
   ],
   "source": [
    "import seaborn as sns\n",
    "sns.barplot(x='Sex', y='Survived', data=titani_data_train)"
   ]
  },
  {
   "cell_type": "markdown",
   "id": "b397df56-567d-46c8-963b-18597f3f3ed4",
   "metadata": {},
   "source": [
    "females had about 70% survival chance while males had about 30% survival chance.\n",
    "\n",
    "Next, we investigate the survival rate by the passenger class."
   ]
  },
  {
   "cell_type": "code",
   "execution_count": 218,
   "id": "a648b8bc-9675-45b5-ae30-babb5c8406f0",
   "metadata": {},
   "outputs": [
    {
     "data": {
      "text/html": [
       "<div>\n",
       "<style scoped>\n",
       "    .dataframe tbody tr th:only-of-type {\n",
       "        vertical-align: middle;\n",
       "    }\n",
       "\n",
       "    .dataframe tbody tr th {\n",
       "        vertical-align: top;\n",
       "    }\n",
       "\n",
       "    .dataframe thead th {\n",
       "        text-align: right;\n",
       "    }\n",
       "</style>\n",
       "<table border=\"1\" class=\"dataframe\">\n",
       "  <thead>\n",
       "    <tr style=\"text-align: right;\">\n",
       "      <th></th>\n",
       "      <th>Pclass</th>\n",
       "      <th>Num</th>\n",
       "      <th>ticket_class</th>\n",
       "    </tr>\n",
       "  </thead>\n",
       "  <tbody>\n",
       "    <tr>\n",
       "      <th>0</th>\n",
       "      <td>1</td>\n",
       "      <td>216</td>\n",
       "      <td>first</td>\n",
       "    </tr>\n",
       "    <tr>\n",
       "      <th>1</th>\n",
       "      <td>2</td>\n",
       "      <td>184</td>\n",
       "      <td>second</td>\n",
       "    </tr>\n",
       "    <tr>\n",
       "      <th>2</th>\n",
       "      <td>3</td>\n",
       "      <td>491</td>\n",
       "      <td>third</td>\n",
       "    </tr>\n",
       "  </tbody>\n",
       "</table>\n",
       "</div>"
      ],
      "text/plain": [
       "   Pclass  Num ticket_class\n",
       "0       1  216        first\n",
       "1       2  184       second\n",
       "2       3  491        third"
      ]
     },
     "execution_count": 218,
     "metadata": {},
     "output_type": "execute_result"
    }
   ],
   "source": [
    "train_pclass = titani_data_train.groupby('Pclass').size().reset_index(name='Num')\n",
    "train_pclass['ticket_class'] = ['first', 'second', 'third']\n",
    "train_pclass"
   ]
  },
  {
   "cell_type": "markdown",
   "id": "f4ab1b6b-0552-4525-ae89-1467e60cf455",
   "metadata": {},
   "source": [
    "# 3.3 Scope: how (in)complete is the data\n",
    "For the train data, the scope of age, fare, sibsp, and parch are 79.58, 512.33,\n",
    "8, 6 respectively. For the test data, the scope of age, fare, sibsp, and parch are 75.83, 512.33, 8, 9 respectively."
   ]
  },
  {
   "cell_type": "markdown",
   "id": "0116232a-e459-4953-b6e3-4ca327d9bc15",
   "metadata": {},
   "source": [
    "<span style=\"font-family: Arial; font-size:1.4em; background-color: gold\"><font color='red'>Comments<br>\n",
    "for the scope, it is better to provide the value range instead of the difference between the max and min. The age distribution is a good one.\n",
    "</font>"
   ]
  },
  {
   "cell_type": "code",
   "execution_count": null,
   "id": "52c89a8a-056a-42b0-bc24-8aa89fe65725",
   "metadata": {},
   "outputs": [],
   "source": []
  },
  {
   "cell_type": "code",
   "execution_count": 219,
   "id": "81542a9e-cb45-485d-a19a-c01c7ccb8581",
   "metadata": {},
   "outputs": [
    {
     "name": "stdout",
     "output_type": "stream",
     "text": [
      "Scope of Age:  79.58\n",
      "Scope of Fare:  512.3292\n",
      "Scope of SibSp:  8\n",
      "Scope of Parch:  6\n"
     ]
    }
   ],
   "source": [
    "# scope analysis of train data\n",
    "print('Scope of Age: ', titani_data_train['Age'].max() - titani_data_train['Age'].min())\n",
    "print('Scope of Fare: ', titani_data_train['Fare'].max() - titani_data_train['Fare'].min())\n",
    "print('Scope of SibSp: ',titani_data_train['SibSp'].max() - titani_data_train['SibSp'].min())\n",
    "print('Scope of Parch: ', titani_data_train['Parch'].max() - titani_data_train['Parch'].min())"
   ]
  },
  {
   "cell_type": "code",
   "execution_count": 220,
   "id": "c48c9a96-1c59-4304-8ac7-575ad7646dd5",
   "metadata": {},
   "outputs": [
    {
     "data": {
      "image/png": "[encoded data removed]",
      "text/plain": [
       "<Figure size 432x288 with 1 Axes>"
      ]
     },
     "metadata": {
      "needs_background": "light"
     },
     "output_type": "display_data"
    }
   ],
   "source": [
    "plt.hist(titani_data_train['Age'])\n",
    "plt.title(\"Distribution of Age\")\n",
    "plt.xlabel('Age')\n",
    "plt.show()"
   ]
  },
  {
   "cell_type": "markdown",
   "id": "96b71ea0-b89b-4c8f-be51-395168e520d2",
   "metadata": {},
   "source": [
    "Children less than 15 years had higher survival chances. Passengers aged 20-40 were more likely to die. Passengers aged about 65 - 75 had an almost 0 survival chance. One passenger aged 80 years survived."
   ]
  },
  {
   "cell_type": "code",
   "execution_count": 221,
   "id": "62f42e26-606c-454a-9fc8-d1675d66a90b",
   "metadata": {},
   "outputs": [
    {
     "data": {
      "image/png": "[encoded data removed]",
      "text/plain": [
       "<Figure size 432x288 with 1 Axes>"
      ]
     },
     "metadata": {
      "needs_background": "light"
     },
     "output_type": "display_data"
    }
   ],
   "source": [
    "plt.hist(titani_data_train['Fare'])\n",
    "plt.title(\"Analysis by Fare'\")\n",
    "plt.xlabel('Fare')\n",
    "plt.show()"
   ]
  },
  {
   "cell_type": "code",
   "execution_count": 222,
   "id": "a03282a5-2d55-4c2a-be5b-848eac080720",
   "metadata": {},
   "outputs": [
    {
     "data": {
      "image/png": "[encoded data removed]",
      "text/plain": [
       "<Figure size 432x288 with 1 Axes>"
      ]
     },
     "metadata": {
      "needs_background": "light"
     },
     "output_type": "display_data"
    }
   ],
   "source": [
    "plt.hist(titani_data_train['SibSp'])\n",
    "plt.title(\"Analysis by SibSp'\")\n",
    "plt.xlabel('SibSp')\n",
    "plt.show()"
   ]
  },
  {
   "cell_type": "code",
   "execution_count": 223,
   "id": "7c29af1f-a6c2-42ac-8eba-e77a094100ee",
   "metadata": {},
   "outputs": [
    {
     "data": {
      "image/png": "[encoded data removed]",
      "text/plain": [
       "<Figure size 432x288 with 1 Axes>"
      ]
     },
     "metadata": {
      "needs_background": "light"
     },
     "output_type": "display_data"
    }
   ],
   "source": [
    "plt.hist(titani_data_train['Parch'])\n",
    "plt.title(\"Analysis by parch'\")\n",
    "plt.xlabel('Parch')\n",
    "plt.show()"
   ]
  },
  {
   "cell_type": "code",
   "execution_count": 224,
   "id": "d21e2d42-cb13-4e79-9f81-cfaf472419f0",
   "metadata": {},
   "outputs": [
    {
     "name": "stdout",
     "output_type": "stream",
     "text": [
      "Scope of Age:  75.83\n",
      "Scope of Fare:  512.3292\n",
      "Scope of SibSp:  8\n",
      "Scope of Parch:  9\n"
     ]
    }
   ],
   "source": [
    "print('Scope of Age: ', titani_data_test['Age'].max() - titani_data_test['Age'].min())\n",
    "print('Scope of Fare: ', titani_data_test['Fare'].max() - titani_data_test['Fare'].min())\n",
    "print('Scope of SibSp: ', titani_data_test['SibSp'].max() - titani_data_test['SibSp'].min())\n",
    "print('Scope of Parch: ', titani_data_test['Parch'].max() - titani_data_test['Parch'].min())"
   ]
  },
  {
   "cell_type": "code",
   "execution_count": 225,
   "id": "437d15fc-d136-454e-8a52-b8b9a5b37728",
   "metadata": {},
   "outputs": [
    {
     "data": {
      "image/png": "[encoded data removed]",
      "text/plain": [
       "<Figure size 432x288 with 1 Axes>"
      ]
     },
     "metadata": {
      "needs_background": "light"
     },
     "output_type": "display_data"
    }
   ],
   "source": [
    "plt.hist(titani_data_test['Parch'])\n",
    "plt.title(\"Analysis by parch'\")\n",
    "plt.xlabel('Parch')\n",
    "plt.show()"
   ]
  },
  {
   "cell_type": "code",
   "execution_count": null,
   "id": "b4b1cfd0-44b1-448a-9ec4-f67ba57c1d28",
   "metadata": {},
   "outputs": [],
   "source": []
  },
  {
   "cell_type": "code",
   "execution_count": 226,
   "id": "908cfafb-1456-4856-86c3-560b64354824",
   "metadata": {},
   "outputs": [
    {
     "data": {
      "image/png": "[encoded data removed]",
      "text/plain": [
       "<Figure size 432x288 with 1 Axes>"
      ]
     },
     "metadata": {
      "needs_background": "light"
     },
     "output_type": "display_data"
    }
   ],
   "source": [
    "plt.hist(titani_data_test['SibSp'])\n",
    "plt.title(\"Analysis by SibSp'\")\n",
    "plt.xlabel('SibSp')\n",
    "plt.show()"
   ]
  },
  {
   "cell_type": "markdown",
   "id": "c8eca4fe-efaa-403c-998e-6db65ac58efa",
   "metadata": {},
   "source": [
    "Who has a SibSp less survived. "
   ]
  },
  {
   "cell_type": "code",
   "execution_count": 227,
   "id": "3bc907a3-2dcd-4ccb-9307-a5ec914f8dda",
   "metadata": {},
   "outputs": [
    {
     "data": {
      "image/png": "[encoded data removed]",
      "text/plain": [
       "<Figure size 432x288 with 1 Axes>"
      ]
     },
     "metadata": {
      "needs_background": "light"
     },
     "output_type": "display_data"
    }
   ],
   "source": [
    "plt.hist(titani_data_test['Fare'])\n",
    "plt.title(\"Analysis by Fare'\")\n",
    "plt.xlabel('Fare')\n",
    "plt.show()"
   ]
  },
  {
   "cell_type": "code",
   "execution_count": 228,
   "id": "d60f3daf-a370-4425-bf11-ad593a0d4497",
   "metadata": {},
   "outputs": [
    {
     "data": {
      "image/png": "[encoded data removed]",
      "text/plain": [
       "<Figure size 432x288 with 1 Axes>"
      ]
     },
     "metadata": {
      "needs_background": "light"
     },
     "output_type": "display_data"
    }
   ],
   "source": [
    "plt.hist(titani_data_test['Age'])\n",
    "plt.title(\"Distribution of Age\")\n",
    "plt.xlabel('Age')\n",
    "plt.show()"
   ]
  },
  {
   "cell_type": "markdown",
   "id": "84d14132-5f30-496d-b5dc-a36cee07bfb2",
   "metadata": {},
   "source": [
    "Children less than 15 years had higher survival chances. Passengers aged 20-40 were more likely to die. Passengers aged about 65 - 75 had an almost 0 survival chance. One passenger aged 80 years survived."
   ]
  },
  {
   "cell_type": "markdown",
   "id": "481b08ee-2fe4-4ee5-bfa5-a38a193167ce",
   "metadata": {},
   "source": [
    "# 3.4 Temporality:  how is the data situated in time"
   ]
  },
  {
   "cell_type": "markdown",
   "id": "4cf50381-de54-4c87-96c7-bcd5b2f0561a",
   "metadata": {},
   "source": [
    "Since all the data don't include any information related to time, I think this property cannot be identified in this problem."
   ]
  },
  {
   "cell_type": "markdown",
   "id": "dbca6e32-8faf-4bf9-b03e-cf18d6b156ed",
   "metadata": {},
   "source": [
    "# 3.5 Faithfulness:"
   ]
  },
  {
   "cell_type": "markdown",
   "id": "a1a891ef-0fb7-4fd6-8c24-0b06306b9afc",
   "metadata": {},
   "source": [
    "<span style=\"font-family: Arial; font-size:1.4em; background-color: gold;\"><font color='red'>Comments<br>\n",
    "It is better to provide a conclusion of your evidence in terms of faithfulness. You will also need to check NaN values.</font>"
   ]
  },
  {
   "cell_type": "markdown",
   "id": "12af1266-8460-4fe2-a1f4-b6cb67cf170c",
   "metadata": {},
   "source": [
    "*`Here is the changes of answer! faithfulness?`* "
   ]
  },
  {
   "cell_type": "markdown",
   "id": "908fb821-e1b1-4488-a18b-fc569ff794ec",
   "metadata": {},
   "source": [
    "<font color='blue'>***Answer:“faithful” if we believe it accurately captures reality. Combining the analysis of train data and test data, the scope of age is [0.42,80], the scope of fare is [0,512.33], the scope of sibsp is [0,8], and the scope of parch is [0,6]. It seems like reasonable and credible.***</font>"
   ]
  },
  {
   "cell_type": "markdown",
   "id": "c61f164a-b86f-4f43-aef9-e3b7b63f80a4",
   "metadata": {},
   "source": [
    "Combining the analysis of train data and test data"
   ]
  },
  {
   "cell_type": "code",
   "execution_count": 229,
   "id": "c554e816-f646-4852-a80b-f0558fac85ce",
   "metadata": {},
   "outputs": [
    {
     "name": "stdout",
     "output_type": "stream",
     "text": [
      "Range of Age:  0.42 - 80.0\n",
      "Range of Fare:  0.0 - 512.3292\n",
      "Range of SibSp:  0 - 8\n",
      "Range of Parch:  0 - 6\n"
     ]
    }
   ],
   "source": [
    "print('Range of Age: ', titani_data_train['Age'].min(), \"-\", titani_data_train['Age'].max())\n",
    "print('Range of Fare: ', titani_data_train['Fare'].min(), \"-\",  titani_data_train['Fare'].max())\n",
    "print('Range of SibSp: ', titani_data_train['SibSp'].min(), \"-\",  titani_data_train['SibSp'].max())\n",
    "print('Range of Parch: ', titani_data_train['Parch'].min(), \"-\",  titani_data_train['Parch'].max())"
   ]
  },
  {
   "cell_type": "code",
   "execution_count": 230,
   "id": "6cc3ab50-6a93-4810-9639-c7fc616b70f0",
   "metadata": {},
   "outputs": [
    {
     "name": "stdout",
     "output_type": "stream",
     "text": [
      "Range of Age:  0.17 - 76.0\n",
      "Range of Fare:  0.0 - 512.3292\n",
      "Range of SibSp:  0 - 8\n",
      "Range of Parch:  0 - 9\n"
     ]
    }
   ],
   "source": [
    "print('Range of Age: ', titani_data_test['Age'].min(), \"-\", titani_data_test['Age'].max())\n",
    "print('Range of Fare: ', titani_data_test['Fare'].min(), \"-\",  titani_data_test['Fare'].max())\n",
    "print('Range of SibSp: ', titani_data_test['SibSp'].min(), \"-\",  titani_data_test['SibSp'].max())\n",
    "print('Range of Parch: ', titani_data_test['Parch'].min(), \"-\",  titani_data_test['Parch'].max())"
   ]
  },
  {
   "cell_type": "markdown",
   "id": "1dd62b1d-04f7-49d2-a74f-e14de5d14deb",
   "metadata": {},
   "source": [
    "# 4. According to the data wrangling (maybe some visualizations), is the data obtained representative for the problem according to your data population? What kind of assumptions are needed that the analysis using the current data can solve the problem? [5 points]"
   ]
  },
  {
   "cell_type": "markdown",
   "id": "fba8fb8d-9dfa-447e-a103-c5e5645cb389",
   "metadata": {},
   "source": [
    "scope of the age, SibSp, Parch is bigger enough and the data distribution is reasonable, such as Pclass and Sex. b. Assumptions: All the information in the data is real and correct.\n",
    "Graphs are powerful visualization tools. In the titanic data, Age, Sex, Pclass and passenger class were important predictors of survival. Identifying such predictors is important for predictive modelling. we will investigate how different variables intercted with each other and with the survival rate."
   ]
  },
  {
   "cell_type": "markdown",
   "id": "113d6516-d36b-4db1-95a2-2167c99d2238",
   "metadata": {},
   "source": [
    "# 5. Comparing the data population and the given data, guess what kind of sampling method maybe used during the data collection and why do you guess so. [2 points]"
   ]
  },
  {
   "cell_type": "markdown",
   "id": "92d2e374-2552-4041-a5a7-c84a219cd289",
   "metadata": {},
   "source": [
    "Using statitstics functions for data collection. \n",
    "Categorical: Survived, Sex, and Embarked. Ordinal: Pclass."
   ]
  },
  {
   "cell_type": "markdown",
   "id": "29cf75e5-4b0c-4bca-a2c9-5290882cad92",
   "metadata": {},
   "source": [
    "\n",
    "Total samples are 891 or 40% of the actual number of passengers on board the Titanic (2,224)."
   ]
  },
  {
   "cell_type": "markdown",
   "id": "44533786-da4f-4745-a4af-0112535b6020",
   "metadata": {},
   "source": [
    "Ticket class. 1 stands for First class ticket. 2 stands for Second class ticket. 3 stands for Third class ticket.\n",
    "data: Age, Sex who has siblin , Fare (How much money the passenger has paid for the travel) and Passenger class were important predictors of survival. Identifying such predictors is important for predictive modelling."
   ]
  },
  {
   "cell_type": "markdown",
   "id": "b156e595-54e3-48a0-92b6-a9e2205563a2",
   "metadata": {},
   "source": [
    "<span style=\"font-family: Arial; font-size:1.4em;background-color: gold;\"><font color='red'>Comments<br>\n",
    "More assumptions can be made, e.g., passengers not included in this sample are following similar pattern.<br>\n",
    "Comments<br>\n",
    "*Which statistics function? Why are you guessing so? No discussion.*<br>\n",
    "Comments<br>\n",
    "Better to emphasize the key points.</font>"
   ]
  },
  {
   "cell_type": "markdown",
   "id": "d25c950f-8593-4397-8f71-473706dec555",
   "metadata": {},
   "source": [
    "*`Here is the changes of answer! statistics function?`* "
   ]
  },
  {
   "cell_type": "markdown",
   "id": "8359df19-51b1-4178-8d2f-3aff684c5fd7",
   "metadata": {},
   "source": [
    "<font color='blue'>***Answer:\n",
    "    stratified sampling was used during the data collection, since we have three classes in the train/test data: first, second and third class.***</font>"
   ]
  },
  {
   "cell_type": "markdown",
   "id": "fb52a65f-ffd9-4e60-b2f5-07eba8f0c25e",
   "metadata": {},
   "source": [
    "<hr>\n",
    "<hr>\n",
    "<hr>"
   ]
  },
  {
   "cell_type": "markdown",
   "id": "d993b4ac-47ef-41f2-9985-cc202d7cd1c9",
   "metadata": {},
   "source": [
    "# <span style=\"font-family: Arial; font-size:1.4em; background-color: yellow;\"> ***Starting of stage-2*** \n"
   ]
  },
  {
   "cell_type": "markdown",
   "id": "2857e3c7-53d5-44a7-ba6c-e116ca205a26",
   "metadata": {},
   "source": [
    "`Here is Starting of stage-2!`"
   ]
  },
  {
   "cell_type": "markdown",
   "id": "fdacb2ac-dcc5-48f3-b025-b2b7990cf252",
   "metadata": {},
   "source": [
    "## 1.2 EDA and Data Transformation"
   ]
  },
  {
   "cell_type": "markdown",
   "id": "58618466-28ce-4b7c-8e71-568dec6cb8a7",
   "metadata": {},
   "source": [
    "This is an open question. The goal of this section is to prepare the data ready for modeling. First, the raw data you have may not be ready for even very simple EDA. \n",
    "\n",
    "Describe the transformations of the data you have applied if applicable. Why or Why not? [10 points]\n",
    "Second, you probably have a certain number of features that you can use. You may choose to use all or some.\n",
    "\n",
    "What are the features you choose to use for modeling? Why? Note: You may use EDA to show the reason. [5 points]\n",
    "Finally, you will have the data ready for prediction. \n",
    "\n",
    "Readiness of the data. [2 points] [HINT: for some models, the value range of your features can affect the model a lot. Data normalization may be needed, o.w., one feature with huge values may dominate the modeling effect]"
   ]
  },
  {
   "cell_type": "code",
   "execution_count": 231,
   "id": "d42c01da-f682-4a6f-a5d4-c635575ef57b",
   "metadata": {},
   "outputs": [
    {
     "name": "stdout",
     "output_type": "stream",
     "text": [
      "<class 'pandas.core.frame.DataFrame'>\n",
      "RangeIndex: 891 entries, 0 to 890\n",
      "Data columns (total 12 columns):\n",
      " #   Column       Non-Null Count  Dtype  \n",
      "---  ------       --------------  -----  \n",
      " 0   PassengerId  891 non-null    int64  \n",
      " 1   Survived     891 non-null    int64  \n",
      " 2   Pclass       891 non-null    int64  \n",
      " 3   Name         891 non-null    object \n",
      " 4   Sex          891 non-null    object \n",
      " 5   Age          714 non-null    float64\n",
      " 6   SibSp        891 non-null    int64  \n",
      " 7   Parch        891 non-null    int64  \n",
      " 8   Ticket       891 non-null    object \n",
      " 9   Fare         891 non-null    float64\n",
      " 10  Cabin        204 non-null    object \n",
      " 11  Embarked     889 non-null    object \n",
      "dtypes: float64(2), int64(5), object(5)\n",
      "memory usage: 83.7+ KB\n"
     ]
    }
   ],
   "source": [
    "titani_data_train.info()"
   ]
  },
  {
   "cell_type": "code",
   "execution_count": 232,
   "id": "36ea4005-4f25-4126-aa39-f8352609c063",
   "metadata": {},
   "outputs": [
    {
     "data": {
      "text/html": [
       "<div>\n",
       "<style scoped>\n",
       "    .dataframe tbody tr th:only-of-type {\n",
       "        vertical-align: middle;\n",
       "    }\n",
       "\n",
       "    .dataframe tbody tr th {\n",
       "        vertical-align: top;\n",
       "    }\n",
       "\n",
       "    .dataframe thead th {\n",
       "        text-align: right;\n",
       "    }\n",
       "</style>\n",
       "<table border=\"1\" class=\"dataframe\">\n",
       "  <thead>\n",
       "    <tr style=\"text-align: right;\">\n",
       "      <th></th>\n",
       "      <th>PassengerId</th>\n",
       "      <th>Survived</th>\n",
       "      <th>Pclass</th>\n",
       "      <th>Name</th>\n",
       "      <th>Sex</th>\n",
       "      <th>Age</th>\n",
       "      <th>SibSp</th>\n",
       "      <th>Parch</th>\n",
       "      <th>Ticket</th>\n",
       "      <th>Fare</th>\n",
       "      <th>Cabin</th>\n",
       "      <th>Embarked</th>\n",
       "    </tr>\n",
       "  </thead>\n",
       "  <tbody>\n",
       "    <tr>\n",
       "      <th>0</th>\n",
       "      <td>1</td>\n",
       "      <td>0</td>\n",
       "      <td>3</td>\n",
       "      <td>Braund, Mr. Owen Harris</td>\n",
       "      <td>male</td>\n",
       "      <td>22.0</td>\n",
       "      <td>1</td>\n",
       "      <td>0</td>\n",
       "      <td>A/5 21171</td>\n",
       "      <td>7.2500</td>\n",
       "      <td>NaN</td>\n",
       "      <td>S</td>\n",
       "    </tr>\n",
       "    <tr>\n",
       "      <th>1</th>\n",
       "      <td>2</td>\n",
       "      <td>1</td>\n",
       "      <td>1</td>\n",
       "      <td>Cumings, Mrs. John Bradley (Florence Briggs Th...</td>\n",
       "      <td>female</td>\n",
       "      <td>38.0</td>\n",
       "      <td>1</td>\n",
       "      <td>0</td>\n",
       "      <td>PC 17599</td>\n",
       "      <td>71.2833</td>\n",
       "      <td>C85</td>\n",
       "      <td>C</td>\n",
       "    </tr>\n",
       "    <tr>\n",
       "      <th>2</th>\n",
       "      <td>3</td>\n",
       "      <td>1</td>\n",
       "      <td>3</td>\n",
       "      <td>Heikkinen, Miss. Laina</td>\n",
       "      <td>female</td>\n",
       "      <td>26.0</td>\n",
       "      <td>0</td>\n",
       "      <td>0</td>\n",
       "      <td>STON/O2. 3101282</td>\n",
       "      <td>7.9250</td>\n",
       "      <td>NaN</td>\n",
       "      <td>S</td>\n",
       "    </tr>\n",
       "    <tr>\n",
       "      <th>3</th>\n",
       "      <td>4</td>\n",
       "      <td>1</td>\n",
       "      <td>1</td>\n",
       "      <td>Futrelle, Mrs. Jacques Heath (Lily May Peel)</td>\n",
       "      <td>female</td>\n",
       "      <td>35.0</td>\n",
       "      <td>1</td>\n",
       "      <td>0</td>\n",
       "      <td>113803</td>\n",
       "      <td>53.1000</td>\n",
       "      <td>C123</td>\n",
       "      <td>S</td>\n",
       "    </tr>\n",
       "    <tr>\n",
       "      <th>4</th>\n",
       "      <td>5</td>\n",
       "      <td>0</td>\n",
       "      <td>3</td>\n",
       "      <td>Allen, Mr. William Henry</td>\n",
       "      <td>male</td>\n",
       "      <td>35.0</td>\n",
       "      <td>0</td>\n",
       "      <td>0</td>\n",
       "      <td>373450</td>\n",
       "      <td>8.0500</td>\n",
       "      <td>NaN</td>\n",
       "      <td>S</td>\n",
       "    </tr>\n",
       "    <tr>\n",
       "      <th>5</th>\n",
       "      <td>6</td>\n",
       "      <td>0</td>\n",
       "      <td>3</td>\n",
       "      <td>Moran, Mr. James</td>\n",
       "      <td>male</td>\n",
       "      <td>NaN</td>\n",
       "      <td>0</td>\n",
       "      <td>0</td>\n",
       "      <td>330877</td>\n",
       "      <td>8.4583</td>\n",
       "      <td>NaN</td>\n",
       "      <td>Q</td>\n",
       "    </tr>\n",
       "    <tr>\n",
       "      <th>6</th>\n",
       "      <td>7</td>\n",
       "      <td>0</td>\n",
       "      <td>1</td>\n",
       "      <td>McCarthy, Mr. Timothy J</td>\n",
       "      <td>male</td>\n",
       "      <td>54.0</td>\n",
       "      <td>0</td>\n",
       "      <td>0</td>\n",
       "      <td>17463</td>\n",
       "      <td>51.8625</td>\n",
       "      <td>E46</td>\n",
       "      <td>S</td>\n",
       "    </tr>\n",
       "    <tr>\n",
       "      <th>7</th>\n",
       "      <td>8</td>\n",
       "      <td>0</td>\n",
       "      <td>3</td>\n",
       "      <td>Palsson, Master. Gosta Leonard</td>\n",
       "      <td>male</td>\n",
       "      <td>2.0</td>\n",
       "      <td>3</td>\n",
       "      <td>1</td>\n",
       "      <td>349909</td>\n",
       "      <td>21.0750</td>\n",
       "      <td>NaN</td>\n",
       "      <td>S</td>\n",
       "    </tr>\n",
       "  </tbody>\n",
       "</table>\n",
       "</div>"
      ],
      "text/plain": [
       "   PassengerId  Survived  Pclass  \\\n",
       "0            1         0       3   \n",
       "1            2         1       1   \n",
       "2            3         1       3   \n",
       "3            4         1       1   \n",
       "4            5         0       3   \n",
       "5            6         0       3   \n",
       "6            7         0       1   \n",
       "7            8         0       3   \n",
       "\n",
       "                                                Name     Sex   Age  SibSp  \\\n",
       "0                            Braund, Mr. Owen Harris    male  22.0      1   \n",
       "1  Cumings, Mrs. John Bradley (Florence Briggs Th...  female  38.0      1   \n",
       "2                             Heikkinen, Miss. Laina  female  26.0      0   \n",
       "3       Futrelle, Mrs. Jacques Heath (Lily May Peel)  female  35.0      1   \n",
       "4                           Allen, Mr. William Henry    male  35.0      0   \n",
       "5                                   Moran, Mr. James    male   NaN      0   \n",
       "6                            McCarthy, Mr. Timothy J    male  54.0      0   \n",
       "7                     Palsson, Master. Gosta Leonard    male   2.0      3   \n",
       "\n",
       "   Parch            Ticket     Fare Cabin Embarked  \n",
       "0      0         A/5 21171   7.2500   NaN        S  \n",
       "1      0          PC 17599  71.2833   C85        C  \n",
       "2      0  STON/O2. 3101282   7.9250   NaN        S  \n",
       "3      0            113803  53.1000  C123        S  \n",
       "4      0            373450   8.0500   NaN        S  \n",
       "5      0            330877   8.4583   NaN        Q  \n",
       "6      0             17463  51.8625   E46        S  \n",
       "7      1            349909  21.0750   NaN        S  "
      ]
     },
     "execution_count": 232,
     "metadata": {},
     "output_type": "execute_result"
    }
   ],
   "source": [
    "#  train data before data transformation\n",
    "titani_data_train.head(8)"
   ]
  },
  {
   "cell_type": "markdown",
   "id": "bd05af3d-1788-42eb-9f38-5db75c337847",
   "metadata": {},
   "source": [
    "<font color='blue'>**Answer: According to the above table, it requires a lot of change from alphabetic to numerical format. We can, for example, change a male to a 0 and a female to a 1. Some cells that contain missing values (NaN = not a number)\n",
    "***</font>\n",
    "\n",
    "<font color='blue'>1. Sibsp\t# of siblings / spouses aboard the Titanic*</font>    \n",
    "<font color='blue'>2. *Parch\t# of parents / children aboard the Titanic*</font>    \n",
    "\n",
    "**SibSp and Parch would make more sense as a combined data, that shows the total number of relativescolumn**"
   ]
  },
  {
   "cell_type": "code",
   "execution_count": 233,
   "id": "670f9877-e09a-4566-b1f1-de64b5344a74",
   "metadata": {},
   "outputs": [
    {
     "data": {
      "text/plain": [
       "(891, 12)"
      ]
     },
     "execution_count": 233,
     "metadata": {},
     "output_type": "execute_result"
    }
   ],
   "source": [
    "titani_data_train.shape"
   ]
  },
  {
   "cell_type": "code",
   "execution_count": 234,
   "id": "e442e63f-a30f-4b30-ae07-52ec09b1539e",
   "metadata": {},
   "outputs": [
    {
     "data": {
      "text/html": [
       "<div>\n",
       "<style scoped>\n",
       "    .dataframe tbody tr th:only-of-type {\n",
       "        vertical-align: middle;\n",
       "    }\n",
       "\n",
       "    .dataframe tbody tr th {\n",
       "        vertical-align: top;\n",
       "    }\n",
       "\n",
       "    .dataframe thead th {\n",
       "        text-align: right;\n",
       "    }\n",
       "</style>\n",
       "<table border=\"1\" class=\"dataframe\">\n",
       "  <thead>\n",
       "    <tr style=\"text-align: right;\">\n",
       "      <th></th>\n",
       "      <th>PassengerId</th>\n",
       "      <th>Survived</th>\n",
       "      <th>Pclass</th>\n",
       "      <th>Age</th>\n",
       "      <th>SibSp</th>\n",
       "      <th>Parch</th>\n",
       "      <th>Fare</th>\n",
       "    </tr>\n",
       "  </thead>\n",
       "  <tbody>\n",
       "    <tr>\n",
       "      <th>count</th>\n",
       "      <td>891.000000</td>\n",
       "      <td>891.000000</td>\n",
       "      <td>891.000000</td>\n",
       "      <td>714.000000</td>\n",
       "      <td>891.000000</td>\n",
       "      <td>891.000000</td>\n",
       "      <td>891.000000</td>\n",
       "    </tr>\n",
       "    <tr>\n",
       "      <th>mean</th>\n",
       "      <td>446.000000</td>\n",
       "      <td>0.383838</td>\n",
       "      <td>2.308642</td>\n",
       "      <td>29.699118</td>\n",
       "      <td>0.523008</td>\n",
       "      <td>0.381594</td>\n",
       "      <td>32.204208</td>\n",
       "    </tr>\n",
       "    <tr>\n",
       "      <th>std</th>\n",
       "      <td>257.353842</td>\n",
       "      <td>0.486592</td>\n",
       "      <td>0.836071</td>\n",
       "      <td>14.526497</td>\n",
       "      <td>1.102743</td>\n",
       "      <td>0.806057</td>\n",
       "      <td>49.693429</td>\n",
       "    </tr>\n",
       "    <tr>\n",
       "      <th>min</th>\n",
       "      <td>1.000000</td>\n",
       "      <td>0.000000</td>\n",
       "      <td>1.000000</td>\n",
       "      <td>0.420000</td>\n",
       "      <td>0.000000</td>\n",
       "      <td>0.000000</td>\n",
       "      <td>0.000000</td>\n",
       "    </tr>\n",
       "    <tr>\n",
       "      <th>25%</th>\n",
       "      <td>223.500000</td>\n",
       "      <td>0.000000</td>\n",
       "      <td>2.000000</td>\n",
       "      <td>20.125000</td>\n",
       "      <td>0.000000</td>\n",
       "      <td>0.000000</td>\n",
       "      <td>7.910400</td>\n",
       "    </tr>\n",
       "    <tr>\n",
       "      <th>50%</th>\n",
       "      <td>446.000000</td>\n",
       "      <td>0.000000</td>\n",
       "      <td>3.000000</td>\n",
       "      <td>28.000000</td>\n",
       "      <td>0.000000</td>\n",
       "      <td>0.000000</td>\n",
       "      <td>14.454200</td>\n",
       "    </tr>\n",
       "    <tr>\n",
       "      <th>75%</th>\n",
       "      <td>668.500000</td>\n",
       "      <td>1.000000</td>\n",
       "      <td>3.000000</td>\n",
       "      <td>38.000000</td>\n",
       "      <td>1.000000</td>\n",
       "      <td>0.000000</td>\n",
       "      <td>31.000000</td>\n",
       "    </tr>\n",
       "    <tr>\n",
       "      <th>max</th>\n",
       "      <td>891.000000</td>\n",
       "      <td>1.000000</td>\n",
       "      <td>3.000000</td>\n",
       "      <td>80.000000</td>\n",
       "      <td>8.000000</td>\n",
       "      <td>6.000000</td>\n",
       "      <td>512.329200</td>\n",
       "    </tr>\n",
       "  </tbody>\n",
       "</table>\n",
       "</div>"
      ],
      "text/plain": [
       "       PassengerId    Survived      Pclass         Age       SibSp  \\\n",
       "count   891.000000  891.000000  891.000000  714.000000  891.000000   \n",
       "mean    446.000000    0.383838    2.308642   29.699118    0.523008   \n",
       "std     257.353842    0.486592    0.836071   14.526497    1.102743   \n",
       "min       1.000000    0.000000    1.000000    0.420000    0.000000   \n",
       "25%     223.500000    0.000000    2.000000   20.125000    0.000000   \n",
       "50%     446.000000    0.000000    3.000000   28.000000    0.000000   \n",
       "75%     668.500000    1.000000    3.000000   38.000000    1.000000   \n",
       "max     891.000000    1.000000    3.000000   80.000000    8.000000   \n",
       "\n",
       "            Parch        Fare  \n",
       "count  891.000000  891.000000  \n",
       "mean     0.381594   32.204208  \n",
       "std      0.806057   49.693429  \n",
       "min      0.000000    0.000000  \n",
       "25%      0.000000    7.910400  \n",
       "50%      0.000000   14.454200  \n",
       "75%      0.000000   31.000000  \n",
       "max      6.000000  512.329200  "
      ]
     },
     "execution_count": 234,
     "metadata": {},
     "output_type": "execute_result"
    }
   ],
   "source": [
    "\n",
    "titani_data_train.describe()"
   ]
  },
  {
   "cell_type": "markdown",
   "id": "d051ebe8-9344-4b58-8d6e-63522e9e95b5",
   "metadata": {},
   "source": [
    " The shape of the dataset and describe will give us a tatistics of the numerical data"
   ]
  },
  {
   "cell_type": "markdown",
   "id": "859baf03-2721-40b8-beb0-55f3f90cd552",
   "metadata": {},
   "source": [
    "# Look at the missing data"
   ]
  },
  {
   "cell_type": "code",
   "execution_count": 235,
   "id": "4a5986eb-3a55-4af7-8317-466fadbb1516",
   "metadata": {},
   "outputs": [
    {
     "data": {
      "text/html": [
       "<div>\n",
       "<style scoped>\n",
       "    .dataframe tbody tr th:only-of-type {\n",
       "        vertical-align: middle;\n",
       "    }\n",
       "\n",
       "    .dataframe tbody tr th {\n",
       "        vertical-align: top;\n",
       "    }\n",
       "\n",
       "    .dataframe thead th {\n",
       "        text-align: right;\n",
       "    }\n",
       "</style>\n",
       "<table border=\"1\" class=\"dataframe\">\n",
       "  <thead>\n",
       "    <tr style=\"text-align: right;\">\n",
       "      <th></th>\n",
       "      <th>Total</th>\n",
       "      <th>%</th>\n",
       "    </tr>\n",
       "  </thead>\n",
       "  <tbody>\n",
       "    <tr>\n",
       "      <th>Cabin</th>\n",
       "      <td>687</td>\n",
       "      <td>77.1</td>\n",
       "    </tr>\n",
       "    <tr>\n",
       "      <th>Age</th>\n",
       "      <td>177</td>\n",
       "      <td>19.9</td>\n",
       "    </tr>\n",
       "    <tr>\n",
       "      <th>Embarked</th>\n",
       "      <td>2</td>\n",
       "      <td>0.2</td>\n",
       "    </tr>\n",
       "    <tr>\n",
       "      <th>PassengerId</th>\n",
       "      <td>0</td>\n",
       "      <td>0.0</td>\n",
       "    </tr>\n",
       "    <tr>\n",
       "      <th>Survived</th>\n",
       "      <td>0</td>\n",
       "      <td>0.0</td>\n",
       "    </tr>\n",
       "    <tr>\n",
       "      <th>Pclass</th>\n",
       "      <td>0</td>\n",
       "      <td>0.0</td>\n",
       "    </tr>\n",
       "    <tr>\n",
       "      <th>Name</th>\n",
       "      <td>0</td>\n",
       "      <td>0.0</td>\n",
       "    </tr>\n",
       "    <tr>\n",
       "      <th>Sex</th>\n",
       "      <td>0</td>\n",
       "      <td>0.0</td>\n",
       "    </tr>\n",
       "    <tr>\n",
       "      <th>SibSp</th>\n",
       "      <td>0</td>\n",
       "      <td>0.0</td>\n",
       "    </tr>\n",
       "    <tr>\n",
       "      <th>Parch</th>\n",
       "      <td>0</td>\n",
       "      <td>0.0</td>\n",
       "    </tr>\n",
       "    <tr>\n",
       "      <th>Ticket</th>\n",
       "      <td>0</td>\n",
       "      <td>0.0</td>\n",
       "    </tr>\n",
       "    <tr>\n",
       "      <th>Fare</th>\n",
       "      <td>0</td>\n",
       "      <td>0.0</td>\n",
       "    </tr>\n",
       "  </tbody>\n",
       "</table>\n",
       "</div>"
      ],
      "text/plain": [
       "             Total     %\n",
       "Cabin          687  77.1\n",
       "Age            177  19.9\n",
       "Embarked         2   0.2\n",
       "PassengerId      0   0.0\n",
       "Survived         0   0.0\n",
       "Pclass           0   0.0\n",
       "Name             0   0.0\n",
       "Sex              0   0.0\n",
       "SibSp            0   0.0\n",
       "Parch            0   0.0\n",
       "Ticket           0   0.0\n",
       "Fare             0   0.0"
      ]
     },
     "execution_count": 235,
     "metadata": {},
     "output_type": "execute_result"
    }
   ],
   "source": [
    "total = titani_data_train.isnull().sum().sort_values(ascending=False)\n",
    "percent1 = titani_data_train.isnull().sum()/titani_data_train.isnull().count()*100\n",
    "percent2 = (round(percent1, 1)).sort_values(ascending=False)\n",
    "missingData = pd.concat([total, percent2], axis=1, keys=['Total', '%'])\n",
    "missingData.head(12)"
   ]
  },
  {
   "cell_type": "markdown",
   "id": "16e81393-96c0-4347-b922-cd27b9fe92fb",
   "metadata": {},
   "source": [
    "<font color='blue'>* ‘Age’ feature, which has 177 missing values \n",
    "\n",
    "<font color='blue'>* \"Cabin\" 77% of it is missing----->drop Because we have a lot of missing data! \n",
    "</font>"
   ]
  },
  {
   "cell_type": "markdown",
   "id": "b197ff08-04c9-4ecf-afef-79c67a524448",
   "metadata": {},
   "source": [
    "<font color='blue'>** Convert ‘Sex’ data into numeric**"
   ]
  },
  {
   "cell_type": "code",
   "execution_count": 236,
   "id": "fc74f6cd-627c-4367-89f0-1904cae67969",
   "metadata": {},
   "outputs": [
    {
     "data": {
      "text/plain": [
       "array([[1, 0, 3, ..., 7.25, nan, 'S'],\n",
       "       [2, 1, 1, ..., 71.2833, 'C85', 'C'],\n",
       "       [3, 1, 3, ..., 7.925, nan, 'S'],\n",
       "       ...,\n",
       "       [889, 0, 3, ..., 23.45, nan, 'S'],\n",
       "       [890, 1, 1, ..., 30.0, 'C148', 'C'],\n",
       "       [891, 0, 3, ..., 7.75, nan, 'Q']], dtype=object)"
      ]
     },
     "execution_count": 236,
     "metadata": {},
     "output_type": "execute_result"
    }
   ],
   "source": [
    "titani_data_train.values"
   ]
  },
  {
   "cell_type": "code",
   "execution_count": 237,
   "id": "6832af63-90bc-4dd7-ba3c-ec5bad083dff",
   "metadata": {},
   "outputs": [
    {
     "data": {
      "text/html": [
       "<div>\n",
       "<style scoped>\n",
       "    .dataframe tbody tr th:only-of-type {\n",
       "        vertical-align: middle;\n",
       "    }\n",
       "\n",
       "    .dataframe tbody tr th {\n",
       "        vertical-align: top;\n",
       "    }\n",
       "\n",
       "    .dataframe thead th {\n",
       "        text-align: right;\n",
       "    }\n",
       "</style>\n",
       "<table border=\"1\" class=\"dataframe\">\n",
       "  <thead>\n",
       "    <tr style=\"text-align: right;\">\n",
       "      <th></th>\n",
       "      <th>Survived</th>\n",
       "      <th>Pclass</th>\n",
       "      <th>Sex</th>\n",
       "      <th>Age</th>\n",
       "      <th>Fare</th>\n",
       "      <th>CombRel</th>\n",
       "      <th>dataset</th>\n",
       "    </tr>\n",
       "  </thead>\n",
       "  <tbody>\n",
       "    <tr>\n",
       "      <th>0</th>\n",
       "      <td>0</td>\n",
       "      <td>3</td>\n",
       "      <td>0</td>\n",
       "      <td>22.000000</td>\n",
       "      <td>7.2500</td>\n",
       "      <td>1</td>\n",
       "      <td>[3.0, 0.0, 22.0, 7.25, 1.0]</td>\n",
       "    </tr>\n",
       "    <tr>\n",
       "      <th>1</th>\n",
       "      <td>1</td>\n",
       "      <td>1</td>\n",
       "      <td>1</td>\n",
       "      <td>38.000000</td>\n",
       "      <td>71.2833</td>\n",
       "      <td>1</td>\n",
       "      <td>[1.0, 1.0, 38.0, 71.2833, 1.0]</td>\n",
       "    </tr>\n",
       "    <tr>\n",
       "      <th>2</th>\n",
       "      <td>1</td>\n",
       "      <td>3</td>\n",
       "      <td>1</td>\n",
       "      <td>26.000000</td>\n",
       "      <td>7.9250</td>\n",
       "      <td>0</td>\n",
       "      <td>[3.0, 1.0, 26.0, 7.925, 0.0]</td>\n",
       "    </tr>\n",
       "    <tr>\n",
       "      <th>3</th>\n",
       "      <td>1</td>\n",
       "      <td>1</td>\n",
       "      <td>1</td>\n",
       "      <td>35.000000</td>\n",
       "      <td>53.1000</td>\n",
       "      <td>1</td>\n",
       "      <td>[1.0, 1.0, 35.0, 53.1, 1.0]</td>\n",
       "    </tr>\n",
       "    <tr>\n",
       "      <th>4</th>\n",
       "      <td>0</td>\n",
       "      <td>3</td>\n",
       "      <td>0</td>\n",
       "      <td>35.000000</td>\n",
       "      <td>8.0500</td>\n",
       "      <td>0</td>\n",
       "      <td>[3.0, 0.0, 35.0, 8.05, 0.0]</td>\n",
       "    </tr>\n",
       "    <tr>\n",
       "      <th>5</th>\n",
       "      <td>0</td>\n",
       "      <td>3</td>\n",
       "      <td>0</td>\n",
       "      <td>38.537163</td>\n",
       "      <td>8.4583</td>\n",
       "      <td>0</td>\n",
       "      <td>[3.0, 0.0, 38.53716336057502, 8.4583, 0.0]</td>\n",
       "    </tr>\n",
       "    <tr>\n",
       "      <th>6</th>\n",
       "      <td>0</td>\n",
       "      <td>1</td>\n",
       "      <td>0</td>\n",
       "      <td>54.000000</td>\n",
       "      <td>51.8625</td>\n",
       "      <td>0</td>\n",
       "      <td>[1.0, 0.0, 54.0, 51.8625, 0.0]</td>\n",
       "    </tr>\n",
       "    <tr>\n",
       "      <th>7</th>\n",
       "      <td>0</td>\n",
       "      <td>3</td>\n",
       "      <td>0</td>\n",
       "      <td>2.000000</td>\n",
       "      <td>21.0750</td>\n",
       "      <td>4</td>\n",
       "      <td>[3.0, 0.0, 2.0, 21.075, 4.0]</td>\n",
       "    </tr>\n",
       "  </tbody>\n",
       "</table>\n",
       "</div>"
      ],
      "text/plain": [
       "   Survived  Pclass  Sex        Age     Fare  CombRel  \\\n",
       "0         0       3    0  22.000000   7.2500        1   \n",
       "1         1       1    1  38.000000  71.2833        1   \n",
       "2         1       3    1  26.000000   7.9250        0   \n",
       "3         1       1    1  35.000000  53.1000        1   \n",
       "4         0       3    0  35.000000   8.0500        0   \n",
       "5         0       3    0  38.537163   8.4583        0   \n",
       "6         0       1    0  54.000000  51.8625        0   \n",
       "7         0       3    0   2.000000  21.0750        4   \n",
       "\n",
       "                                      dataset  \n",
       "0                 [3.0, 0.0, 22.0, 7.25, 1.0]  \n",
       "1              [1.0, 1.0, 38.0, 71.2833, 1.0]  \n",
       "2                [3.0, 1.0, 26.0, 7.925, 0.0]  \n",
       "3                 [1.0, 1.0, 35.0, 53.1, 1.0]  \n",
       "4                 [3.0, 0.0, 35.0, 8.05, 0.0]  \n",
       "5  [3.0, 0.0, 38.53716336057502, 8.4583, 0.0]  \n",
       "6              [1.0, 0.0, 54.0, 51.8625, 0.0]  \n",
       "7                [3.0, 0.0, 2.0, 21.075, 4.0]  "
      ]
     },
     "execution_count": 237,
     "metadata": {},
     "output_type": "execute_result"
    }
   ],
   "source": [
    "# change data in the sex column as a male to a 0 and as a female to a 1\n",
    "# Create a new dataframe \n",
    "# fill up missing data of age by ramdom value generated by normal distribution in train data\n",
    "# Age column which has 177 missing values\n",
    "transformdata = titani_data_train.replace({\"Sex\": {\"male\":0,\"female\":1}})\n",
    "transformdata[\"Age\"].fillna(np.random.normal(titani_data_train[\"Age\"].mean(), titani_data_train[\"Age\"].std()), inplace =True)\n",
    "#Sibsp\t# of siblings / spouses aboard the Titanic   \n",
    "#Parch\t# of parents / children aboard the Titanic\n",
    "#SibSp and Parch would make more sense as a combined data, that shows the total number of relativescolumn\n",
    "transformdata['CombRel'] = titani_data_train['SibSp'] + titani_data_train['Parch']\n",
    "#drop 'PassengerId’, 'Name', \"SibSp\", 'Parch', 'Ticket', 'Cabin', 'Embarked' from the train set, because it does not contribute to a persons survival probability\n",
    "transformdata.drop(['PassengerId', 'Name', 'SibSp', 'Parch', 'Ticket', 'Cabin', 'Embarked'], axis=1,inplace=True)\n",
    "\n",
    "# creata a new column `dataset` by combining all the normalized data into a list\n",
    "transformdata['dataset'] = transformdata.apply(\n",
    "    lambda x: list([x['Pclass'], x['Sex'], x['Age'], x['Fare'], x['CombRel']]), axis=1)\n",
    "transformdata.head(8)"
   ]
  },
  {
   "cell_type": "markdown",
   "id": "02298a10-0515-4306-8855-3a71a14ede0c",
   "metadata": {},
   "source": [
    "# Normalization "
   ]
  },
  {
   "cell_type": "code",
   "execution_count": 238,
   "id": "5c831edb-83f9-4ab5-aa25-a60c7d4d01cb",
   "metadata": {},
   "outputs": [
    {
     "data": {
      "text/html": [
       "<div>\n",
       "<style scoped>\n",
       "    .dataframe tbody tr th:only-of-type {\n",
       "        vertical-align: middle;\n",
       "    }\n",
       "\n",
       "    .dataframe tbody tr th {\n",
       "        vertical-align: top;\n",
       "    }\n",
       "\n",
       "    .dataframe thead th {\n",
       "        text-align: right;\n",
       "    }\n",
       "</style>\n",
       "<table border=\"1\" class=\"dataframe\">\n",
       "  <thead>\n",
       "    <tr style=\"text-align: right;\">\n",
       "      <th></th>\n",
       "      <th>Survived</th>\n",
       "      <th>Pclass</th>\n",
       "      <th>Sex</th>\n",
       "      <th>Age</th>\n",
       "      <th>Fare</th>\n",
       "      <th>CombRel</th>\n",
       "      <th>dataset</th>\n",
       "    </tr>\n",
       "  </thead>\n",
       "  <tbody>\n",
       "    <tr>\n",
       "      <th>0</th>\n",
       "      <td>0</td>\n",
       "      <td>3</td>\n",
       "      <td>0</td>\n",
       "      <td>22.0</td>\n",
       "      <td>7.2500</td>\n",
       "      <td>1</td>\n",
       "      <td>[0.8273772438659676, -0.7376951317802897, -0.7...</td>\n",
       "    </tr>\n",
       "    <tr>\n",
       "      <th>1</th>\n",
       "      <td>1</td>\n",
       "      <td>1</td>\n",
       "      <td>1</td>\n",
       "      <td>38.0</td>\n",
       "      <td>71.2833</td>\n",
       "      <td>1</td>\n",
       "      <td>[-1.5661069258891531, 1.3555735383351184, 0.48...</td>\n",
       "    </tr>\n",
       "    <tr>\n",
       "      <th>2</th>\n",
       "      <td>1</td>\n",
       "      <td>3</td>\n",
       "      <td>1</td>\n",
       "      <td>26.0</td>\n",
       "      <td>7.9250</td>\n",
       "      <td>0</td>\n",
       "      <td>[0.8273772438659676, 1.3555735383351184, -0.40...</td>\n",
       "    </tr>\n",
       "    <tr>\n",
       "      <th>3</th>\n",
       "      <td>1</td>\n",
       "      <td>1</td>\n",
       "      <td>1</td>\n",
       "      <td>35.0</td>\n",
       "      <td>53.1000</td>\n",
       "      <td>1</td>\n",
       "      <td>[-1.5661069258891531, 1.3555735383351184, 0.26...</td>\n",
       "    </tr>\n",
       "    <tr>\n",
       "      <th>4</th>\n",
       "      <td>0</td>\n",
       "      <td>3</td>\n",
       "      <td>0</td>\n",
       "      <td>35.0</td>\n",
       "      <td>8.0500</td>\n",
       "      <td>0</td>\n",
       "      <td>[0.8273772438659676, -0.7376951317802897, 0.26...</td>\n",
       "    </tr>\n",
       "  </tbody>\n",
       "</table>\n",
       "</div>"
      ],
      "text/plain": [
       "   Survived  Pclass  Sex   Age     Fare  CombRel  \\\n",
       "0         0       3    0  22.0   7.2500        1   \n",
       "1         1       1    1  38.0  71.2833        1   \n",
       "2         1       3    1  26.0   7.9250        0   \n",
       "3         1       1    1  35.0  53.1000        1   \n",
       "4         0       3    0  35.0   8.0500        0   \n",
       "\n",
       "                                             dataset  \n",
       "0  [0.8273772438659676, -0.7376951317802897, -0.7...  \n",
       "1  [-1.5661069258891531, 1.3555735383351184, 0.48...  \n",
       "2  [0.8273772438659676, 1.3555735383351184, -0.40...  \n",
       "3  [-1.5661069258891531, 1.3555735383351184, 0.26...  \n",
       "4  [0.8273772438659676, -0.7376951317802897, 0.26...  "
      ]
     },
     "execution_count": 238,
     "metadata": {},
     "output_type": "execute_result"
    }
   ],
   "source": [
    "#normalization \n",
    "from sklearn.preprocessing import StandardScaler\n",
    "sc = StandardScaler()\n",
    "datatrain =  transformdata['dataset'].tolist()\n",
    "sc.fit(datatrain)\n",
    "datatrain = sc.transform(datatrain)\n",
    "transformdata['dataset'] = datatrain.tolist()\n",
    "transformdata.head()"
   ]
  },
  {
   "cell_type": "markdown",
   "id": "54c58608-57ca-4e53-9bd9-3f695132ee1d",
   "metadata": {},
   "source": [
    " Data normalization may be needed one feature with huge values may dominate the modeling effect"
   ]
  },
  {
   "cell_type": "markdown",
   "id": "2641e24b-c641-4177-bc8a-86f6fa6f53bb",
   "metadata": {},
   "source": [
    "## <font color='blue'>Drop These Colums</font>  \n",
    "* **'PassengerId’**\n",
    "* **'Name'** \n",
    "* **\"SibSp\"** \n",
    "* **'Parch'**\n",
    "* **'Ticket'** \n",
    "* **'Cabin'**\n",
    "* **'Embarked'** \n",
    "    \n",
    "    \n",
    "<font color='blue'>From the train dataset, because it does not contribute to a persons survival probability or missing data</font>"
   ]
  },
  {
   "cell_type": "code",
   "execution_count": 239,
   "id": "ce5423b9-13bf-439c-889f-3f3a1b44c5d9",
   "metadata": {},
   "outputs": [
    {
     "name": "stdout",
     "output_type": "stream",
     "text": [
      "<class 'pandas.core.frame.DataFrame'>\n",
      "RangeIndex: 891 entries, 0 to 890\n",
      "Data columns (total 7 columns):\n",
      " #   Column    Non-Null Count  Dtype  \n",
      "---  ------    --------------  -----  \n",
      " 0   Survived  891 non-null    int64  \n",
      " 1   Pclass    891 non-null    int64  \n",
      " 2   Sex       891 non-null    int64  \n",
      " 3   Age       891 non-null    float64\n",
      " 4   Fare      891 non-null    float64\n",
      " 5   CombRel   891 non-null    int64  \n",
      " 6   dataset   891 non-null    object \n",
      "dtypes: float64(2), int64(4), object(1)\n",
      "memory usage: 48.9+ KB\n"
     ]
    }
   ],
   "source": [
    "transformdata.info()"
   ]
  },
  {
   "cell_type": "markdown",
   "id": "f09ce828-aa06-43d2-bf06-fe741eb6c042",
   "metadata": {},
   "source": [
    "<font color='blue'>***Removed the missing cells in the 'Age' column and avoce information shows the prove about that***</font>"
   ]
  },
  {
   "cell_type": "code",
   "execution_count": 240,
   "id": "8c06b845-2c09-45d2-b94c-1b43dbfa89b7",
   "metadata": {},
   "outputs": [],
   "source": [
    "#data = [titani_data_train, titani_data_test]\n",
    "#data1 = titani_data_train\n",
    "#for transformdataN in data:\n",
    "  #  transformdataN['CombRel'] = transformdataN['SibSp'] + transformdataN['Parch']\n",
    "  #  transformdataN.loc[transformdataN['CombRel'] > 0, 'Withrelative'] = 0\n",
    "  #   transformdataN.loc[transformdataN['CombRel'] == 0, 'Withrelative'] = 1\n",
    " #   transformdataN['Withrelative'] = transformdataN['Withrelative'].astype(int)\n",
    "#data1['Withrelative'].value_counts()"
   ]
  },
  {
   "cell_type": "code",
   "execution_count": 241,
   "id": "0acdbb66-f428-45ce-a81f-0f1a848b5c8f",
   "metadata": {},
   "outputs": [
    {
     "data": {
      "image/png": "[encoded data removed]",
      "text/plain": [
       "<Figure size 900x360 with 1 Axes>"
      ]
     },
     "metadata": {
      "needs_background": "light"
     },
     "output_type": "display_data"
    }
   ],
   "source": [
    "import warnings\n",
    "warnings.simplefilter(action=\"ignore\", category=FutureWarning)\n",
    "import seaborn as sns\n",
    "#transformdata['CombRel'] = titani_data_train['SibSp'] + titani_data_train['Parch']\n",
    "data1 = transformdata\n",
    "axes = sns.catplot(x='CombRel',y='Survived', data=data1, kind='point',aspect = 2.5)"
   ]
  },
  {
   "cell_type": "markdown",
   "id": "e6d3991c-75c9-407e-9e08-744d88be47f3",
   "metadata": {},
   "source": [
    "<font color='blue'>**The plot shows that there is a high probabilty of survival when passengers have with 1 to 3 realitves a nd a lower probability when there is one or more than 3 (except for some cases with 6 relatives).**</font>"
   ]
  },
  {
   "cell_type": "markdown",
   "id": "7877697f-0042-460c-be56-bbea06a33f00",
   "metadata": {},
   "source": [
    "# Look at the missing data in the test dataset"
   ]
  },
  {
   "cell_type": "code",
   "execution_count": 242,
   "id": "856a80e9-dd61-4ff9-814e-d7f11daf3c21",
   "metadata": {},
   "outputs": [
    {
     "data": {
      "text/html": [
       "<div>\n",
       "<style scoped>\n",
       "    .dataframe tbody tr th:only-of-type {\n",
       "        vertical-align: middle;\n",
       "    }\n",
       "\n",
       "    .dataframe tbody tr th {\n",
       "        vertical-align: top;\n",
       "    }\n",
       "\n",
       "    .dataframe thead th {\n",
       "        text-align: right;\n",
       "    }\n",
       "</style>\n",
       "<table border=\"1\" class=\"dataframe\">\n",
       "  <thead>\n",
       "    <tr style=\"text-align: right;\">\n",
       "      <th></th>\n",
       "      <th>Total</th>\n",
       "      <th>%</th>\n",
       "    </tr>\n",
       "  </thead>\n",
       "  <tbody>\n",
       "    <tr>\n",
       "      <th>Cabin</th>\n",
       "      <td>327</td>\n",
       "      <td>78.2</td>\n",
       "    </tr>\n",
       "    <tr>\n",
       "      <th>Age</th>\n",
       "      <td>86</td>\n",
       "      <td>20.6</td>\n",
       "    </tr>\n",
       "    <tr>\n",
       "      <th>Fare</th>\n",
       "      <td>1</td>\n",
       "      <td>0.2</td>\n",
       "    </tr>\n",
       "    <tr>\n",
       "      <th>PassengerId</th>\n",
       "      <td>0</td>\n",
       "      <td>0.0</td>\n",
       "    </tr>\n",
       "    <tr>\n",
       "      <th>Pclass</th>\n",
       "      <td>0</td>\n",
       "      <td>0.0</td>\n",
       "    </tr>\n",
       "    <tr>\n",
       "      <th>Name</th>\n",
       "      <td>0</td>\n",
       "      <td>0.0</td>\n",
       "    </tr>\n",
       "    <tr>\n",
       "      <th>Sex</th>\n",
       "      <td>0</td>\n",
       "      <td>0.0</td>\n",
       "    </tr>\n",
       "    <tr>\n",
       "      <th>SibSp</th>\n",
       "      <td>0</td>\n",
       "      <td>0.0</td>\n",
       "    </tr>\n",
       "    <tr>\n",
       "      <th>Parch</th>\n",
       "      <td>0</td>\n",
       "      <td>0.0</td>\n",
       "    </tr>\n",
       "    <tr>\n",
       "      <th>Ticket</th>\n",
       "      <td>0</td>\n",
       "      <td>0.0</td>\n",
       "    </tr>\n",
       "    <tr>\n",
       "      <th>Embarked</th>\n",
       "      <td>0</td>\n",
       "      <td>0.0</td>\n",
       "    </tr>\n",
       "  </tbody>\n",
       "</table>\n",
       "</div>"
      ],
      "text/plain": [
       "             Total     %\n",
       "Cabin          327  78.2\n",
       "Age             86  20.6\n",
       "Fare             1   0.2\n",
       "PassengerId      0   0.0\n",
       "Pclass           0   0.0\n",
       "Name             0   0.0\n",
       "Sex              0   0.0\n",
       "SibSp            0   0.0\n",
       "Parch            0   0.0\n",
       "Ticket           0   0.0\n",
       "Embarked         0   0.0"
      ]
     },
     "execution_count": 242,
     "metadata": {},
     "output_type": "execute_result"
    }
   ],
   "source": [
    "total_test = titani_data_test.isnull().sum().sort_values(ascending=False)\n",
    "percent1_test = titani_data_test.isnull().sum()/titani_data_test.isnull().count()*100\n",
    "percent2_test = (round(percent1_test, 1)).sort_values(ascending=False)\n",
    "missingData_test = pd.concat([total_test, percent2_test], axis=1, keys=['Total', '%'])\n",
    "missingData_test.head(12)"
   ]
  },
  {
   "cell_type": "markdown",
   "id": "73ea2893-ac6f-48d0-91ff-749e8b93e84c",
   "metadata": {},
   "source": [
    "<font color='blue'>* **‘Age’ feature, which has 86 missing values** \n",
    "\n",
    "<font color='blue'>* **\"Cabin\" 78% of it is missing----->drop Because we have a lot of missing data!** \n",
    "    \n",
    "<font color='blue'>* **\"Fare\" 1 missing data**\n",
    "</font>"
   ]
  },
  {
   "cell_type": "markdown",
   "id": "ea1cafac-7f2c-4cc7-894c-c249ac2b236c",
   "metadata": {},
   "source": [
    "<font color='blue'>** Convert ‘Sex’ data into numeric**"
   ]
  },
  {
   "cell_type": "markdown",
   "id": "33f91533-39ab-4bc3-bc20-8528fb6dcf68",
   "metadata": {},
   "source": [
    "# Look at the 8 head of the tese data before data transformation"
   ]
  },
  {
   "cell_type": "code",
   "execution_count": 243,
   "id": "67190bb5-40de-4d17-9681-41d71d0fe878",
   "metadata": {},
   "outputs": [
    {
     "data": {
      "text/html": [
       "<div>\n",
       "<style scoped>\n",
       "    .dataframe tbody tr th:only-of-type {\n",
       "        vertical-align: middle;\n",
       "    }\n",
       "\n",
       "    .dataframe tbody tr th {\n",
       "        vertical-align: top;\n",
       "    }\n",
       "\n",
       "    .dataframe thead th {\n",
       "        text-align: right;\n",
       "    }\n",
       "</style>\n",
       "<table border=\"1\" class=\"dataframe\">\n",
       "  <thead>\n",
       "    <tr style=\"text-align: right;\">\n",
       "      <th></th>\n",
       "      <th>PassengerId</th>\n",
       "      <th>Pclass</th>\n",
       "      <th>Name</th>\n",
       "      <th>Sex</th>\n",
       "      <th>Age</th>\n",
       "      <th>SibSp</th>\n",
       "      <th>Parch</th>\n",
       "      <th>Ticket</th>\n",
       "      <th>Fare</th>\n",
       "      <th>Cabin</th>\n",
       "      <th>Embarked</th>\n",
       "    </tr>\n",
       "  </thead>\n",
       "  <tbody>\n",
       "    <tr>\n",
       "      <th>0</th>\n",
       "      <td>892</td>\n",
       "      <td>3</td>\n",
       "      <td>Kelly, Mr. James</td>\n",
       "      <td>male</td>\n",
       "      <td>34.5</td>\n",
       "      <td>0</td>\n",
       "      <td>0</td>\n",
       "      <td>330911</td>\n",
       "      <td>7.8292</td>\n",
       "      <td>NaN</td>\n",
       "      <td>Q</td>\n",
       "    </tr>\n",
       "    <tr>\n",
       "      <th>1</th>\n",
       "      <td>893</td>\n",
       "      <td>3</td>\n",
       "      <td>Wilkes, Mrs. James (Ellen Needs)</td>\n",
       "      <td>female</td>\n",
       "      <td>47.0</td>\n",
       "      <td>1</td>\n",
       "      <td>0</td>\n",
       "      <td>363272</td>\n",
       "      <td>7.0000</td>\n",
       "      <td>NaN</td>\n",
       "      <td>S</td>\n",
       "    </tr>\n",
       "    <tr>\n",
       "      <th>2</th>\n",
       "      <td>894</td>\n",
       "      <td>2</td>\n",
       "      <td>Myles, Mr. Thomas Francis</td>\n",
       "      <td>male</td>\n",
       "      <td>62.0</td>\n",
       "      <td>0</td>\n",
       "      <td>0</td>\n",
       "      <td>240276</td>\n",
       "      <td>9.6875</td>\n",
       "      <td>NaN</td>\n",
       "      <td>Q</td>\n",
       "    </tr>\n",
       "    <tr>\n",
       "      <th>3</th>\n",
       "      <td>895</td>\n",
       "      <td>3</td>\n",
       "      <td>Wirz, Mr. Albert</td>\n",
       "      <td>male</td>\n",
       "      <td>27.0</td>\n",
       "      <td>0</td>\n",
       "      <td>0</td>\n",
       "      <td>315154</td>\n",
       "      <td>8.6625</td>\n",
       "      <td>NaN</td>\n",
       "      <td>S</td>\n",
       "    </tr>\n",
       "    <tr>\n",
       "      <th>4</th>\n",
       "      <td>896</td>\n",
       "      <td>3</td>\n",
       "      <td>Hirvonen, Mrs. Alexander (Helga E Lindqvist)</td>\n",
       "      <td>female</td>\n",
       "      <td>22.0</td>\n",
       "      <td>1</td>\n",
       "      <td>1</td>\n",
       "      <td>3101298</td>\n",
       "      <td>12.2875</td>\n",
       "      <td>NaN</td>\n",
       "      <td>S</td>\n",
       "    </tr>\n",
       "    <tr>\n",
       "      <th>5</th>\n",
       "      <td>897</td>\n",
       "      <td>3</td>\n",
       "      <td>Svensson, Mr. Johan Cervin</td>\n",
       "      <td>male</td>\n",
       "      <td>14.0</td>\n",
       "      <td>0</td>\n",
       "      <td>0</td>\n",
       "      <td>7538</td>\n",
       "      <td>9.2250</td>\n",
       "      <td>NaN</td>\n",
       "      <td>S</td>\n",
       "    </tr>\n",
       "    <tr>\n",
       "      <th>6</th>\n",
       "      <td>898</td>\n",
       "      <td>3</td>\n",
       "      <td>Connolly, Miss. Kate</td>\n",
       "      <td>female</td>\n",
       "      <td>30.0</td>\n",
       "      <td>0</td>\n",
       "      <td>0</td>\n",
       "      <td>330972</td>\n",
       "      <td>7.6292</td>\n",
       "      <td>NaN</td>\n",
       "      <td>Q</td>\n",
       "    </tr>\n",
       "    <tr>\n",
       "      <th>7</th>\n",
       "      <td>899</td>\n",
       "      <td>2</td>\n",
       "      <td>Caldwell, Mr. Albert Francis</td>\n",
       "      <td>male</td>\n",
       "      <td>26.0</td>\n",
       "      <td>1</td>\n",
       "      <td>1</td>\n",
       "      <td>248738</td>\n",
       "      <td>29.0000</td>\n",
       "      <td>NaN</td>\n",
       "      <td>S</td>\n",
       "    </tr>\n",
       "  </tbody>\n",
       "</table>\n",
       "</div>"
      ],
      "text/plain": [
       "   PassengerId  Pclass                                          Name     Sex  \\\n",
       "0          892       3                              Kelly, Mr. James    male   \n",
       "1          893       3              Wilkes, Mrs. James (Ellen Needs)  female   \n",
       "2          894       2                     Myles, Mr. Thomas Francis    male   \n",
       "3          895       3                              Wirz, Mr. Albert    male   \n",
       "4          896       3  Hirvonen, Mrs. Alexander (Helga E Lindqvist)  female   \n",
       "5          897       3                    Svensson, Mr. Johan Cervin    male   \n",
       "6          898       3                          Connolly, Miss. Kate  female   \n",
       "7          899       2                  Caldwell, Mr. Albert Francis    male   \n",
       "\n",
       "    Age  SibSp  Parch   Ticket     Fare Cabin Embarked  \n",
       "0  34.5      0      0   330911   7.8292   NaN        Q  \n",
       "1  47.0      1      0   363272   7.0000   NaN        S  \n",
       "2  62.0      0      0   240276   9.6875   NaN        Q  \n",
       "3  27.0      0      0   315154   8.6625   NaN        S  \n",
       "4  22.0      1      1  3101298  12.2875   NaN        S  \n",
       "5  14.0      0      0     7538   9.2250   NaN        S  \n",
       "6  30.0      0      0   330972   7.6292   NaN        Q  \n",
       "7  26.0      1      1   248738  29.0000   NaN        S  "
      ]
     },
     "execution_count": 243,
     "metadata": {},
     "output_type": "execute_result"
    }
   ],
   "source": [
    "# Look at the 8 head of the tese data before data transformation\n",
    "titani_data_test.head(8)"
   ]
  },
  {
   "cell_type": "code",
   "execution_count": 244,
   "id": "efcea4de-3de0-486b-a6f7-265f2cfde52d",
   "metadata": {},
   "outputs": [
    {
     "data": {
      "text/html": [
       "<div>\n",
       "<style scoped>\n",
       "    .dataframe tbody tr th:only-of-type {\n",
       "        vertical-align: middle;\n",
       "    }\n",
       "\n",
       "    .dataframe tbody tr th {\n",
       "        vertical-align: top;\n",
       "    }\n",
       "\n",
       "    .dataframe thead th {\n",
       "        text-align: right;\n",
       "    }\n",
       "</style>\n",
       "<table border=\"1\" class=\"dataframe\">\n",
       "  <thead>\n",
       "    <tr style=\"text-align: right;\">\n",
       "      <th></th>\n",
       "      <th>PassengerId</th>\n",
       "      <th>Pclass</th>\n",
       "      <th>Sex</th>\n",
       "      <th>Age</th>\n",
       "      <th>Fare</th>\n",
       "      <th>Relative</th>\n",
       "      <th>dataset</th>\n",
       "    </tr>\n",
       "  </thead>\n",
       "  <tbody>\n",
       "    <tr>\n",
       "      <th>0</th>\n",
       "      <td>892</td>\n",
       "      <td>3</td>\n",
       "      <td>0</td>\n",
       "      <td>34.5</td>\n",
       "      <td>7.8292</td>\n",
       "      <td>0</td>\n",
       "      <td>[3.0, 0.0, 34.5, 7.8292, 0.0]</td>\n",
       "    </tr>\n",
       "    <tr>\n",
       "      <th>1</th>\n",
       "      <td>893</td>\n",
       "      <td>3</td>\n",
       "      <td>1</td>\n",
       "      <td>47.0</td>\n",
       "      <td>7.0000</td>\n",
       "      <td>1</td>\n",
       "      <td>[3.0, 1.0, 47.0, 7.0, 1.0]</td>\n",
       "    </tr>\n",
       "    <tr>\n",
       "      <th>2</th>\n",
       "      <td>894</td>\n",
       "      <td>2</td>\n",
       "      <td>0</td>\n",
       "      <td>62.0</td>\n",
       "      <td>9.6875</td>\n",
       "      <td>0</td>\n",
       "      <td>[2.0, 0.0, 62.0, 9.6875, 0.0]</td>\n",
       "    </tr>\n",
       "    <tr>\n",
       "      <th>3</th>\n",
       "      <td>895</td>\n",
       "      <td>3</td>\n",
       "      <td>0</td>\n",
       "      <td>27.0</td>\n",
       "      <td>8.6625</td>\n",
       "      <td>0</td>\n",
       "      <td>[3.0, 0.0, 27.0, 8.6625, 0.0]</td>\n",
       "    </tr>\n",
       "    <tr>\n",
       "      <th>4</th>\n",
       "      <td>896</td>\n",
       "      <td>3</td>\n",
       "      <td>1</td>\n",
       "      <td>22.0</td>\n",
       "      <td>12.2875</td>\n",
       "      <td>2</td>\n",
       "      <td>[3.0, 1.0, 22.0, 12.2875, 2.0]</td>\n",
       "    </tr>\n",
       "    <tr>\n",
       "      <th>5</th>\n",
       "      <td>897</td>\n",
       "      <td>3</td>\n",
       "      <td>0</td>\n",
       "      <td>14.0</td>\n",
       "      <td>9.2250</td>\n",
       "      <td>0</td>\n",
       "      <td>[3.0, 0.0, 14.0, 9.225, 0.0]</td>\n",
       "    </tr>\n",
       "    <tr>\n",
       "      <th>6</th>\n",
       "      <td>898</td>\n",
       "      <td>3</td>\n",
       "      <td>1</td>\n",
       "      <td>30.0</td>\n",
       "      <td>7.6292</td>\n",
       "      <td>0</td>\n",
       "      <td>[3.0, 1.0, 30.0, 7.6292, 0.0]</td>\n",
       "    </tr>\n",
       "    <tr>\n",
       "      <th>7</th>\n",
       "      <td>899</td>\n",
       "      <td>2</td>\n",
       "      <td>0</td>\n",
       "      <td>26.0</td>\n",
       "      <td>29.0000</td>\n",
       "      <td>2</td>\n",
       "      <td>[2.0, 0.0, 26.0, 29.0, 2.0]</td>\n",
       "    </tr>\n",
       "  </tbody>\n",
       "</table>\n",
       "</div>"
      ],
      "text/plain": [
       "   PassengerId  Pclass  Sex   Age     Fare  Relative  \\\n",
       "0          892       3    0  34.5   7.8292         0   \n",
       "1          893       3    1  47.0   7.0000         1   \n",
       "2          894       2    0  62.0   9.6875         0   \n",
       "3          895       3    0  27.0   8.6625         0   \n",
       "4          896       3    1  22.0  12.2875         2   \n",
       "5          897       3    0  14.0   9.2250         0   \n",
       "6          898       3    1  30.0   7.6292         0   \n",
       "7          899       2    0  26.0  29.0000         2   \n",
       "\n",
       "                          dataset  \n",
       "0   [3.0, 0.0, 34.5, 7.8292, 0.0]  \n",
       "1      [3.0, 1.0, 47.0, 7.0, 1.0]  \n",
       "2   [2.0, 0.0, 62.0, 9.6875, 0.0]  \n",
       "3   [3.0, 0.0, 27.0, 8.6625, 0.0]  \n",
       "4  [3.0, 1.0, 22.0, 12.2875, 2.0]  \n",
       "5    [3.0, 0.0, 14.0, 9.225, 0.0]  \n",
       "6   [3.0, 1.0, 30.0, 7.6292, 0.0]  \n",
       "7     [2.0, 0.0, 26.0, 29.0, 2.0]  "
      ]
     },
     "execution_count": 244,
     "metadata": {},
     "output_type": "execute_result"
    }
   ],
   "source": [
    "#Create a new dataframe after converting \"sex\" to numbers, and drop other unnecessary information\n",
    "#Fill in the missing values in \"Fare\" with random values.\n",
    "#In the test data, fill in missing age data with a ramdom value generated by the normal distribution.\n",
    "#Convert ‘Sex’ data into numeric from male to 0 and female to 1\n",
    "transformdata_test = titani_data_test.replace({\"Sex\": {\"male\":0,\"female\":1}})\n",
    "transformdata_test[\"Age\"].fillna(np.random.normal(titani_data_test[\"Age\"].mean(), titani_data_test[\"Age\"].std()), inplace =True)\n",
    "transformdata_test['Relative'] = titani_data_test['SibSp'] + titani_data_test['Parch']\n",
    "transformdata_test.drop(['Name', 'SibSp', 'Parch', 'Ticket', 'Cabin', 'Embarked'], axis=1,inplace=True)\n",
    "transformdata_test[\"Fare\"].fillna(np.random.normal(titani_data_test[\"Fare\"].mean(), titani_data_test[\"Fare\"].std()), inplace =True)\n",
    "\n",
    "# creata a new column `data` by combining all the normalized data into a list\n",
    "transformdata_test['dataset'] = transformdata_test.apply(\n",
    "    lambda x: list([x['Pclass'], x['Sex'], x['Age'], x['Fare'], x['Relative']]), axis=1)\n",
    "transformdata_test.head(8)"
   ]
  },
  {
   "cell_type": "markdown",
   "id": "fa727f72-4809-440b-b244-961fdd457f97",
   "metadata": {},
   "source": [
    "# Normalization "
   ]
  },
  {
   "cell_type": "code",
   "execution_count": 245,
   "id": "f2358aac-b195-491f-8022-34cf99f9b233",
   "metadata": {},
   "outputs": [
    {
     "data": {
      "text/html": [
       "<div>\n",
       "<style scoped>\n",
       "    .dataframe tbody tr th:only-of-type {\n",
       "        vertical-align: middle;\n",
       "    }\n",
       "\n",
       "    .dataframe tbody tr th {\n",
       "        vertical-align: top;\n",
       "    }\n",
       "\n",
       "    .dataframe thead th {\n",
       "        text-align: right;\n",
       "    }\n",
       "</style>\n",
       "<table border=\"1\" class=\"dataframe\">\n",
       "  <thead>\n",
       "    <tr style=\"text-align: right;\">\n",
       "      <th></th>\n",
       "      <th>PassengerId</th>\n",
       "      <th>Pclass</th>\n",
       "      <th>Sex</th>\n",
       "      <th>Age</th>\n",
       "      <th>Fare</th>\n",
       "      <th>Relative</th>\n",
       "      <th>dataset</th>\n",
       "    </tr>\n",
       "  </thead>\n",
       "  <tbody>\n",
       "    <tr>\n",
       "      <th>0</th>\n",
       "      <td>892</td>\n",
       "      <td>3</td>\n",
       "      <td>0</td>\n",
       "      <td>34.5</td>\n",
       "      <td>7.8292</td>\n",
       "      <td>0</td>\n",
       "      <td>[0.8273772438659676, -0.7376951317802897, 0.22...</td>\n",
       "    </tr>\n",
       "    <tr>\n",
       "      <th>1</th>\n",
       "      <td>893</td>\n",
       "      <td>3</td>\n",
       "      <td>1</td>\n",
       "      <td>47.0</td>\n",
       "      <td>7.0000</td>\n",
       "      <td>1</td>\n",
       "      <td>[0.8273772438659676, 1.3555735383351184, 1.154...</td>\n",
       "    </tr>\n",
       "    <tr>\n",
       "      <th>2</th>\n",
       "      <td>894</td>\n",
       "      <td>2</td>\n",
       "      <td>0</td>\n",
       "      <td>62.0</td>\n",
       "      <td>9.6875</td>\n",
       "      <td>0</td>\n",
       "      <td>[-0.3693648410115927, -0.7376951317802897, 2.2...</td>\n",
       "    </tr>\n",
       "    <tr>\n",
       "      <th>3</th>\n",
       "      <td>895</td>\n",
       "      <td>3</td>\n",
       "      <td>0</td>\n",
       "      <td>27.0</td>\n",
       "      <td>8.6625</td>\n",
       "      <td>0</td>\n",
       "      <td>[0.8273772438659676, -0.7376951317802897, -0.3...</td>\n",
       "    </tr>\n",
       "    <tr>\n",
       "      <th>4</th>\n",
       "      <td>896</td>\n",
       "      <td>3</td>\n",
       "      <td>1</td>\n",
       "      <td>22.0</td>\n",
       "      <td>12.2875</td>\n",
       "      <td>2</td>\n",
       "      <td>[0.8273772438659676, 1.3555735383351184, -0.70...</td>\n",
       "    </tr>\n",
       "  </tbody>\n",
       "</table>\n",
       "</div>"
      ],
      "text/plain": [
       "   PassengerId  Pclass  Sex   Age     Fare  Relative  \\\n",
       "0          892       3    0  34.5   7.8292         0   \n",
       "1          893       3    1  47.0   7.0000         1   \n",
       "2          894       2    0  62.0   9.6875         0   \n",
       "3          895       3    0  27.0   8.6625         0   \n",
       "4          896       3    1  22.0  12.2875         2   \n",
       "\n",
       "                                             dataset  \n",
       "0  [0.8273772438659676, -0.7376951317802897, 0.22...  \n",
       "1  [0.8273772438659676, 1.3555735383351184, 1.154...  \n",
       "2  [-0.3693648410115927, -0.7376951317802897, 2.2...  \n",
       "3  [0.8273772438659676, -0.7376951317802897, -0.3...  \n",
       "4  [0.8273772438659676, 1.3555735383351184, -0.70...  "
      ]
     },
     "execution_count": 245,
     "metadata": {},
     "output_type": "execute_result"
    }
   ],
   "source": [
    "#normalization \n",
    "transformdata_test['PassengerId'] = titani_data_test['PassengerId']\n",
    "testData = transformdata_test['dataset'].tolist()\n",
    "testData = sc.transform(testData)\n",
    "transformdata_test['dataset'] = testData.tolist()\n",
    "transformdata_test.head()"
   ]
  },
  {
   "cell_type": "markdown",
   "id": "4f4b874a-570d-4d61-8e38-ea13bcce234b",
   "metadata": {},
   "source": [
    "# 1.3 Modeling"
   ]
  },
  {
   "cell_type": "markdown",
   "id": "27c0ffa7-f12d-432f-9eb5-98c354dabd02",
   "metadata": {},
   "source": [
    "`Here is Starting of Modeling!`"
   ]
  },
  {
   "cell_type": "markdown",
   "id": "bba2eb85-6cf7-42c5-9874-8885876ebd32",
   "metadata": {},
   "source": [
    "* **Describe the chosen model and why choose this one. [3 points]**\n",
    "* **Describe how the chosen features in 1.2 are involved in the chosen model (e.g., weighted linear combination of features in a linear model). [2 points]**\n",
    "* **Describe the loss function that will be used to estimate the model's parameters (HINT: MSE? MAE? or others? if you are using an existing lib, you may need to check its document or google to figure out ). [2 points]**\n",
    "* **Use a specific way (different ways have been discussed in A3) to estimate the model's parameters (e.g., sklearn's fit). [2 points]**\n",
    "* **Use the model estimated to conduct a submission to the Kaggle competition and screenshot your leaderboard position. [3 points]**"
   ]
  },
  {
   "cell_type": "markdown",
   "id": "1d6e1e77-8723-474f-9bc2-3207f1663af3",
   "metadata": {},
   "source": [
    "## <span style=\"font-family: Arial; font-size:1.4em; background-color: yellow;\"><font color='blue'>Choosing These colums:\n",
    "* **Pclass**\n",
    "* **Sex**\n",
    "* **Age**\n",
    "* **Fare**\n",
    "* **CombRel** (combine columns | SibSp and Parch)\n",
    "  \n",
    "<font color='green'>***#Sibsp\t# of siblings / spouses aboard the Titanic***   \n",
    "***#Parch\t# of parents / children aboard the Titanic***   \n",
    "    \n",
    "<font color='blue'>\n",
    "There are five columns, we droped Cabin because it has \" 77% of it is missing\" Because Age is important younger survied more than older and Gender is important because female survied more than male, Pclass is important because od populantions are different and lower fare is greater than of higher fare. These five coulumns will have a ......Even if PassengerId, Name, and Ticket don't have any missing values either, they don't have much meaning.</font>"
   ]
  },
  {
   "cell_type": "markdown",
   "id": "229901f6-8973-44d1-9e14-7a3f4aced981",
   "metadata": {},
   "source": [
    "* **Describe the chosen model and why choose this one. [3 points]**"
   ]
  },
  {
   "cell_type": "markdown",
   "id": "ff9ce955-ab97-469c-ae59-773b73248f97",
   "metadata": {},
   "source": [
    "* **<font color='blue'>The <span style=\"font-family: Arial; font-size:1.4em; background-color: yellow;\">logistic regression</span>\n",
    "    model still seems to be the best model. It is a simple and easy to use model and the more accuracy of the titanic problem and its a binary classification, so this approche is better </font>**"
   ]
  },
  {
   "cell_type": "code",
   "execution_count": 246,
   "id": "3b9affc2-0029-46e8-a310-689556f7f774",
   "metadata": {},
   "outputs": [
    {
     "data": {
      "text/plain": [
       "0.8035914702581369"
      ]
     },
     "execution_count": 246,
     "metadata": {},
     "output_type": "execute_result"
    }
   ],
   "source": [
    "from sklearn.linear_model import LogisticRegression\n",
    "\n",
    "y_train = transformdata['Survived']\n",
    "x_train = transformdata['dataset'].tolist()\n",
    "# Instantiate our model\n",
    "logregression = LogisticRegression()\n",
    "# Fit our model to the training data\n",
    "ls = logregression.fit(x_train, y_train)\n",
    "\n",
    "# the accuracy rate of the train data\n",
    "ls.score(x_train, y_train)\n"
   ]
  },
  {
   "cell_type": "code",
   "execution_count": 247,
   "id": "0066d61a-8d5a-4997-9c9c-9cd8dcf72f0d",
   "metadata": {},
   "outputs": [
    {
     "data": {
      "text/html": [
       "<div>\n",
       "<style scoped>\n",
       "    .dataframe tbody tr th:only-of-type {\n",
       "        vertical-align: middle;\n",
       "    }\n",
       "\n",
       "    .dataframe tbody tr th {\n",
       "        vertical-align: top;\n",
       "    }\n",
       "\n",
       "    .dataframe thead th {\n",
       "        text-align: right;\n",
       "    }\n",
       "</style>\n",
       "<table border=\"1\" class=\"dataframe\">\n",
       "  <thead>\n",
       "    <tr style=\"text-align: right;\">\n",
       "      <th></th>\n",
       "      <th>PassengerId</th>\n",
       "      <th>Pclass</th>\n",
       "      <th>Sex</th>\n",
       "      <th>Age</th>\n",
       "      <th>Fare</th>\n",
       "      <th>Relative</th>\n",
       "      <th>dataset</th>\n",
       "      <th>Survived</th>\n",
       "    </tr>\n",
       "  </thead>\n",
       "  <tbody>\n",
       "    <tr>\n",
       "      <th>0</th>\n",
       "      <td>892</td>\n",
       "      <td>3</td>\n",
       "      <td>0</td>\n",
       "      <td>34.5</td>\n",
       "      <td>7.8292</td>\n",
       "      <td>0</td>\n",
       "      <td>[0.8273772438659676, -0.7376951317802897, 0.22...</td>\n",
       "      <td>0</td>\n",
       "    </tr>\n",
       "    <tr>\n",
       "      <th>1</th>\n",
       "      <td>893</td>\n",
       "      <td>3</td>\n",
       "      <td>1</td>\n",
       "      <td>47.0</td>\n",
       "      <td>7.0000</td>\n",
       "      <td>1</td>\n",
       "      <td>[0.8273772438659676, 1.3555735383351184, 1.154...</td>\n",
       "      <td>0</td>\n",
       "    </tr>\n",
       "    <tr>\n",
       "      <th>2</th>\n",
       "      <td>894</td>\n",
       "      <td>2</td>\n",
       "      <td>0</td>\n",
       "      <td>62.0</td>\n",
       "      <td>9.6875</td>\n",
       "      <td>0</td>\n",
       "      <td>[-0.3693648410115927, -0.7376951317802897, 2.2...</td>\n",
       "      <td>0</td>\n",
       "    </tr>\n",
       "    <tr>\n",
       "      <th>3</th>\n",
       "      <td>895</td>\n",
       "      <td>3</td>\n",
       "      <td>0</td>\n",
       "      <td>27.0</td>\n",
       "      <td>8.6625</td>\n",
       "      <td>0</td>\n",
       "      <td>[0.8273772438659676, -0.7376951317802897, -0.3...</td>\n",
       "      <td>0</td>\n",
       "    </tr>\n",
       "    <tr>\n",
       "      <th>4</th>\n",
       "      <td>896</td>\n",
       "      <td>3</td>\n",
       "      <td>1</td>\n",
       "      <td>22.0</td>\n",
       "      <td>12.2875</td>\n",
       "      <td>2</td>\n",
       "      <td>[0.8273772438659676, 1.3555735383351184, -0.70...</td>\n",
       "      <td>1</td>\n",
       "    </tr>\n",
       "    <tr>\n",
       "      <th>5</th>\n",
       "      <td>897</td>\n",
       "      <td>3</td>\n",
       "      <td>0</td>\n",
       "      <td>14.0</td>\n",
       "      <td>9.2250</td>\n",
       "      <td>0</td>\n",
       "      <td>[0.8273772438659676, -0.7376951317802897, -1.2...</td>\n",
       "      <td>0</td>\n",
       "    </tr>\n",
       "    <tr>\n",
       "      <th>6</th>\n",
       "      <td>898</td>\n",
       "      <td>3</td>\n",
       "      <td>1</td>\n",
       "      <td>30.0</td>\n",
       "      <td>7.6292</td>\n",
       "      <td>0</td>\n",
       "      <td>[0.8273772438659676, 1.3555735383351184, -0.10...</td>\n",
       "      <td>1</td>\n",
       "    </tr>\n",
       "    <tr>\n",
       "      <th>7</th>\n",
       "      <td>899</td>\n",
       "      <td>2</td>\n",
       "      <td>0</td>\n",
       "      <td>26.0</td>\n",
       "      <td>29.0000</td>\n",
       "      <td>2</td>\n",
       "      <td>[-0.3693648410115927, -0.7376951317802897, -0....</td>\n",
       "      <td>0</td>\n",
       "    </tr>\n",
       "  </tbody>\n",
       "</table>\n",
       "</div>"
      ],
      "text/plain": [
       "   PassengerId  Pclass  Sex   Age     Fare  Relative  \\\n",
       "0          892       3    0  34.5   7.8292         0   \n",
       "1          893       3    1  47.0   7.0000         1   \n",
       "2          894       2    0  62.0   9.6875         0   \n",
       "3          895       3    0  27.0   8.6625         0   \n",
       "4          896       3    1  22.0  12.2875         2   \n",
       "5          897       3    0  14.0   9.2250         0   \n",
       "6          898       3    1  30.0   7.6292         0   \n",
       "7          899       2    0  26.0  29.0000         2   \n",
       "\n",
       "                                             dataset  Survived  \n",
       "0  [0.8273772438659676, -0.7376951317802897, 0.22...         0  \n",
       "1  [0.8273772438659676, 1.3555735383351184, 1.154...         0  \n",
       "2  [-0.3693648410115927, -0.7376951317802897, 2.2...         0  \n",
       "3  [0.8273772438659676, -0.7376951317802897, -0.3...         0  \n",
       "4  [0.8273772438659676, 1.3555735383351184, -0.70...         1  \n",
       "5  [0.8273772438659676, -0.7376951317802897, -1.2...         0  \n",
       "6  [0.8273772438659676, 1.3555735383351184, -0.10...         1  \n",
       "7  [-0.3693648410115927, -0.7376951317802897, -0....         0  "
      ]
     },
     "execution_count": 247,
     "metadata": {},
     "output_type": "execute_result"
    }
   ],
   "source": [
    "# use trained logistic model to predict the result of test data (Predict on the test data)\n",
    "x_test = transformdata_test['dataset'].tolist()\n",
    "y_predict_test=ls.predict(x_test)\n",
    "transformdata_test['Survived'] = y_predict_test\n",
    "transformdata_test.head(8)"
   ]
  },
  {
   "cell_type": "markdown",
   "id": "a6e98cf6-35a7-49cc-9c6b-498d631cb031",
   "metadata": {},
   "source": [
    "### Submitting the predictions to the Kaggle. It reuires to data 'Survived' and 'PassengerId'."
   ]
  },
  {
   "cell_type": "code",
   "execution_count": 248,
   "id": "5be794fe-ab0f-4075-aab1-7e0ba750d52f",
   "metadata": {},
   "outputs": [
    {
     "data": {
      "text/html": [
       "<div>\n",
       "<style scoped>\n",
       "    .dataframe tbody tr th:only-of-type {\n",
       "        vertical-align: middle;\n",
       "    }\n",
       "\n",
       "    .dataframe tbody tr th {\n",
       "        vertical-align: top;\n",
       "    }\n",
       "\n",
       "    .dataframe thead th {\n",
       "        text-align: right;\n",
       "    }\n",
       "</style>\n",
       "<table border=\"1\" class=\"dataframe\">\n",
       "  <thead>\n",
       "    <tr style=\"text-align: right;\">\n",
       "      <th></th>\n",
       "      <th>PassengerId</th>\n",
       "      <th>Survived</th>\n",
       "    </tr>\n",
       "  </thead>\n",
       "  <tbody>\n",
       "    <tr>\n",
       "      <th>0</th>\n",
       "      <td>892</td>\n",
       "      <td>0</td>\n",
       "    </tr>\n",
       "    <tr>\n",
       "      <th>1</th>\n",
       "      <td>893</td>\n",
       "      <td>0</td>\n",
       "    </tr>\n",
       "    <tr>\n",
       "      <th>2</th>\n",
       "      <td>894</td>\n",
       "      <td>0</td>\n",
       "    </tr>\n",
       "    <tr>\n",
       "      <th>3</th>\n",
       "      <td>895</td>\n",
       "      <td>0</td>\n",
       "    </tr>\n",
       "    <tr>\n",
       "      <th>4</th>\n",
       "      <td>896</td>\n",
       "      <td>1</td>\n",
       "    </tr>\n",
       "  </tbody>\n",
       "</table>\n",
       "</div>"
      ],
      "text/plain": [
       "   PassengerId  Survived\n",
       "0          892         0\n",
       "1          893         0\n",
       "2          894         0\n",
       "3          895         0\n",
       "4          896         1"
      ]
     },
     "execution_count": 248,
     "metadata": {},
     "output_type": "execute_result"
    }
   ],
   "source": [
    "# In this step We will set up a new dataframe which only includes \"PassengerId\" and \"Survived\"\n",
    "# After download it and submitting the prediction to the Kaggle \n",
    "resultPr = pd.DataFrame()\n",
    "resultPr['PassengerId'] = transformdata_test['PassengerId']\n",
    "resultPr['Survived'] = transformdata_test['Survived']\n",
    "resultPr.to_csv('TitanicResultPr.csv', index=False)\n",
    "resultPr.head()"
   ]
  },
  {
   "cell_type": "markdown",
   "id": "a23797d5-28f1-40df-a3c6-fd867d336cbe",
   "metadata": {},
   "source": [
    "The modle says us the people who survived and die. (1, 0)"
   ]
  },
  {
   "cell_type": "markdown",
   "id": "c056d32e-51e4-4ff4-bf3d-d9e27a74ff87",
   "metadata": {},
   "source": [
    "* **Describe how the chosen features in 1.2 are involved in the chosen model (e.g., weighted linear combination of features in a linear model).[2 points]**"
   ]
  },
  {
   "cell_type": "markdown",
   "id": "4c68cade-28ea-4716-b926-1d375053e649",
   "metadata": {},
   "source": [
    "<font color='blue'>In the train and test data, We have five datasets: Pclass, Sex, Age, Fare, and cobmibe relative.   Females are more likely likely to survive than males, people in first or second class are more likely to survive than people in third class, children are more likely likely to survive than others, there is a high probabilty of survival when passengers have with 1 to 3 realitves and a lower probability when there is one or more than 3 (except for some cases with 6 relatives)., and people with higher fares are more likely to survive than people with lower fares, according to the EDA analysis.</font>"
   ]
  },
  {
   "cell_type": "markdown",
   "id": "02c9d341-f735-48ee-b286-f04186f73a9a",
   "metadata": {},
   "source": [
    "* **Describe the loss function that will be used to estimate the model's parameters (HINT: MSE? MAE? or others? if you are using an existing lib, you may need to check its document or google to figure out ). [2 points]**"
   ]
  },
  {
   "attachments": {
    "2f0ad92c-ed99-48ce-89aa-ed1a174f810c.png": {
     "image/png": "[encoded data removed]"
    },
    "53b33aab-aa32-44a0-94de-8f1ca3d0f9b6.png": {
     "image/png": "[encoded data removed]"
    },
    "cdc373c2-87b2-4b7f-8b8c-5ef9ed574d6f.png": {
     "image/png": "[encoded data removed]"
    }
   },
   "cell_type": "markdown",
   "id": "5cad48a0-dacd-483d-815a-6adb2bcfeeb8",
   "metadata": {},
   "source": [
    "We have five dataset, so we consider as \n",
    "\n",
    "![image.png](attachment:2f0ad92c-ed99-48ce-89aa-ed1a174f810c.png)\n",
    "\n",
    "and result is\n",
    "\n",
    "![image.png](attachment:53b33aab-aa32-44a0-94de-8f1ca3d0f9b6.png) \n",
    "\n",
    "and estimate probebality is\n",
    "\n",
    "![image.png](attachment:cdc373c2-87b2-4b7f-8b8c-5ef9ed574d6f.png)"
   ]
  },
  {
   "attachments": {
    "2995e8f0-f855-4986-99ba-3af4f696ffba.png": {
     "image/png": "[encoded data removed]"
    },
    "9d1e3b45-5dfe-4c39-b7db-2a7fb0ece777.png": {
     "image/png": "[encoded data removed]"
    },
    "ab9e7e9f-58d6-44e3-ae4e-c91d66e0d3f5.png": {
     "image/png": "[encoded data removed]"
    },
    "cba77a65-e26c-4ca5-8c3a-390e7b7b5239.png": {
     "image/png": "[encoded data removed]"
    }
   },
   "cell_type": "markdown",
   "id": "7780dea4-48fa-42d9-a136-849d2c5f9f2e",
   "metadata": {},
   "source": [
    "The logestic Model is \n",
    "\n",
    "![image.png](attachment:cba77a65-e26c-4ca5-8c3a-390e7b7b5239.png)\n",
    "\n",
    "logestic regression formula\n",
    "\n",
    "![image.png](attachment:9d1e3b45-5dfe-4c39-b7db-2a7fb0ece777.png)\n",
    "\n",
    "\n",
    "and loss function is \n",
    "\n",
    "![image.png](attachment:2995e8f0-f855-4986-99ba-3af4f696ffba.png)\n",
    "\n",
    "Finally, summ of the all data\n",
    "\n",
    "![image.png](attachment:ab9e7e9f-58d6-44e3-ae4e-c91d66e0d3f5.png)"
   ]
  },
  {
   "cell_type": "markdown",
   "id": "65dcc19b-2c7e-4bfa-89a5-617080ff03c7",
   "metadata": {},
   "source": [
    "* **Use a specific way (different ways have been discussed in A3) to estimate the model's parameters (e.g., sklearn's fit). [2 points]**"
   ]
  },
  {
   "cell_type": "code",
   "execution_count": 249,
   "id": "46fd7858-eb08-4b90-9f79-7225cba540b4",
   "metadata": {},
   "outputs": [
    {
     "name": "stdout",
     "output_type": "stream",
     "text": [
      "[[-0.8566716   1.315109   -0.48878194  0.1561572  -0.39577441]]\n",
      "[-0.63341212]\n"
     ]
    }
   ],
   "source": [
    "print(ls.coef_)\n",
    "print(ls.intercept_)"
   ]
  },
  {
   "cell_type": "markdown",
   "id": "0b4ed5c7-43ac-4cf0-ad9b-8980151fc2e3",
   "metadata": {},
   "source": [
    "* **Use the model estimated to conduct a submission to the Kaggle competition and screenshot your leaderboard position.[3 points]**"
   ]
  },
  {
   "attachments": {
    "24fb2296-8738-4edc-9bd1-ba3916ecf2c8.png": {
     "image/png": "[encoded data removed]"
    }
   },
   "cell_type": "markdown",
   "id": "f53201cd-8766-48c7-909d-3cfc22273687",
   "metadata": {},
   "source": [
    "![image.png](attachment:24fb2296-8738-4edc-9bd1-ba3916ecf2c8.png)"
   ]
  },
  {
   "attachments": {
    "4d7038a6-2418-424a-85e0-ff502035f6cb.png": {
     "image/png": "[encoded data removed]"
    }
   },
   "cell_type": "markdown",
   "id": "dbed318d-6eb2-4107-9056-6b4f04585315",
   "metadata": {},
   "source": [
    "![image.png](attachment:4d7038a6-2418-424a-85e0-ff502035f6cb.png)"
   ]
  },
  {
   "cell_type": "markdown",
   "id": "74de8aa0-3e2f-41de-8f33-d57f81859c4f",
   "metadata": {},
   "source": [
    "<font color='blue'>When we join as a group got the accuracy rate of 76.076%, and was ranked 11739th and improveing compare to the previouse result.</fint>"
   ]
  },
  {
   "cell_type": "markdown",
   "id": "f396df9b-9515-4306-a029-c6e00462db39",
   "metadata": {},
   "source": [
    "# 1.4 Inference"
   ]
  },
  {
   "cell_type": "markdown",
   "id": "d814cc1c-768d-4de8-b472-bd321aa1bdf5",
   "metadata": {},
   "source": [
    "In 1.3, you may have used the whole training data to do the model estimation. In this way, you have to submit many times to the leaderboard to compare the performance of different potential models (e.g., models using different subset of features, different models [i.e., SVM vs. Logistic Regression] using the same subset of features). This is actually not desired in real applications of data science. Therefore, you are required to choose another model to have at least two models (in your favor, any applicable ones, you can do literature review to see potential ones): A (model chosen in 1.3) and B, and compare their performance using cross validation (e.g., If you had to choose between A and B, which is better and why?). Your experiment should include but not limited to the following items.\n",
    "\n",
    "* **Correct choose of standard evaluation metric(s) for comparison, e.g., MSE for regression, accuracy for classification. [2 points]** \n",
    "* **Sound data splitting for train and test using only the training data to fairly compare A and B (main idea can be borrowed from A3). [5 points]**\n",
    "* **Fair performance comparison between A and B with clear explanation on which is better and why (without loss of significance test, main idea can be borrowed from A3). [5 points]**\n",
    "* **Conduct at least another submission to Kaggle and check if your leaderboard position can be improved (embed new screenshot for your leaderboard position in your notebook). [2 point]**\n",
    "* **Bonus [+4 points]: the team with the top leaderboard position of each project in this class will obtain bonus points and a prize from Juhua conditioned on a presentation sharing in the last lecture.**"
   ]
  },
  {
   "cell_type": "markdown",
   "id": "afaf671a-b648-46c0-8b4b-a6c98350ad8c",
   "metadata": {},
   "source": [
    "## Random Forest"
   ]
  },
  {
   "cell_type": "code",
   "execution_count": 261,
   "id": "3bb72fb0-bc93-41dd-bf75-809c589b4dc2",
   "metadata": {},
   "outputs": [
    {
     "name": "stdout",
     "output_type": "stream",
     "text": [
      "98.2\n"
     ]
    }
   ],
   "source": [
    "from sklearn.ensemble import RandomForestClassifier\n",
    "\n",
    "\n",
    "rf = RandomForestClassifier(n_estimators=100)\n",
    "rf.fit(x_train, y_train)\n",
    "rf.score(x_train, y_train)\n",
    "acc_random_forest = round(rf.score(x_train, y_train) * 100, 2)\n",
    "print(acc_random_forest)"
   ]
  },
  {
   "cell_type": "code",
   "execution_count": 262,
   "id": "5bacc2eb-bf0c-42a1-85ef-cba423f1e830",
   "metadata": {},
   "outputs": [
    {
     "data": {
      "text/plain": [
       "0.9832535885167464"
      ]
     },
     "execution_count": 262,
     "metadata": {},
     "output_type": "execute_result"
    }
   ],
   "source": [
    "y_test = transformdata_test['Survived']\n",
    "x_test = transformdata_test['dataset'].tolist()\n",
    "rf.score(x_test, y_test)"
   ]
  },
  {
   "cell_type": "code",
   "execution_count": 263,
   "id": "1523b598-1034-4f87-b8db-8be774ef5807",
   "metadata": {},
   "outputs": [
    {
     "data": {
      "text/html": [
       "<div>\n",
       "<style scoped>\n",
       "    .dataframe tbody tr th:only-of-type {\n",
       "        vertical-align: middle;\n",
       "    }\n",
       "\n",
       "    .dataframe tbody tr th {\n",
       "        vertical-align: top;\n",
       "    }\n",
       "\n",
       "    .dataframe thead th {\n",
       "        text-align: right;\n",
       "    }\n",
       "</style>\n",
       "<table border=\"1\" class=\"dataframe\">\n",
       "  <thead>\n",
       "    <tr style=\"text-align: right;\">\n",
       "      <th></th>\n",
       "      <th>PassengerId</th>\n",
       "      <th>Pclass</th>\n",
       "      <th>Sex</th>\n",
       "      <th>Age</th>\n",
       "      <th>Fare</th>\n",
       "      <th>Relative</th>\n",
       "      <th>dataset</th>\n",
       "      <th>Survived</th>\n",
       "    </tr>\n",
       "  </thead>\n",
       "  <tbody>\n",
       "    <tr>\n",
       "      <th>0</th>\n",
       "      <td>892</td>\n",
       "      <td>3</td>\n",
       "      <td>0</td>\n",
       "      <td>34.5</td>\n",
       "      <td>7.8292</td>\n",
       "      <td>0</td>\n",
       "      <td>[0.8273772438659676, -0.7376951317802897, 0.22...</td>\n",
       "      <td>0</td>\n",
       "    </tr>\n",
       "    <tr>\n",
       "      <th>1</th>\n",
       "      <td>893</td>\n",
       "      <td>3</td>\n",
       "      <td>1</td>\n",
       "      <td>47.0</td>\n",
       "      <td>7.0000</td>\n",
       "      <td>1</td>\n",
       "      <td>[0.8273772438659676, 1.3555735383351184, 1.154...</td>\n",
       "      <td>0</td>\n",
       "    </tr>\n",
       "    <tr>\n",
       "      <th>2</th>\n",
       "      <td>894</td>\n",
       "      <td>2</td>\n",
       "      <td>0</td>\n",
       "      <td>62.0</td>\n",
       "      <td>9.6875</td>\n",
       "      <td>0</td>\n",
       "      <td>[-0.3693648410115927, -0.7376951317802897, 2.2...</td>\n",
       "      <td>1</td>\n",
       "    </tr>\n",
       "    <tr>\n",
       "      <th>3</th>\n",
       "      <td>895</td>\n",
       "      <td>3</td>\n",
       "      <td>0</td>\n",
       "      <td>27.0</td>\n",
       "      <td>8.6625</td>\n",
       "      <td>0</td>\n",
       "      <td>[0.8273772438659676, -0.7376951317802897, -0.3...</td>\n",
       "      <td>1</td>\n",
       "    </tr>\n",
       "    <tr>\n",
       "      <th>4</th>\n",
       "      <td>896</td>\n",
       "      <td>3</td>\n",
       "      <td>1</td>\n",
       "      <td>22.0</td>\n",
       "      <td>12.2875</td>\n",
       "      <td>2</td>\n",
       "      <td>[0.8273772438659676, 1.3555735383351184, -0.70...</td>\n",
       "      <td>1</td>\n",
       "    </tr>\n",
       "  </tbody>\n",
       "</table>\n",
       "</div>"
      ],
      "text/plain": [
       "   PassengerId  Pclass  Sex   Age     Fare  Relative  \\\n",
       "0          892       3    0  34.5   7.8292         0   \n",
       "1          893       3    1  47.0   7.0000         1   \n",
       "2          894       2    0  62.0   9.6875         0   \n",
       "3          895       3    0  27.0   8.6625         0   \n",
       "4          896       3    1  22.0  12.2875         2   \n",
       "\n",
       "                                             dataset  Survived  \n",
       "0  [0.8273772438659676, -0.7376951317802897, 0.22...         0  \n",
       "1  [0.8273772438659676, 1.3555735383351184, 1.154...         0  \n",
       "2  [-0.3693648410115927, -0.7376951317802897, 2.2...         1  \n",
       "3  [0.8273772438659676, -0.7376951317802897, -0.3...         1  \n",
       "4  [0.8273772438659676, 1.3555735383351184, -0.70...         1  "
      ]
     },
     "execution_count": 263,
     "metadata": {},
     "output_type": "execute_result"
    }
   ],
   "source": [
    "# use trained random forest model to predict the result of test data (Predict on the test data)\n",
    "\n",
    "x_test = transformdata_test['dataset'].tolist()\n",
    "Y_prediction = rf.predict(x_test)\n",
    "transformdata_test['Survived'] = Y_prediction\n",
    "transformdata_test.head()"
   ]
  },
  {
   "cell_type": "code",
   "execution_count": 264,
   "id": "4dce7aef-f5b7-4b79-a358-d50f47665a30",
   "metadata": {},
   "outputs": [
    {
     "data": {
      "text/plain": [
       "RandomForestClassifier()"
      ]
     },
     "execution_count": 264,
     "metadata": {},
     "output_type": "execute_result"
    }
   ],
   "source": [
    "rf.fit(x_train, y_train)"
   ]
  },
  {
   "cell_type": "markdown",
   "id": "d0b10b46-b145-4b64-9a69-eb4ff6562746",
   "metadata": {},
   "source": [
    "## K-Fold Cross Validation"
   ]
  },
  {
   "cell_type": "markdown",
   "id": "8a920159-2daf-4e47-98b0-7cb5447c2b95",
   "metadata": {},
   "source": [
    "Borrowed from A3 assignment:\n",
    "The KFold.split function to get 10 splits on the entire data. Note that split returns the indices of the data for that split.\n",
    "Split the training data into 10 subsets k=10.For each subset, fit models holding out that subset compute the accuracy on that subset (the validation set).\n"
   ]
  },
  {
   "cell_type": "code",
   "execution_count": 265,
   "id": "90cd487c-388f-4010-b6b7-b794ec0e1c21",
   "metadata": {},
   "outputs": [
    {
     "name": "stdout",
     "output_type": "stream",
     "text": [
      "accuracy of each fold - [0.8, 0.797752808988764, 0.8089887640449438, 0.7640449438202247, 0.7865168539325843, 0.797752808988764, 0.7865168539325843, 0.8314606741573034, 0.8089887640449438, 0.8202247191011236]\n",
      "Avg accuracy : 0.8002247191011236\n",
      "accuracy of each fold - [0.8333333333333334, 0.8426966292134831, 0.8426966292134831, 0.797752808988764, 0.797752808988764, 0.8314606741573034, 0.7752808988764045, 0.7415730337078652, 0.8202247191011236, 0.8202247191011236]\n",
      "Avg accuracy : 0.8102996254681647\n"
     ]
    }
   ],
   "source": [
    "from sklearn.model_selection import KFold\n",
    "from sklearn.linear_model import LogisticRegression\n",
    "from sklearn.metrics import accuracy_score\n",
    "from sklearn.svm import SVC\n",
    "\n",
    "def compute_CV_accuracy(modelA, modelB, X_train, Y_train):\n",
    "    '''\n",
    "    Split the training data into 10 subsets.\n",
    "    For each subset, \n",
    "        fit models holding out that subset\n",
    "        compute the accuracy on that subset (the validation set)\n",
    "    You should be fitting 10 models total.\n",
    "    Return Accuracies and average accuracy of modelA and modelB\n",
    "\n",
    "    Args:\n",
    "        modelA and modelB: sklearn models with fit and predict functions \n",
    "        X_train (data_frame): Data\n",
    "        Y_train (data_frame): Label \n",
    "\n",
    "    Return:\n",
    "        Accuracy vector containing 10 accuracies for modelA\n",
    "        Accuracy vector containing 10 accuracies for modelB\n",
    "        the average accuracy for the 10 splits of modelA\n",
    "        the average accuracy for the 10 splits of modelB\n",
    "        \n",
    "    '''\n",
    "    \n",
    "    rng = np.random.RandomState(0)\n",
    "    kf = KFold(n_splits=10, shuffle=True, random_state=rng)\n",
    "    \n",
    "   \n",
    "    \n",
    "    validation_accuracies_A = []\n",
    "    validation_accuracies_B = []\n",
    "    \n",
    "    \n",
    "    for train_idx, valid_idx in kf.split(X_train):\n",
    "        # split the data\n",
    "        #print(\"%s %s\" %(train_idx, valid_idx))\n",
    "        split_X_train, split_X_valid = X_train.iloc[train_idx],X_train.iloc[valid_idx]\n",
    "        split_Y_train, split_Y_valid = Y_train.iloc[train_idx], Y_train.iloc[valid_idx]\n",
    "\n",
    "        # Fit the modelA on the training split\n",
    "        #print(np.stack(split_X_train)) \n",
    "      \n",
    "        modelA.fit(np.stack(split_X_train),split_Y_train)\n",
    "        pred_values = modelA.predict(np.stack(split_X_valid))\n",
    "     \n",
    "        # Compute the prediction accuracy on the validation split\n",
    "        \n",
    "        accuracyA = accuracy_score(pred_values , split_Y_valid) \n",
    "        validation_accuracies_A.append(accuracyA)\n",
    "        #modelB\n",
    "        modelB.fit(np.stack(split_X_train),split_Y_train)\n",
    "        pred_values = modelB.predict(np.stack(split_X_valid))\n",
    "        \n",
    "        \n",
    "        accuracyB = accuracy_score(pred_values , split_Y_valid) \n",
    "        validation_accuracies_B.append(accuracyB)\n",
    "    \n",
    "    \n",
    "    # Compute the prediction accuracy on the validation split\n",
    "        \n",
    "    return (\n",
    "        validation_accuracies_A, \n",
    "        np.mean(validation_accuracies_A), \n",
    "        validation_accuracies_B, \n",
    "        np.mean(validation_accuracies_B),\n",
    "    )\n",
    "\n",
    "val_A, avg_val_A, val_B, avg_val_B = compute_CV_accuracy(\n",
    "    LogisticRegression(solver='lbfgs', max_iter=10000), \n",
    "    RandomForestClassifier(n_estimators=100), \n",
    "    transformdata.dataset, \n",
    "    transformdata.Survived\n",
    ")\n",
    "\n",
    "print('accuracy of each fold - {}'.format(val_A))\n",
    "print('Avg accuracy : {}'.format(avg_val_A))\n",
    "print('accuracy of each fold - {}'.format(val_B))\n",
    "print('Avg accuracy : {}'.format(avg_val_B))\n",
    "\n"
   ]
  },
  {
   "cell_type": "markdown",
   "id": "834950a1-6d5d-4297-9598-a175bcaf58ef",
   "metadata": {},
   "source": [
    "Random Forest classifier result is beetr than the Logistic Regression"
   ]
  },
  {
   "cell_type": "markdown",
   "id": "d7f9f51e-e1b6-47f1-8578-2b9a0e90436b",
   "metadata": {},
   "source": [
    "## K-Fold Cross Validation on random forest"
   ]
  },
  {
   "cell_type": "code",
   "execution_count": 259,
   "id": "22a022f6-bd69-4c63-b46b-e2d79f95a400",
   "metadata": {},
   "outputs": [
    {
     "name": "stdout",
     "output_type": "stream",
     "text": [
      "Scores: [0.73333333 0.82022472 0.76404494 0.83146067 0.86516854 0.85393258\n",
      " 0.84269663 0.7752809  0.85393258 0.85393258]\n",
      "Mean: 0.8194007490636703\n",
      "Standard Deviation: 0.04333506514429224\n"
     ]
    }
   ],
   "source": [
    "from sklearn.model_selection import cross_val_score\n",
    "from sklearn.ensemble import RandomForestClassifier\n",
    "\n",
    "scores = cross_val_score(rf, x_train, y_train, cv=10, scoring = \"accuracy\")\n",
    "print(\"Scores:\", scores)\n",
    "print(\"Mean:\", scores.mean())\n",
    "print(\"Standard Deviation:\", scores.std())"
   ]
  },
  {
   "cell_type": "markdown",
   "id": "d8613708-c905-4515-b2b0-ff484e7cd19e",
   "metadata": {},
   "source": [
    "<font color='blue'>This appears to be a lot more realistic than before. With a standard deviation of 4%, our model has an average accuracy of 82 percent. The standard deviation reveals the precision of the estimates.</font>"
   ]
  },
  {
   "cell_type": "code",
   "execution_count": 256,
   "id": "1813fa8f-759f-488a-9083-62375e5b60e6",
   "metadata": {},
   "outputs": [
    {
     "data": {
      "text/html": [
       "<div>\n",
       "<style scoped>\n",
       "    .dataframe tbody tr th:only-of-type {\n",
       "        vertical-align: middle;\n",
       "    }\n",
       "\n",
       "    .dataframe tbody tr th {\n",
       "        vertical-align: top;\n",
       "    }\n",
       "\n",
       "    .dataframe thead th {\n",
       "        text-align: right;\n",
       "    }\n",
       "</style>\n",
       "<table border=\"1\" class=\"dataframe\">\n",
       "  <thead>\n",
       "    <tr style=\"text-align: right;\">\n",
       "      <th></th>\n",
       "      <th>importance</th>\n",
       "    </tr>\n",
       "    <tr>\n",
       "      <th>feature</th>\n",
       "      <th></th>\n",
       "    </tr>\n",
       "  </thead>\n",
       "  <tbody>\n",
       "    <tr>\n",
       "      <th>Fare</th>\n",
       "      <td>0.291</td>\n",
       "    </tr>\n",
       "    <tr>\n",
       "      <th>Sex</th>\n",
       "      <td>0.273</td>\n",
       "    </tr>\n",
       "    <tr>\n",
       "      <th>Age</th>\n",
       "      <td>0.273</td>\n",
       "    </tr>\n",
       "    <tr>\n",
       "      <th>Pclass</th>\n",
       "      <td>0.085</td>\n",
       "    </tr>\n",
       "    <tr>\n",
       "      <th>Relative</th>\n",
       "      <td>0.079</td>\n",
       "    </tr>\n",
       "  </tbody>\n",
       "</table>\n",
       "</div>"
      ],
      "text/plain": [
       "          importance\n",
       "feature             \n",
       "Fare           0.291\n",
       "Sex            0.273\n",
       "Age            0.273\n",
       "Pclass         0.085\n",
       "Relative       0.079"
      ]
     },
     "execution_count": 256,
     "metadata": {},
     "output_type": "execute_result"
    }
   ],
   "source": [
    "names= ['Pclass','Sex', 'Age', 'Fare', 'Relative']\n",
    "importances = pd.DataFrame({'feature':names,'importance':np.round(rf.feature_importances_,3)})\n",
    "importances = importances.sort_values('importance',ascending=False).set_index('feature')\n",
    "importances.head(5)"
   ]
  },
  {
   "cell_type": "code",
   "execution_count": 257,
   "id": "ddd409a6-67ec-45d8-b48b-2269622b5806",
   "metadata": {},
   "outputs": [
    {
     "data": {
      "text/plain": [
       "<AxesSubplot:xlabel='feature'>"
      ]
     },
     "execution_count": 257,
     "metadata": {},
     "output_type": "execute_result"
    },
    {
     "data": {
      "image/png": "[encoded data removed]",
      "text/plain": [
       "<Figure size 432x288 with 1 Axes>"
      ]
     },
     "metadata": {
      "needs_background": "light"
     },
     "output_type": "display_data"
    }
   ],
   "source": [
    "importances.plot.bar()"
   ]
  },
  {
   "cell_type": "code",
   "execution_count": 258,
   "id": "231ec393-6238-4303-9fb5-3a8850e6f5b7",
   "metadata": {},
   "outputs": [
    {
     "data": {
      "text/html": [
       "<div>\n",
       "<style scoped>\n",
       "    .dataframe tbody tr th:only-of-type {\n",
       "        vertical-align: middle;\n",
       "    }\n",
       "\n",
       "    .dataframe tbody tr th {\n",
       "        vertical-align: top;\n",
       "    }\n",
       "\n",
       "    .dataframe thead th {\n",
       "        text-align: right;\n",
       "    }\n",
       "</style>\n",
       "<table border=\"1\" class=\"dataframe\">\n",
       "  <thead>\n",
       "    <tr style=\"text-align: right;\">\n",
       "      <th></th>\n",
       "      <th>PassengerId</th>\n",
       "      <th>Survived</th>\n",
       "    </tr>\n",
       "  </thead>\n",
       "  <tbody>\n",
       "    <tr>\n",
       "      <th>0</th>\n",
       "      <td>892</td>\n",
       "      <td>0</td>\n",
       "    </tr>\n",
       "    <tr>\n",
       "      <th>1</th>\n",
       "      <td>893</td>\n",
       "      <td>0</td>\n",
       "    </tr>\n",
       "    <tr>\n",
       "      <th>2</th>\n",
       "      <td>894</td>\n",
       "      <td>1</td>\n",
       "    </tr>\n",
       "    <tr>\n",
       "      <th>3</th>\n",
       "      <td>895</td>\n",
       "      <td>1</td>\n",
       "    </tr>\n",
       "    <tr>\n",
       "      <th>4</th>\n",
       "      <td>896</td>\n",
       "      <td>1</td>\n",
       "    </tr>\n",
       "  </tbody>\n",
       "</table>\n",
       "</div>"
      ],
      "text/plain": [
       "   PassengerId  Survived\n",
       "0          892         0\n",
       "1          893         0\n",
       "2          894         1\n",
       "3          895         1\n",
       "4          896         1"
      ]
     },
     "execution_count": 258,
     "metadata": {},
     "output_type": "execute_result"
    }
   ],
   "source": [
    "# In this step We will set up a new dataframe which only includes \"PassengerId\" and \"Survived\"\n",
    "# After download it and submitting the prediction to the Kaggle \n",
    "resultrandomForest = pd.DataFrame()\n",
    "resultrandomForest['PassengerId'] = transformdata_test['PassengerId']\n",
    "resultrandomForest['Survived'] = transformdata_test['Survived']\n",
    "resultrandomForest.to_csv('resultrandomForest.csv', index=False)\n",
    "resultrandomForest.head()"
   ]
  },
  {
   "cell_type": "markdown",
   "id": "3f6c0e9b-d703-4552-abb8-ad07d941e8df",
   "metadata": {},
   "source": [
    "# 1.5 Conclusions and Learnings"
   ]
  },
  {
   "cell_type": "markdown",
   "id": "bc4ad210-30f9-49bb-9eda-cf364ab46093",
   "metadata": {},
   "source": [
    "In this section, you can summarize your project and conclude your findings based on what you have done for the whole project. Additionally, please state what you have learned from this project in this course.\n",
    "\n",
    "* **A convincing conclusion about the findings. [2 points]**\n",
    "* **What you have learned from this project. [2 points]**"
   ]
  },
  {
   "cell_type": "markdown",
   "id": "37128e93-662d-49c7-984a-0befd085463c",
   "metadata": {},
   "source": [
    "**<font color='blue'>Began with data exploration, which allowed us to get a sense of the dataset, check for missing data, and determine which aspects are most essential. The visualizations were created using seaborn and matplotlib during this procedure. We computed missing values, transformed features to numeric ones and created a few additional features during the data preprocessing phase.\n",
    "Afterwards we started training model, but we learn how we can improve the overall result on the kaggle leaderboard would be a more extensive hyperparameter tuning on several machine learning models. We used random forest and applied cross validation on it. Then we discussed how random forest works, took a look at the importance. \n",
    "Below you can see a before and after picture of the “train” dataframe:\n",
    "</font>**"
   ]
  },
  {
   "cell_type": "code",
   "execution_count": null,
   "id": "6971c4f0-5b35-46eb-b442-09374ee14452",
   "metadata": {},
   "outputs": [],
   "source": []
  },
  {
   "attachments": {
    "d623006a-9aa2-46d1-a873-dc605e8550b4.png": {
     "image/png": "[encoded data removed]"
    },
    "eda62d33-9563-4362-92b0-32e009b2ea44.png": {
     "image/png": "[encoded data removed]"
    }
   },
   "cell_type": "markdown",
   "id": "9e635fd2-1716-4d53-9ba5-00a9ba51899f",
   "metadata": {},
   "source": [
    "![image.png](attachment:d623006a-9aa2-46d1-a873-dc605e8550b4.png) ![image.png](attachment:eda62d33-9563-4362-92b0-32e009b2ea44.png)"
   ]
  },
  {
   "cell_type": "markdown",
   "id": "7f19027b-6d40-4be4-9384-924435f670d8",
   "metadata": {},
   "source": [
    "<font color='blue'>***Finally, There is still opportunity for improvement, such as performing a more thorough feature engineering by comparing and charting the features against each other, as well as finding and deleting the noisy features.***</font>"
   ]
  }
 ],
 "metadata": {
  "kernelspec": {
   "display_name": "Python 3",
   "language": "python",
   "name": "python3"
  },
  "language_info": {
   "codemirror_mode": {
    "name": "ipython",
    "version": 3
   },
   "file_extension": ".py",
   "mimetype": "text/x-python",
   "name": "python",
   "nbconvert_exporter": "python",
   "pygments_lexer": "ipython3",
   "version": "3.8.8"
  }
 },
 "nbformat": 4,
 "nbformat_minor": 5
}
