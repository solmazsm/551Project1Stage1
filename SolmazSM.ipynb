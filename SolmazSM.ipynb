{
 "cells": [
  {
   "cell_type": "markdown",
   "id": "08ee9a96-6317-474d-867a-a02969664852",
   "metadata": {},
   "source": [
    "# Solmaz Seyed Monir"
   ]
  },
  {
   "cell_type": "code",
   "execution_count": 4,
   "id": "7986ff78-82f6-4e01-ac82-acb6cbe70850",
   "metadata": {},
   "outputs": [
    {
     "name": "stdout",
     "output_type": "stream",
     "text": [
      "Requirement already satisfied: otter-grader in /opt/conda/lib/python3.8/site-packages (3.1.4)\n",
      "Requirement already satisfied: gspread in /opt/conda/lib/python3.8/site-packages (from otter-grader) (4.0.1)\n",
      "Requirement already satisfied: nbformat in /opt/conda/lib/python3.8/site-packages (from otter-grader) (5.1.3)\n",
      "Requirement already satisfied: requests in /opt/conda/lib/python3.8/site-packages (from otter-grader) (2.25.1)\n",
      "Requirement already satisfied: nbconvert in /opt/conda/lib/python3.8/site-packages (from otter-grader) (6.0.7)\n",
      "Requirement already satisfied: dill in /opt/conda/lib/python3.8/site-packages (from otter-grader) (0.3.3)\n",
      "Requirement already satisfied: pdfkit in /opt/conda/lib/python3.8/site-packages (from otter-grader) (0.6.1)\n",
      "Requirement already satisfied: jupyter-client in /opt/conda/lib/python3.8/site-packages (from otter-grader) (6.1.12)\n",
      "Requirement already satisfied: matplotlib in /opt/conda/lib/python3.8/site-packages (from otter-grader) (3.4.1)\n",
      "Requirement already satisfied: ipykernel in /opt/conda/lib/python3.8/site-packages (from otter-grader) (5.5.3)\n",
      "Requirement already satisfied: python-on-whales in /opt/conda/lib/python3.8/site-packages (from otter-grader) (0.27.0)\n",
      "Requirement already satisfied: pandas in /opt/conda/lib/python3.8/site-packages (from otter-grader) (1.2.4)\n",
      "Requirement already satisfied: PyPDF2 in /opt/conda/lib/python3.8/site-packages (from otter-grader) (1.26.0)\n",
      "Requirement already satisfied: PyYAML in /opt/conda/lib/python3.8/site-packages (from otter-grader) (5.4.1)\n",
      "Requirement already satisfied: jinja2 in /opt/conda/lib/python3.8/site-packages (from otter-grader) (2.11.3)\n",
      "Requirement already satisfied: google-api-python-client in /opt/conda/lib/python3.8/site-packages (from otter-grader) (2.24.0)\n",
      "Requirement already satisfied: six in /opt/conda/lib/python3.8/site-packages (from otter-grader) (1.15.0)\n",
      "Requirement already satisfied: google-auth-oauthlib in /opt/conda/lib/python3.8/site-packages (from otter-grader) (0.4.1)\n",
      "Requirement already satisfied: httplib2<1dev,>=0.15.0 in /opt/conda/lib/python3.8/site-packages (from google-api-python-client->otter-grader) (0.20.1)\n",
      "Requirement already satisfied: google-auth-httplib2>=0.1.0 in /opt/conda/lib/python3.8/site-packages (from google-api-python-client->otter-grader) (0.1.0)\n",
      "Requirement already satisfied: google-auth<3.0.0dev,>=1.16.0 in /opt/conda/lib/python3.8/site-packages (from google-api-python-client->otter-grader) (1.30.0)\n",
      "Requirement already satisfied: uritemplate<4dev,>=3.0.0 in /opt/conda/lib/python3.8/site-packages (from google-api-python-client->otter-grader) (3.0.1)\n",
      "Requirement already satisfied: google-api-core<3.0.0dev,>=1.21.0 in /opt/conda/lib/python3.8/site-packages (from google-api-python-client->otter-grader) (1.26.3)\n",
      "Requirement already satisfied: protobuf>=3.12.0 in /opt/conda/lib/python3.8/site-packages (from google-api-core<3.0.0dev,>=1.21.0->google-api-python-client->otter-grader) (3.15.8)\n",
      "Requirement already satisfied: packaging>=14.3 in /opt/conda/lib/python3.8/site-packages (from google-api-core<3.0.0dev,>=1.21.0->google-api-python-client->otter-grader) (20.9)\n",
      "Requirement already satisfied: setuptools>=40.3.0 in /opt/conda/lib/python3.8/site-packages (from google-api-core<3.0.0dev,>=1.21.0->google-api-python-client->otter-grader) (49.6.0.post20210108)\n",
      "Requirement already satisfied: pytz in /opt/conda/lib/python3.8/site-packages (from google-api-core<3.0.0dev,>=1.21.0->google-api-python-client->otter-grader) (2021.1)\n",
      "Requirement already satisfied: googleapis-common-protos<2.0dev,>=1.6.0 in /opt/conda/lib/python3.8/site-packages (from google-api-core<3.0.0dev,>=1.21.0->google-api-python-client->otter-grader) (1.53.0)\n",
      "Requirement already satisfied: pyasn1-modules>=0.2.1 in /opt/conda/lib/python3.8/site-packages (from google-auth<3.0.0dev,>=1.16.0->google-api-python-client->otter-grader) (0.2.7)\n",
      "Requirement already satisfied: cachetools<5.0,>=2.0.0 in /opt/conda/lib/python3.8/site-packages (from google-auth<3.0.0dev,>=1.16.0->google-api-python-client->otter-grader) (4.2.2)\n",
      "Requirement already satisfied: rsa<5,>=3.1.4 in /opt/conda/lib/python3.8/site-packages (from google-auth<3.0.0dev,>=1.16.0->google-api-python-client->otter-grader) (4.7.2)\n",
      "Requirement already satisfied: pyparsing<3,>=2.4.2 in /opt/conda/lib/python3.8/site-packages (from httplib2<1dev,>=0.15.0->google-api-python-client->otter-grader) (2.4.7)\n",
      "Requirement already satisfied: pyasn1<0.5.0,>=0.4.6 in /opt/conda/lib/python3.8/site-packages (from pyasn1-modules>=0.2.1->google-auth<3.0.0dev,>=1.16.0->google-api-python-client->otter-grader) (0.4.8)\n",
      "Requirement already satisfied: chardet<5,>=3.0.2 in /opt/conda/lib/python3.8/site-packages (from requests->otter-grader) (4.0.0)\n",
      "Requirement already satisfied: certifi>=2017.4.17 in /opt/conda/lib/python3.8/site-packages (from requests->otter-grader) (2021.5.30)\n",
      "Requirement already satisfied: idna<3,>=2.5 in /opt/conda/lib/python3.8/site-packages (from requests->otter-grader) (2.10)\n",
      "Requirement already satisfied: urllib3<1.27,>=1.21.1 in /opt/conda/lib/python3.8/site-packages (from requests->otter-grader) (1.26.4)\n",
      "Requirement already satisfied: requests-oauthlib>=0.7.0 in /opt/conda/lib/python3.8/site-packages (from google-auth-oauthlib->otter-grader) (1.3.0)\n",
      "Requirement already satisfied: oauthlib>=3.0.0 in /opt/conda/lib/python3.8/site-packages (from requests-oauthlib>=0.7.0->google-auth-oauthlib->otter-grader) (3.0.1)\n",
      "Requirement already satisfied: traitlets>=4.1.0 in /opt/conda/lib/python3.8/site-packages (from ipykernel->otter-grader) (5.0.5)\n",
      "Requirement already satisfied: tornado>=4.2 in /opt/conda/lib/python3.8/site-packages (from ipykernel->otter-grader) (6.1)\n",
      "Requirement already satisfied: ipython>=5.0.0 in /opt/conda/lib/python3.8/site-packages (from ipykernel->otter-grader) (7.23.0)\n",
      "Requirement already satisfied: pygments in /opt/conda/lib/python3.8/site-packages (from ipython>=5.0.0->ipykernel->otter-grader) (2.8.1)\n",
      "Requirement already satisfied: backcall in /opt/conda/lib/python3.8/site-packages (from ipython>=5.0.0->ipykernel->otter-grader) (0.2.0)\n",
      "Requirement already satisfied: prompt-toolkit!=3.0.0,!=3.0.1,<3.1.0,>=2.0.0 in /opt/conda/lib/python3.8/site-packages (from ipython>=5.0.0->ipykernel->otter-grader) (3.0.18)\n",
      "Requirement already satisfied: decorator in /opt/conda/lib/python3.8/site-packages (from ipython>=5.0.0->ipykernel->otter-grader) (5.0.7)\n",
      "Requirement already satisfied: jedi>=0.16 in /opt/conda/lib/python3.8/site-packages (from ipython>=5.0.0->ipykernel->otter-grader) (0.18.0)\n",
      "Requirement already satisfied: pexpect>4.3 in /opt/conda/lib/python3.8/site-packages (from ipython>=5.0.0->ipykernel->otter-grader) (4.8.0)\n",
      "Requirement already satisfied: pickleshare in /opt/conda/lib/python3.8/site-packages (from ipython>=5.0.0->ipykernel->otter-grader) (0.7.5)\n",
      "Requirement already satisfied: matplotlib-inline in /opt/conda/lib/python3.8/site-packages (from ipython>=5.0.0->ipykernel->otter-grader) (0.1.2)\n",
      "Requirement already satisfied: parso<0.9.0,>=0.8.0 in /opt/conda/lib/python3.8/site-packages (from jedi>=0.16->ipython>=5.0.0->ipykernel->otter-grader) (0.8.2)\n",
      "Requirement already satisfied: ptyprocess>=0.5 in /opt/conda/lib/python3.8/site-packages (from pexpect>4.3->ipython>=5.0.0->ipykernel->otter-grader) (0.7.0)\n",
      "Requirement already satisfied: wcwidth in /opt/conda/lib/python3.8/site-packages (from prompt-toolkit!=3.0.0,!=3.0.1,<3.1.0,>=2.0.0->ipython>=5.0.0->ipykernel->otter-grader) (0.2.5)\n",
      "Requirement already satisfied: ipython-genutils in /opt/conda/lib/python3.8/site-packages (from traitlets>=4.1.0->ipykernel->otter-grader) (0.2.0)\n",
      "Requirement already satisfied: MarkupSafe>=0.23 in /opt/conda/lib/python3.8/site-packages (from jinja2->otter-grader) (1.1.1)\n",
      "Requirement already satisfied: pyzmq>=13 in /opt/conda/lib/python3.8/site-packages (from jupyter-client->otter-grader) (22.0.3)\n",
      "Requirement already satisfied: jupyter-core>=4.6.0 in /opt/conda/lib/python3.8/site-packages (from jupyter-client->otter-grader) (4.7.1)\n",
      "Requirement already satisfied: python-dateutil>=2.1 in /opt/conda/lib/python3.8/site-packages (from jupyter-client->otter-grader) (2.8.1)\n",
      "Requirement already satisfied: pillow>=6.2.0 in /opt/conda/lib/python3.8/site-packages (from matplotlib->otter-grader) (8.1.2)\n",
      "Requirement already satisfied: cycler>=0.10 in /opt/conda/lib/python3.8/site-packages (from matplotlib->otter-grader) (0.10.0)\n",
      "Requirement already satisfied: kiwisolver>=1.0.1 in /opt/conda/lib/python3.8/site-packages (from matplotlib->otter-grader) (1.3.1)\n",
      "Requirement already satisfied: numpy>=1.16 in /opt/conda/lib/python3.8/site-packages (from matplotlib->otter-grader) (1.20.2)\n",
      "Requirement already satisfied: bleach in /opt/conda/lib/python3.8/site-packages (from nbconvert->otter-grader) (3.3.0)\n",
      "Requirement already satisfied: pandocfilters>=1.4.1 in /opt/conda/lib/python3.8/site-packages (from nbconvert->otter-grader) (1.4.2)\n",
      "Requirement already satisfied: defusedxml in /opt/conda/lib/python3.8/site-packages (from nbconvert->otter-grader) (0.7.1)\n",
      "Requirement already satisfied: mistune<2,>=0.8.1 in /opt/conda/lib/python3.8/site-packages (from nbconvert->otter-grader) (0.8.4)\n",
      "Requirement already satisfied: jupyterlab-pygments in /opt/conda/lib/python3.8/site-packages (from nbconvert->otter-grader) (0.1.2)\n",
      "Requirement already satisfied: testpath in /opt/conda/lib/python3.8/site-packages (from nbconvert->otter-grader) (0.4.4)\n",
      "Requirement already satisfied: entrypoints>=0.2.2 in /opt/conda/lib/python3.8/site-packages (from nbconvert->otter-grader) (0.3)\n",
      "Requirement already satisfied: nbclient<0.6.0,>=0.5.0 in /opt/conda/lib/python3.8/site-packages (from nbconvert->otter-grader) (0.5.3)\n",
      "Requirement already satisfied: async-generator in /opt/conda/lib/python3.8/site-packages (from nbclient<0.6.0,>=0.5.0->nbconvert->otter-grader) (1.10)\n",
      "Requirement already satisfied: nest-asyncio in /opt/conda/lib/python3.8/site-packages (from nbclient<0.6.0,>=0.5.0->nbconvert->otter-grader) (1.5.1)\n",
      "Requirement already satisfied: jsonschema!=2.5.0,>=2.4 in /opt/conda/lib/python3.8/site-packages (from nbformat->otter-grader) (3.2.0)\n",
      "Requirement already satisfied: pyrsistent>=0.14.0 in /opt/conda/lib/python3.8/site-packages (from jsonschema!=2.5.0,>=2.4->nbformat->otter-grader) (0.17.3)\n",
      "Requirement already satisfied: attrs>=17.4.0 in /opt/conda/lib/python3.8/site-packages (from jsonschema!=2.5.0,>=2.4->nbformat->otter-grader) (20.3.0)\n",
      "Requirement already satisfied: webencodings in /opt/conda/lib/python3.8/site-packages (from bleach->nbconvert->otter-grader) (0.5.1)\n",
      "Requirement already satisfied: pydantic in /opt/conda/lib/python3.8/site-packages (from python-on-whales->otter-grader) (1.7.3)\n",
      "Requirement already satisfied: tqdm in /opt/conda/lib/python3.8/site-packages (from python-on-whales->otter-grader) (4.60.0)\n",
      "Requirement already satisfied: typer in /opt/conda/lib/python3.8/site-packages (from python-on-whales->otter-grader) (0.3.2)\n",
      "Requirement already satisfied: click<7.2.0,>=7.1.1 in /opt/conda/lib/python3.8/site-packages (from typer->python-on-whales->otter-grader) (7.1.2)\n"
     ]
    }
   ],
   "source": [
    "# We can also install otter here\n",
    "! pip install otter-grader"
   ]
  },
  {
   "cell_type": "code",
   "execution_count": 5,
   "id": "9fa9d33f-e581-4fdc-8cf1-1bd09a0b9cc0",
   "metadata": {},
   "outputs": [],
   "source": [
    "# Initialize Otter\n",
    "import otter\n",
    "grader = otter.Notebook(\"A1.ipynb\")"
   ]
  },
  {
   "cell_type": "code",
   "execution_count": 6,
   "id": "a0c516e5-b0bb-4d55-852f-05fa8296ea7c",
   "metadata": {},
   "outputs": [
    {
     "name": "stdout",
     "output_type": "stream",
     "text": [
      "Help on built-in function print in module builtins:\n",
      "\n",
      "print(...)\n",
      "    print(value, ..., sep=' ', end='\\n', file=sys.stdout, flush=False)\n",
      "    \n",
      "    Prints the values to a stream, or to sys.stdout by default.\n",
      "    Optional keyword arguments:\n",
      "    file:  a file-like object (stream); defaults to the current sys.stdout.\n",
      "    sep:   string inserted between values, default a space.\n",
      "    end:   string appended after the last value, default a newline.\n",
      "    flush: whether to forcibly flush the stream.\n",
      "\n"
     ]
    }
   ],
   "source": [
    "help(print)"
   ]
  },
  {
   "cell_type": "code",
   "execution_count": 3,
   "id": "5fc4e584-4bc2-45e5-9eef-7a06cd9a17ab",
   "metadata": {},
   "outputs": [
    {
     "name": "stdout",
     "output_type": "stream",
     "text": [
      "Welcome to TCSS 551.\n"
     ]
    }
   ],
   "source": [
    "print('Welcome to TCSS 551.')"
   ]
  },
  {
   "cell_type": "code",
   "execution_count": 40,
   "id": "5c3494eb-4973-43fb-ad73-540d25555757",
   "metadata": {},
   "outputs": [],
   "source": [
    "import pandas as pd\n",
    "import numpy as np\n",
    "import matplotlib.pyplot as plt\n",
    "plt.style.use('fivethirtyeight')\n",
    "%matplotlib inline"
   ]
  },
  {
   "cell_type": "code",
   "execution_count": 41,
   "id": "87b93bfd-06c8-42d2-a7aa-e7960800df15",
   "metadata": {},
   "outputs": [
    {
     "name": "stdout",
     "output_type": "stream",
     "text": [
      "CPU times: user 14 µs, sys: 4 µs, total: 18 µs\n",
      "Wall time: 21.5 µs\n"
     ]
    }
   ],
   "source": [
    "%%time\n",
    "\n",
    "lst = []\n",
    "for i in range(100):\n",
    "    lst.append(i)"
   ]
  },
  {
   "cell_type": "code",
   "execution_count": 6,
   "id": "01423283-92e3-49a4-bc06-0f452e412555",
   "metadata": {},
   "outputs": [
    {
     "data": {
      "text/plain": [
       "3"
      ]
     },
     "execution_count": 6,
     "metadata": {},
     "output_type": "execute_result"
    }
   ],
   "source": [
    "1 + 2"
   ]
  },
  {
   "cell_type": "code",
   "execution_count": 7,
   "id": "e1d22579-0fac-45d9-92c6-2a0841354c0b",
   "metadata": {},
   "outputs": [
    {
     "data": {
      "text/plain": [
       "16"
      ]
     },
     "execution_count": 7,
     "metadata": {},
     "output_type": "execute_result"
    }
   ],
   "source": [
    "# This is a comment.\n",
    "# In Python, the ** operator performs exponentiation.\n",
    "2**4"
   ]
  },
  {
   "cell_type": "code",
   "execution_count": 8,
   "id": "6d9d9d85-7e15-464e-b247-654da4698029",
   "metadata": {},
   "outputs": [
    {
     "data": {
      "text/plain": [
       "0.36787944117144233"
      ]
     },
     "execution_count": 8,
     "metadata": {},
     "output_type": "execute_result"
    }
   ],
   "source": [
    "import math\n",
    "math.e**(-1)"
   ]
  },
  {
   "cell_type": "code",
   "execution_count": 9,
   "id": "7a12741d-c99f-493b-bbe1-e3e4a6ae25cb",
   "metadata": {},
   "outputs": [
    {
     "data": {
      "text/plain": [
       "7"
      ]
     },
     "execution_count": 9,
     "metadata": {},
     "output_type": "execute_result"
    }
   ],
   "source": [
    "def add_v1(x):\n",
    "    \"\"\"This docstring explains what this function does: it adds 2 to a number.\"\"\"\n",
    "    return x + 2\n",
    "\n",
    "add_v1(5)"
   ]
  },
  {
   "cell_type": "code",
   "execution_count": 10,
   "id": "4522bded-5310-469c-9448-171d822f68db",
   "metadata": {},
   "outputs": [
    {
     "data": {
      "text/plain": [
       "7"
      ]
     },
     "execution_count": 10,
     "metadata": {},
     "output_type": "execute_result"
    }
   ],
   "source": [
    "# add_v2 is very similar to add_v1, but it's been created using a lambda expression.\n",
    "# THIS IS MORE PYTHONIC\n",
    "add_v2 = lambda x: x + 2\n",
    "add_v2(5)"
   ]
  },
  {
   "cell_type": "code",
   "execution_count": 11,
   "id": "adcfed20-caa3-4231-9bcf-bf9ace3c48c9",
   "metadata": {},
   "outputs": [
    {
     "data": {
      "text/plain": [
       "5"
      ]
     },
     "execution_count": 11,
     "metadata": {},
     "output_type": "execute_result"
    }
   ],
   "source": [
    "def fib(n):\n",
    "    if n <= 1:\n",
    "        return 1\n",
    "    # Functions can call themselves recursively.\n",
    "    return fib(n-1) + fib(n-2)\n",
    "\n",
    "fib(4)"
   ]
  },
  {
   "cell_type": "code",
   "execution_count": 12,
   "id": "d1b23ac1-4a12-4305-a94f-4fd2b842a4bb",
   "metadata": {},
   "outputs": [
    {
     "name": "stdout",
     "output_type": "stream",
     "text": [
      "1\n",
      "Odd power of 2\n",
      "4\n",
      "Odd power of 2\n",
      "16\n"
     ]
    }
   ],
   "source": [
    "# A for loop repeats a block of code once for each element in a given collection.\n",
    "for i in range(5):\n",
    "    if i % 2 == 0:\n",
    "        print(2**i)\n",
    "    else:\n",
    "        print(\"Odd power of 2\")"
   ]
  },
  {
   "cell_type": "code",
   "execution_count": 13,
   "id": "ea5510ea-bc83-449e-84ca-9450d47178da",
   "metadata": {},
   "outputs": [
    {
     "name": "stdout",
     "output_type": "stream",
     "text": [
      "1\n",
      "Odd power of 2\n",
      "4\n",
      "Odd power of 2\n",
      "16\n"
     ]
    }
   ],
   "source": [
    "# A list comprehension is a convenient way to apply a function\n",
    "# to each element in a given collection.\n",
    "# The String method join appends together all its arguments\n",
    "# separated by the given string.  So we append each element produced\n",
    "# by the list comprehension, each separated by a newline (\"\\n\").\n",
    "# THIS IS MORE PYTHONIC\n",
    "print(\"\\n\".join([str(2**i) if i % 2 == 0 else \"Odd power of 2\" for i in range(5)]))"
   ]
  },
  {
   "cell_type": "code",
   "execution_count": 12,
   "id": "ec886c5d-f1ae-4061-8132-5db9b7b17598",
   "metadata": {},
   "outputs": [
    {
     "data": {
      "text/plain": [
       "'5 4 3 2 1'"
      ]
     },
     "execution_count": 12,
     "metadata": {},
     "output_type": "execute_result"
    }
   ],
   "source": [
    "def nums_reversed(n):\n",
    "    str_list = [str(x) for x in range(n, 0, -1)]\n",
    "    return '%s' % ' '.join(str_list)\n",
    "\n",
    "nums_reversed(5)\n",
    " "
   ]
  },
  {
   "cell_type": "code",
   "execution_count": 34,
   "id": "8f562331-d879-4788-8e05-2418c453e3ad",
   "metadata": {},
   "outputs": [
    {
     "data": {
      "text/plain": [
       "'5 4 3 2 1'"
      ]
     },
     "execution_count": 34,
     "metadata": {},
     "output_type": "execute_result"
    }
   ],
   "source": [
    "def nums_reversed(n):\n",
    "    str_list = [str(x) for x in range(n, 0, -1)]\n",
    "    return '%s' % ' '.join(str_list)\n",
    "\n",
    "nums_reversed(5)"
   ]
  },
  {
   "cell_type": "code",
   "execution_count": 35,
   "id": "e5eb56c5-d2a3-4f7c-9eba-1fcc78da472f",
   "metadata": {},
   "outputs": [
    {
     "data": {
      "text/html": [
       "<p><strong><pre style='display: inline;'>Question 2.a</pre></strong> passed!</p>"
      ],
      "text/plain": [
       "Question 2.a results: All test cases passed!"
      ]
     },
     "execution_count": 35,
     "metadata": {},
     "output_type": "execute_result"
    }
   ],
   "source": [
    "grader.check(\"q02a\")"
   ]
  },
  {
   "cell_type": "code",
   "execution_count": 32,
   "id": "db46295f-12f4-4675-b8d1-9118fa633b11",
   "metadata": {},
   "outputs": [
    {
     "data": {
      "text/plain": [
       "'5 4 3 2 1'"
      ]
     },
     "execution_count": 32,
     "metadata": {},
     "output_type": "execute_result"
    }
   ],
   "source": [
    "def nums_reversed(n):\n",
    "    str_list = [str(x) for x in range(n, 0, -1)]\n",
    "    return '%s' % ' '.join(str_list)\n",
    "\n",
    "nums_reversed(5)"
   ]
  },
  {
   "cell_type": "code",
   "execution_count": 33,
   "id": "45bc551f-2c13-4728-a429-ec5834a1101b",
   "metadata": {},
   "outputs": [
    {
     "data": {
      "text/html": [
       "<p><strong><pre style='display: inline;'>Question 2.a</pre></strong> passed!</p>"
      ],
      "text/plain": [
       "Question 2.a results: All test cases passed!"
      ]
     },
     "execution_count": 33,
     "metadata": {},
     "output_type": "execute_result"
    }
   ],
   "source": [
    "grader.check(\"q02a\")"
   ]
  },
  {
   "cell_type": "code",
   "execution_count": 67,
   "id": "67b1ee93-81ac-4649-b8ae-72833e88cc94",
   "metadata": {},
   "outputs": [
    {
     "data": {
      "text/plain": [
       "1.5"
      ]
     },
     "execution_count": 67,
     "metadata": {},
     "output_type": "execute_result"
    }
   ],
   "source": [
    "def median(number_list):\n",
    "    n = len(number_list)\n",
    "    s = sorted(number_list) \n",
    "    return (sum(s[n//2-1:n//2+1])/2.0, s[n//2])[n % 2] if n else None\n",
    "\n",
    "# median([2, 1, 0, 3])"
   ]
  },
  {
   "cell_type": "code",
   "execution_count": 68,
   "id": "ce2584ab-997a-4d01-8ba8-de96304946cf",
   "metadata": {},
   "outputs": [
    {
     "data": {
      "text/html": [
       "<p><strong><pre style='display: inline;'>Question 2.b</pre></strong> passed!</p>"
      ],
      "text/plain": [
       "Question 2.b results: All test cases passed!"
      ]
     },
     "execution_count": 68,
     "metadata": {},
     "output_type": "execute_result"
    }
   ],
   "source": [
    "grader.check(\"q02b\")"
   ]
  },
  {
   "cell_type": "code",
   "execution_count": 57,
   "id": "f813294a-7440-4d3f-8fdc-4259f79f2446",
   "metadata": {},
   "outputs": [
    {
     "data": {
      "text/plain": [
       "array([1, 2, 3, 4, 5])"
      ]
     },
     "execution_count": 57,
     "metadata": {},
     "output_type": "execute_result"
    }
   ],
   "source": [
    "import numpy as np\n",
    "arr1 = np.array([1, 2, 3, 4, 5])\n",
    "arr1"
   ]
  },
  {
   "cell_type": "code",
   "execution_count": 58,
   "id": "954bdc32-36e7-4afd-8eb8-6c37fd7625a2",
   "metadata": {},
   "outputs": [
    {
     "data": {
      "text/plain": [
       "array([1, 2, 3, 4, 5])"
      ]
     },
     "execution_count": 58,
     "metadata": {},
     "output_type": "execute_result"
    }
   ],
   "source": [
    "# A more generic and efficient way\n",
    "arr2 = np.array(np.arange(1, 6))\n",
    "arr2"
   ]
  },
  {
   "cell_type": "code",
   "execution_count": 59,
   "id": "f628161d-1a3e-4129-a82e-3fdbaf81ef75",
   "metadata": {},
   "outputs": [
    {
     "data": {
      "text/plain": [
       "4"
      ]
     },
     "execution_count": 59,
     "metadata": {},
     "output_type": "execute_result"
    }
   ],
   "source": [
    "arr1[3]"
   ]
  },
  {
   "cell_type": "code",
   "execution_count": 60,
   "id": "b18f2cd2-7ec4-43e3-87c7-0a0602da1e5c",
   "metadata": {},
   "outputs": [
    {
     "data": {
      "text/plain": [
       "array([3, 4])"
      ]
     },
     "execution_count": 60,
     "metadata": {},
     "output_type": "execute_result"
    }
   ],
   "source": [
    "arr1[2:4]"
   ]
  },
  {
   "cell_type": "code",
   "execution_count": 61,
   "id": "b3207612-30af-47bd-ac51-65500d64027b",
   "metadata": {},
   "outputs": [
    {
     "data": {
      "text/plain": [
       "(5,)"
      ]
     },
     "execution_count": 61,
     "metadata": {},
     "output_type": "execute_result"
    }
   ],
   "source": [
    "arr1.shape"
   ]
  },
  {
   "cell_type": "code",
   "execution_count": 62,
   "id": "fe2e7cda-aee7-4790-8805-2d53b7dd8f44",
   "metadata": {},
   "outputs": [
    {
     "data": {
      "text/plain": [
       "dtype('int64')"
      ]
     },
     "execution_count": 62,
     "metadata": {},
     "output_type": "execute_result"
    }
   ],
   "source": [
    "arr1.dtype"
   ]
  },
  {
   "cell_type": "code",
   "execution_count": 63,
   "id": "3ff21a2d-2dfc-4909-94c8-0a3bf0dbffa0",
   "metadata": {},
   "outputs": [
    {
     "data": {
      "text/plain": [
       "array(['1', '3'], dtype='<U21')"
      ]
     },
     "execution_count": 63,
     "metadata": {},
     "output_type": "execute_result"
    }
   ],
   "source": [
    "# Arrays will convert everything to the same data type\n",
    "np.array([1, '3'])"
   ]
  },
  {
   "cell_type": "code",
   "execution_count": 64,
   "id": "784fe224-7eff-4bea-86fc-9186d2e32ad9",
   "metadata": {},
   "outputs": [
    {
     "data": {
      "text/plain": [
       "array([5. , 8.3])"
      ]
     },
     "execution_count": 64,
     "metadata": {},
     "output_type": "execute_result"
    }
   ],
   "source": [
    "# Another example of array type conversion\n",
    "np.array([5, 8.3])"
   ]
  },
  {
   "cell_type": "code",
   "execution_count": 65,
   "id": "25863753-3293-4ef1-ac1e-34d9989f7992",
   "metadata": {},
   "outputs": [
    {
     "data": {
      "text/plain": [
       "[1, 2, 3, 4, 5, 6]"
      ]
     },
     "execution_count": 65,
     "metadata": {},
     "output_type": "execute_result"
    }
   ],
   "source": [
    "# Python list addition will concatenate the two lists\n",
    "[1, 2, 3] + [4, 5, 6]"
   ]
  },
  {
   "cell_type": "code",
   "execution_count": 66,
   "id": "93917079-4c9a-4746-9a36-11723c574743",
   "metadata": {},
   "outputs": [
    {
     "data": {
      "text/plain": [
       "array([5, 7, 9])"
      ]
     },
     "execution_count": 66,
     "metadata": {},
     "output_type": "execute_result"
    }
   ],
   "source": [
    "# NumPy array addition will add them element-wise\n",
    "np.array([1, 2, 3]) + np.array([4, 5, 6])"
   ]
  },
  {
   "cell_type": "code",
   "execution_count": 67,
   "id": "021f6b4d-c218-4c7d-8b2d-0d71872e6df7",
   "metadata": {},
   "outputs": [
    {
     "data": {
      "text/plain": [
       "array([ 2,  4,  6,  8, 10])"
      ]
     },
     "execution_count": 67,
     "metadata": {},
     "output_type": "execute_result"
    }
   ],
   "source": [
    "arr1 * 2"
   ]
  },
  {
   "cell_type": "code",
   "execution_count": 68,
   "id": "d02e0a27-e4cc-44f7-bc82-dcad784a7ce4",
   "metadata": {},
   "outputs": [
    {
     "data": {
      "text/plain": [
       "array([ 1,  4,  9, 16, 25])"
      ]
     },
     "execution_count": 68,
     "metadata": {},
     "output_type": "execute_result"
    }
   ],
   "source": [
    "arr1 * arr2"
   ]
  },
  {
   "cell_type": "code",
   "execution_count": 69,
   "id": "093150d0-8907-40c1-b18d-9726ce9b1ce4",
   "metadata": {},
   "outputs": [
    {
     "data": {
      "text/plain": [
       "array([   1,    4,   27,  256, 3125])"
      ]
     },
     "execution_count": 69,
     "metadata": {},
     "output_type": "execute_result"
    }
   ],
   "source": [
    "arr1 ** arr2"
   ]
  },
  {
   "cell_type": "code",
   "execution_count": 7,
   "id": "ba682515-d3a2-4be6-9449-1d4d8ab5d8f6",
   "metadata": {},
   "outputs": [
    {
     "name": "stdout",
     "output_type": "stream",
     "text": [
      "[ 4.71238898  4.6171892   4.52198943  4.42678965  4.33158987  4.23639009\n",
      "  4.14119032  4.04599054  3.95079076  3.85559098  3.76039121  3.66519143\n",
      "  3.56999165  3.47479187  3.3795921   3.28439232  3.18919254  3.09399276\n",
      "  2.99879299  2.90359321  2.80839343  2.71319366  2.61799388  2.5227941\n",
      "  2.42759432  2.33239455  2.23719477  2.14199499  2.04679521  1.95159544\n",
      "  1.85639566  1.76119588  1.6659961   1.57079633  1.47559655  1.38039677\n",
      "  1.28519699  1.18999722  1.09479744  0.99959766  0.90439789  0.80919811\n",
      "  0.71399833  0.61879855  0.52359878  0.428399    0.33319922  0.23799944\n",
      "  0.14279967  0.04759989 -0.04759989 -0.14279967 -0.23799944 -0.33319922\n",
      " -0.428399   -0.52359878 -0.61879855 -0.71399833 -0.80919811 -0.90439789\n",
      " -0.99959766 -1.09479744 -1.18999722 -1.28519699 -1.38039677 -1.47559655\n",
      " -1.57079633 -1.6659961  -1.76119588 -1.85639566 -1.95159544 -2.04679521\n",
      " -2.14199499 -2.23719477 -2.33239455 -2.42759432 -2.5227941  -2.61799388\n",
      " -2.71319366 -2.80839343 -2.90359321 -2.99879299 -3.09399276 -3.18919254\n",
      " -3.28439232 -3.3795921  -3.47479187 -3.56999165 -3.66519143 -3.76039121\n",
      " -3.85559098 -3.95079076 -4.04599054 -4.14119032 -4.23639009 -4.33158987\n",
      " -4.42678965 -4.52198943 -4.6171892  -4.71238898]\n"
     ]
    },
    {
     "data": {
      "image/png": "[encoded data removed]",
      "text/plain": [
       "<Figure size 432x432 with 1 Axes>"
      ]
     },
     "metadata": {
      "needs_background": "light"
     },
     "output_type": "display_data"
    }
   ],
   "source": [
    "from mpl_toolkits.mplot3d import axes3d\n",
    "# import numpy package\n",
    "import numpy as np\n",
    "import matplotlib.pyplot as plt\n",
    "\n",
    "u = np.linspace(1.5 * np.pi, -1.5 * np.pi, 100)\n",
    "print(u)\n",
    "#Return evenly spaced numbers over a specified interval\n",
    "''' start: The starting value \n",
    "    end: The end value\n",
    "    num: Mumber of samples to generate'''\n",
    "[x, y] = np.meshgrid(u, u)\n",
    "[x, y]\n",
    "#Return coordinate matrices from coordinate vectors.\n",
    "'''to create a rectangular grid out of an array of x \n",
    "    values and an array of y values'''\n",
    "squared = np.sqrt(x.flatten() ** 2 + y.flatten() ** 2)\n",
    "z = np.cos(squared)\n",
    "# NumPy function help to find cosine value of the angle in degree and radian\n",
    "z = z.reshape(x.shape)\n",
    "# Gives a new shape to an array without changing its data.\n",
    "fig = plt.figure(figsize = (6, 6))\n",
    "ax = fig.add_subplot(111, projection = '3d')\n",
    "#These are subplot grid parameters encoded as a single integer. For example, \"111\" means \"1x1 grid, first subplot\n",
    "ax.plot_wireframe(x, y, z, rstride = 5, cstride = 5, lw = 2)\n",
    "''' three-dimensional plots that work on gridded data are wireframes and \n",
    "surface plots. These take a grid of\n",
    "values and project it onto the specified three-dimensional surface, \n",
    "and can make the resulting three-dimensional forms quite easy to visualize'''\n",
    "ax.view_init(elev = 60, azim = 25)\n",
    "'''to adjust the elevation and the azimuth \n",
    "angle that you use to view the 3D plot'''\n",
    "plt.savefig(\"figure1.png\")\n",
    "#saving the file the name of file is figure1.png"
   ]
  },
  {
   "cell_type": "code",
   "execution_count": 98,
   "id": "d8e6ad4d-ea60-464e-957e-8f81b6050afa",
   "metadata": {},
   "outputs": [],
   "source": [
    "'''np.linspace function, create an array called xs that contains 100 evenly spaced points between 0 and 2*np.pi.\n",
    "Then, create an array called ys that contains the value of sin(x) at each of those 100 points of xs.'''\n",
    "# define xs and ys here\n",
    "# np.linspace(start = 0, stop = 2*np.pi, num = 100)\n",
    "from mpl_toolkits.mplot3d import axes3d\n",
    "import numpy as np\n",
    "\n",
    "xs = np.linspace(0, 2 * np.pi, 100)\n",
    "ys = np.sin(xs)"
   ]
  },
  {
   "cell_type": "code",
   "execution_count": 92,
   "id": "784e2935-ce5a-4088-ab8e-a950f939f310",
   "metadata": {},
   "outputs": [
    {
     "data": {
      "text/html": [
       "<p><strong><pre style='display: inline;'>Question 3.1.a</pre></strong> passed!</p>"
      ],
      "text/plain": [
       "Question 3.1.a results: All test cases passed!"
      ]
     },
     "execution_count": 92,
     "metadata": {},
     "output_type": "execute_result"
    }
   ],
   "source": [
    "grader.check('q0301a')"
   ]
  },
  {
   "cell_type": "code",
   "execution_count": 96,
   "id": "cca80d18-5fdc-45e7-aca2-ba5dfb1b5f91",
   "metadata": {},
   "outputs": [
    {
     "data": {
      "text/plain": [
       "Text(0, 0.5, 'ys')"
      ]
     },
     "execution_count": 96,
     "metadata": {},
     "output_type": "execute_result"
    },
    {
     "data": {
      "image/png": "[encoded data removed]",
      "text/plain": [
       "<Figure size 432x288 with 1 Axes>"
      ]
     },
     "metadata": {},
     "output_type": "display_data"
    }
   ],
   "source": [
    "plt.plot(xs, ys)\n",
    "\n",
    "# Add communication information for your plot\n",
    "plt.title('sin function')\n",
    "plt.xlabel('xs')\n",
    "plt.ylabel('ys')"
   ]
  },
  {
   "cell_type": "code",
   "execution_count": 29,
   "id": "a39adfac-7e4f-4b04-9965-be5a3f1f9494",
   "metadata": {},
   "outputs": [
    {
     "data": {
      "text/plain": [
       "array([31, 73, 24])"
      ]
     },
     "execution_count": 29,
     "metadata": {},
     "output_type": "execute_result"
    }
   ],
   "source": [
    "import numpy as np\n",
    "def elementwise_array_sum(list_1, list_2):\n",
    "    \"\"\"Compute x^2 + y^3 for each x, y in list_1, list_2. \n",
    "    \n",
    "    Assume list_1 and list_2 have the same length.\n",
    "    \n",
    "    Return a NumPy array.\n",
    "    \"\"\"\n",
    "    \n",
    "    assert len(list_1) == len(list_2), \"both args must have the same number of elements\"\n",
    "    res1 = list(map(lambda x: x ** 2, list_1))\n",
    "    res2 = list(map(lambda y: y ** 3, list_2))\n",
    "    result = np.add(res1,res2)\n",
    "# converting list to array\n",
    "    arr = np.array(result)\n",
    "    return arr\n",
    "elementwise_array_sum([2, 3, 4], [3, 4, 2])\n",
    "   "
   ]
  },
  {
   "cell_type": "code",
   "execution_count": 30,
   "id": "66a29674-4de5-4b47-ba80-d34c615b4321",
   "metadata": {},
   "outputs": [
    {
     "data": {
      "text/html": [
       "<p><strong><pre style='display: inline;'>Question 3.1.b</pre></strong> passed!</p>"
      ],
      "text/plain": [
       "Question 3.1.b results: All test cases passed!"
      ]
     },
     "execution_count": 30,
     "metadata": {},
     "output_type": "execute_result"
    }
   ],
   "source": [
    "grader.check('q0301b')"
   ]
  },
  {
   "cell_type": "code",
   "execution_count": 32,
   "id": "f5fa4a13-892c-402c-8295-3aa0fc02ec28",
   "metadata": {},
   "outputs": [
    {
     "data": {
      "text/plain": [
       "[31, 73, 24]"
      ]
     },
     "execution_count": 32,
     "metadata": {},
     "output_type": "execute_result"
    }
   ],
   "source": [
    "def elementwise_list_sum(list_1, list_2):\n",
    "    \"\"\"Compute x^2 + y^3 for each x, y in list_1, list_2. \n",
    "    \n",
    "    Assume list_1 and list_2 have the same length.\n",
    "    \"\"\"\n",
    "\n",
    "    return [x ** 2 + y ** 3 for x, y in zip(list_1, list_2)]\n",
    "elementwise_list_sum([2, 3, 4], [3, 4, 2])"
   ]
  },
  {
   "cell_type": "code",
   "execution_count": 34,
   "id": "2bf8b688-282b-4b36-9fd0-e95e34c85235",
   "metadata": {},
   "outputs": [],
   "source": [
    "sample_list_1 = list(range(10))\n",
    "sample_array_1 = np.arange(10)"
   ]
  },
  {
   "cell_type": "code",
   "execution_count": 35,
   "id": "047f831c-0955-46c4-9ac2-4f0da2cf50e2",
   "metadata": {},
   "outputs": [
    {
     "name": "stdout",
     "output_type": "stream",
     "text": [
      "CPU times: user 10 µs, sys: 3 µs, total: 13 µs\n",
      "Wall time: 16.7 µs\n"
     ]
    },
    {
     "data": {
      "text/plain": [
       "[0, 2, 12, 36, 80, 150, 252, 392, 576, 810]"
      ]
     },
     "execution_count": 35,
     "metadata": {},
     "output_type": "execute_result"
    }
   ],
   "source": [
    "%%time\n",
    "elementwise_list_sum(sample_list_1, sample_list_1)"
   ]
  },
  {
   "cell_type": "code",
   "execution_count": 36,
   "id": "08915a0a-9396-4697-8366-d52aff20e09f",
   "metadata": {},
   "outputs": [
    {
     "name": "stdout",
     "output_type": "stream",
     "text": [
      "CPU times: user 259 µs, sys: 72 µs, total: 331 µs\n",
      "Wall time: 337 µs\n"
     ]
    },
    {
     "data": {
      "text/plain": [
       "array([  0,   2,  12,  36,  80, 150, 252, 392, 576, 810])"
      ]
     },
     "execution_count": 36,
     "metadata": {},
     "output_type": "execute_result"
    }
   ],
   "source": [
    "%%time\n",
    "elementwise_array_sum(sample_array_1, sample_array_1)"
   ]
  },
  {
   "cell_type": "code",
   "execution_count": 37,
   "id": "3e6cfd63-343d-40c1-8654-a112e45315b1",
   "metadata": {},
   "outputs": [],
   "source": [
    "sample_list_2 = list(range(100000))\n",
    "sample_array_2 = np.arange(100000)"
   ]
  },
  {
   "cell_type": "code",
   "execution_count": 38,
   "id": "b6bda86c-add2-416f-a2d2-5663d47a4ccc",
   "metadata": {},
   "outputs": [
    {
     "name": "stdout",
     "output_type": "stream",
     "text": [
      "CPU times: user 60.8 ms, sys: 4.02 ms, total: 64.8 ms\n",
      "Wall time: 62.9 ms\n"
     ]
    },
    {
     "data": {
      "text/plain": [
       "''"
      ]
     },
     "execution_count": 38,
     "metadata": {},
     "output_type": "execute_result"
    }
   ],
   "source": [
    "%%time\n",
    "elementwise_list_sum(sample_list_2, sample_list_2)\n",
    "# The semicolon hides the output\n",
    "; "
   ]
  },
  {
   "cell_type": "code",
   "execution_count": 39,
   "id": "a0cc62bc-3cb8-402a-acf6-1af5d2fa0998",
   "metadata": {},
   "outputs": [
    {
     "name": "stdout",
     "output_type": "stream",
     "text": [
      "CPU times: user 66.4 ms, sys: 6.6 ms, total: 73 ms\n",
      "Wall time: 71.3 ms\n"
     ]
    },
    {
     "data": {
      "text/plain": [
       "''"
      ]
     },
     "execution_count": 39,
     "metadata": {},
     "output_type": "execute_result"
    }
   ],
   "source": [
    "%%time\n",
    "elementwise_array_sum(sample_array_2, sample_array_2)\n",
    ";"
   ]
  },
  {
   "cell_type": "code",
   "execution_count": 42,
   "id": "058d0832-be7f-4741-a967-2eaf54133446",
   "metadata": {},
   "outputs": [
    {
     "data": {
      "text/plain": [
       "array([[0., 0., 0., 0., 0.],\n",
       "       [0., 0., 0., 0., 0.],\n",
       "       [0., 0., 0., 0., 0.],\n",
       "       [0., 0., 0., 0., 0.]])"
      ]
     },
     "execution_count": 42,
     "metadata": {},
     "output_type": "execute_result"
    }
   ],
   "source": [
    "# The zeros function creates an array with the given shape.\n",
    "# For a 2-dimensional array like this one, the first\n",
    "# coordinate says how far the array goes *down*, and the\n",
    "# second says how far it goes *right*.\n",
    "arr3 = np.zeros((4, 5))\n",
    "arr3"
   ]
  },
  {
   "cell_type": "code",
   "execution_count": 43,
   "id": "2881b00c-05f6-43a6-be48-4da88980170a",
   "metadata": {},
   "outputs": [
    {
     "data": {
      "text/plain": [
       "(4, 5)"
      ]
     },
     "execution_count": 43,
     "metadata": {},
     "output_type": "execute_result"
    }
   ],
   "source": [
    "# The shape attribute returns the dimensions of the array.\n",
    "arr3.shape"
   ]
  },
  {
   "cell_type": "code",
   "execution_count": 44,
   "id": "7d513e82-9f0b-48eb-9e3c-2f9740204d03",
   "metadata": {},
   "outputs": [
    {
     "data": {
      "text/plain": [
       "array([[0., 0., 0., 0., 0.],\n",
       "       [0., 0., 7., 0., 0.],\n",
       "       [0., 0., 0., 0., 0.],\n",
       "       [0., 0., 0., 0., 0.]])"
      ]
     },
     "execution_count": 44,
     "metadata": {},
     "output_type": "execute_result"
    }
   ],
   "source": [
    "# You can think of array3 as an array containing 4 arrays, each\n",
    "# containing 5 zeros.  Accordingly, we can set or get the third\n",
    "# element of the second array in array 3 using standard Python\n",
    "# array indexing syntax twice:\n",
    "arr3[1][2] = 7\n",
    "arr3"
   ]
  },
  {
   "cell_type": "code",
   "execution_count": 45,
   "id": "43e037b8-79a5-40fc-b7d2-8f5a2725e034",
   "metadata": {},
   "outputs": [
    {
     "data": {
      "text/plain": [
       "array([[0., 0., 0., 0., 0.],\n",
       "       [0., 0., 8., 0., 0.],\n",
       "       [0., 0., 0., 0., 0.],\n",
       "       [0., 0., 0., 0., 0.]])"
      ]
     },
     "execution_count": 45,
     "metadata": {},
     "output_type": "execute_result"
    }
   ],
   "source": [
    "# This comes up so often that there is special syntax provided\n",
    "# for it.  The comma syntax is equivalent to using multiple\n",
    "# brackets:\n",
    "arr3[1, 2] = 8\n",
    "arr3"
   ]
  },
  {
   "cell_type": "code",
   "execution_count": 46,
   "id": "cff1333b-a58a-4346-b2c2-9d7d8f13078e",
   "metadata": {},
   "outputs": [
    {
     "data": {
      "text/plain": [
       "array([[0., 0., 5., 0., 0.],\n",
       "       [0., 0., 5., 0., 0.],\n",
       "       [0., 0., 5., 0., 0.]])"
      ]
     },
     "execution_count": 46,
     "metadata": {},
     "output_type": "execute_result"
    }
   ],
   "source": [
    "arr4 = np.zeros((3, 5))\n",
    "arr4[:, 2] = 5\n",
    "arr4"
   ]
  },
  {
   "cell_type": "code",
   "execution_count": 47,
   "id": "741e49c5-b0f9-44ec-98a7-b5159f391724",
   "metadata": {},
   "outputs": [
    {
     "data": {
      "text/plain": [
       "array([[0., 3., 0., 0., 0.],\n",
       "       [0., 0., 0., 3., 0.],\n",
       "       [0., 0., 0., 0., 3.]])"
      ]
     },
     "execution_count": 47,
     "metadata": {},
     "output_type": "execute_result"
    }
   ],
   "source": [
    "arr5 = np.zeros((3, 5))\n",
    "rows = np.array([1, 0, 2])\n",
    "cols = np.array([3, 1, 4])\n",
    "\n",
    "# Indices (1,3), (0,1), and (2,4) will be set.\n",
    "arr5[rows, cols] = 3\n",
    "arr5"
   ]
  },
  {
   "cell_type": "code",
   "execution_count": 57,
   "id": "09fb8432-4ffa-49ae-bfce-7c780dfe69d4",
   "metadata": {},
   "outputs": [
    {
     "data": {
      "text/plain": [
       "array([[2., 0., 0., ..., 0., 0., 0.],\n",
       "       [0., 2., 0., ..., 0., 0., 0.],\n",
       "       [0., 0., 2., ..., 0., 0., 0.],\n",
       "       ...,\n",
       "       [0., 0., 0., ..., 2., 0., 0.],\n",
       "       [0., 0., 0., ..., 0., 2., 0.],\n",
       "       [0., 0., 0., ..., 0., 0., 2.]])"
      ]
     },
     "execution_count": 57,
     "metadata": {},
     "output_type": "execute_result"
    }
   ],
   "source": [
    "#Create a 50x50 array called twice_identity that contains all zeros except on the diagonal, where it contains the value 2.\n",
    "twice_identity = np.zeros((50,50))\n",
    "rows = np.arange(50)\n",
    "\n",
    "twice_identity[rows, rows] = 2\n",
    "twice_identity"
   ]
  },
  {
   "cell_type": "code",
   "execution_count": 58,
   "id": "8ba1ec88-4273-4684-9852-d21f7b9ba227",
   "metadata": {},
   "outputs": [
    {
     "data": {
      "text/html": [
       "<p><strong><pre style='display: inline;'>Question 3.2.a</pre></strong> passed!</p>"
      ],
      "text/plain": [
       "Question 3.2.a results: All test cases passed!"
      ]
     },
     "execution_count": 58,
     "metadata": {},
     "output_type": "execute_result"
    }
   ],
   "source": [
    "grader.check('q0302a')"
   ]
  },
  {
   "cell_type": "code",
   "execution_count": 86,
   "id": "3a6d4502-47b0-4df5-a7ef-2b8b0e4ec931",
   "metadata": {},
   "outputs": [
    {
     "data": {
      "text/plain": [
       "Question 2.a results: All test cases passed!\n",
       "\n",
       "Question 2.b results: All test cases passed!\n",
       "\n",
       "Question 3.1.a results: All test cases passed!\n",
       "\n",
       "Question 3.1.b results: All test cases passed!\n",
       "\n",
       "Question 3.2.a results: All test cases passed!"
      ]
     },
     "execution_count": 86,
     "metadata": {},
     "output_type": "execute_result"
    }
   ],
   "source": [
    "grader.check_all()"
   ]
  },
  {
   "cell_type": "code",
   "execution_count": null,
   "id": "3be09132-86ff-4fa1-8d32-36e44915a28c",
   "metadata": {},
   "outputs": [],
   "source": []
  }
 ],
 "metadata": {
  "kernelspec": {
   "display_name": "Python 3",
   "language": "python",
   "name": "python3"
  },
  "language_info": {
   "codemirror_mode": {
    "name": "ipython",
    "version": 3
   },
   "file_extension": ".py",
   "mimetype": "text/x-python",
   "name": "python",
   "nbconvert_exporter": "python",
   "pygments_lexer": "ipython3",
   "version": "3.8.8"
  }
 },
 "nbformat": 4,
 "nbformat_minor": 5
}
