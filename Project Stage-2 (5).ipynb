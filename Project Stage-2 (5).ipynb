{
 "cells": [
  {
   "cell_type": "markdown",
   "id": "cae08860-26ef-4bfd-bc58-2cb68d15f6b5",
   "metadata": {},
   "source": [
    "# Solmaz Seyed Monir"
   ]
  },
  {
   "cell_type": "markdown",
   "id": "83ae0894-ea54-4311-ac31-24c73c3758ce",
   "metadata": {},
   "source": [
    "# Guanyu Li"
   ]
  },
  {
   "cell_type": "markdown",
   "id": "380665fc-b09f-4e8d-8a9d-e045ed2092c7",
   "metadata": {},
   "source": [
    "# Problem Formulation/Introduction [5 points]\n",
    "At the beginning of your notebook, you are required to write an introduction of the problem, which will motivate the readers.\n",
    "\n",
    "1. You need to carefully read the description of your chosen Kaggle competition and formulate the data problem you are going to solve similar to what we have discussed in class. Points will be deducted if the problem is not correctly describing the corresponding Kaggle problem or the problem formulation is not clear to understand even judge the previous point. [3 points]\n",
    "\n",
    "2. According to the problem, what's the data population? [2 points]"
   ]
  },
  {
   "cell_type": "markdown",
   "id": "e43172a3-9e42-4a96-8a43-8b28e9de4901",
   "metadata": {},
   "source": [
    "Titanic (Classification)\n",
    "The sinking of the Titanic is one of the most infamous shipwrecks in history. On April 15, 1912, the widely considered “unsinkable” Titanic sank after colliding with an iceberg. Unfortunately, there weren’t enough lifeboats for everyone on board, resulting in the death of 1502 out of 2224 passengers and crew.\n",
    "Goal: Build a predictive model that answers the question: “what sorts of people were more likely to survive?” using passenger data like age, gender, class. How to deal with the data, how to analyze data through different plots and graphs, how to do data preprocessing, and finally how to predict things. we need to predict whether the other 418 passengers on board survived.\n",
    "Data population: 891 passengers of the Titanic shipwreck whose life status has been known, and 418 passengers that we don't know if they survived in the Titanic."
   ]
  },
  {
   "cell_type": "markdown",
   "id": "bb0c8d7c-c825-4311-bd36-de6b01b5c759",
   "metadata": {},
   "source": [
    "<br><span style=\"font-family: Arial; font-size:1.4em; background-color: gold;\"><font color='red'>Comments\n",
    "The data population is not the sample information but the whole data population related your prediction question, which is not limited to the available sample data.</font>"
   ]
  },
  {
   "cell_type": "markdown",
   "id": "c0ae5b25-430f-42e2-9b96-cdfe6ebcd458",
   "metadata": {},
   "source": [
    "*`Here is the changes of answer! data population`* "
   ]
  },
  {
   "cell_type": "markdown",
   "id": "69fc06ab-5e17-4919-98f6-da362fb40869",
   "metadata": {},
   "source": [
    "<font color='blue'>***Answer:Contains demographics and passenger information from 891 of the 2224 passengers and crew on board the Titanic.***</font>"
   ]
  },
  {
   "cell_type": "markdown",
   "id": "25964ab7-61af-4d1c-96c2-f2adf46fed0b",
   "metadata": {},
   "source": [
    "# Kaggle account\n",
    "1. If you don't have a Kaggle account, you need to register one. Please include your account name in your notebook, which will be the one showing on the Leaderboard, when you submit your result in stage-2. [1 point]"
   ]
  },
  {
   "cell_type": "markdown",
   "id": "1fd71caf-455b-495a-a473-5951d53128ea",
   "metadata": {},
   "source": [
    "solmazsm "
   ]
  },
  {
   "cell_type": "markdown",
   "id": "5eb02540-f9c8-4789-a506-4d1386374971",
   "metadata": {},
   "source": [
    "GUGUGU"
   ]
  },
  {
   "cell_type": "markdown",
   "id": "1b2616c8-9035-48e4-b3f5-857315a8500d",
   "metadata": {},
   "source": [
    "<span style=\"font-family: Arial; font-size:1.4em;\"><font color='red'>Comments<br>\n",
    "Later, you will need to team up on Kaggle to submit a team model in stage 2.</font>"
   ]
  },
  {
   "cell_type": "markdown",
   "id": "9c11d34b-cc9a-45f3-aca1-6701bee50b87",
   "metadata": {},
   "source": [
    "<span style=\"font-family: Arial; font-size:1.4em;\"><font color='red'>Comments<br>\n",
    "Those types of each feature are also part of the structure property</font>"
   ]
  },
  {
   "cell_type": "code",
   "execution_count": 164,
   "id": "39b7ccc4-b27e-4889-85fe-e005c776d045",
   "metadata": {},
   "outputs": [],
   "source": [
    "import numpy as np # linear algebra\n",
    "import pandas as pd # data processing, CSV file I/O (e.g. pd.read_csv)\n",
    "import matplotlib.pyplot as plt\n",
    "import seaborn as sns\n",
    "from IPython.display import HTML, display\n",
    "\n"
   ]
  },
  {
   "cell_type": "code",
   "execution_count": 165,
   "id": "b4b0943f-85d9-494a-95fc-6ab0b575ef94",
   "metadata": {},
   "outputs": [],
   "source": [
    "def set_background(color):    \n",
    "    script = (\n",
    "        \"var cell = this.closest('.jp-CodeCell');\"\n",
    "        \"var editor = cell.querySelector('.jp-Editor');\"\n",
    "        \"editor.style.background='{}';\"\n",
    "        \"this.parentNode.removeChild(this)\"\n",
    "    ).format(color)\n",
    "    \n",
    "    display(HTML('<img src onerror=\"{}\" style=\"display:none\">'.format(script)))"
   ]
  },
  {
   "cell_type": "markdown",
   "id": "3e0845a4-f120-47f4-9953-ff95c43f5f26",
   "metadata": {},
   "source": [
    "2. After you download the data, you need to load them to your notebook, show several lines of each separate file and describe what is that data for. [5 points]"
   ]
  },
  {
   "cell_type": "markdown",
   "id": "c5026526-8bb9-4fd0-b3ea-fa0225fc4220",
   "metadata": {},
   "source": [
    "Each row represents the data of 1 passenger.\n",
    "Columns represent the features. We have 10 features/ variables in this dataset.\n",
    "Survival: This variable shows whether the person survived or not. This is our target variable & we have to predict its value. It’s a binary variable. 0 means not survived and 1 means survived.\n",
    "pclass: The ticket class of passengers. 1st  (upper class), 2nd (middle), or 3rd (lower).\n",
    "Sex: Gender of passenger\n",
    "Age: Age (in years) of a passenger\n",
    "sibsp: The no. of siblings/spouses of a particular passenger who were there on the ship.\n",
    "parch: The no. of parents/children of a particular passenger who were there on the ship.\n",
    "ticket: Ticket Number\n",
    "fare: Passenger fare (like 1st class ticket fare must be greater than 2nd pr 3rd class ticket right)\n",
    "cabin: Cabin Number\n",
    "embarked: Port of Embarkation; From where that passenger took the ship. ( C = Cherbourg, Q = Queenstown, S = Southampton)\n",
    "Clearly, it’s a classification problem because we need to tell whether the person will survive or not. We will use 5 different classifiers and compare their accuracy. The 5 different classifiers are as follows:"
   ]
  },
  {
   "cell_type": "markdown",
   "id": "abdf67ca-30e4-4f87-a77c-378fc53e8af7",
   "metadata": {},
   "source": [
    "# 1. Show the data"
   ]
  },
  {
   "cell_type": "code",
   "execution_count": 166,
   "id": "c6dfd993-59c4-4880-95b6-ef0a0a02c092",
   "metadata": {},
   "outputs": [
    {
     "data": {
      "text/html": [
       "<div>\n",
       "<style scoped>\n",
       "    .dataframe tbody tr th:only-of-type {\n",
       "        vertical-align: middle;\n",
       "    }\n",
       "\n",
       "    .dataframe tbody tr th {\n",
       "        vertical-align: top;\n",
       "    }\n",
       "\n",
       "    .dataframe thead th {\n",
       "        text-align: right;\n",
       "    }\n",
       "</style>\n",
       "<table border=\"1\" class=\"dataframe\">\n",
       "  <thead>\n",
       "    <tr style=\"text-align: right;\">\n",
       "      <th></th>\n",
       "      <th>PassengerId</th>\n",
       "      <th>Survived</th>\n",
       "      <th>Pclass</th>\n",
       "      <th>Name</th>\n",
       "      <th>Sex</th>\n",
       "      <th>Age</th>\n",
       "      <th>SibSp</th>\n",
       "      <th>Parch</th>\n",
       "      <th>Ticket</th>\n",
       "      <th>Fare</th>\n",
       "      <th>Cabin</th>\n",
       "      <th>Embarked</th>\n",
       "    </tr>\n",
       "  </thead>\n",
       "  <tbody>\n",
       "    <tr>\n",
       "      <th>0</th>\n",
       "      <td>1</td>\n",
       "      <td>0</td>\n",
       "      <td>3</td>\n",
       "      <td>Braund, Mr. Owen Harris</td>\n",
       "      <td>male</td>\n",
       "      <td>22.0</td>\n",
       "      <td>1</td>\n",
       "      <td>0</td>\n",
       "      <td>A/5 21171</td>\n",
       "      <td>7.2500</td>\n",
       "      <td>NaN</td>\n",
       "      <td>S</td>\n",
       "    </tr>\n",
       "    <tr>\n",
       "      <th>1</th>\n",
       "      <td>2</td>\n",
       "      <td>1</td>\n",
       "      <td>1</td>\n",
       "      <td>Cumings, Mrs. John Bradley (Florence Briggs Th...</td>\n",
       "      <td>female</td>\n",
       "      <td>38.0</td>\n",
       "      <td>1</td>\n",
       "      <td>0</td>\n",
       "      <td>PC 17599</td>\n",
       "      <td>71.2833</td>\n",
       "      <td>C85</td>\n",
       "      <td>C</td>\n",
       "    </tr>\n",
       "    <tr>\n",
       "      <th>2</th>\n",
       "      <td>3</td>\n",
       "      <td>1</td>\n",
       "      <td>3</td>\n",
       "      <td>Heikkinen, Miss. Laina</td>\n",
       "      <td>female</td>\n",
       "      <td>26.0</td>\n",
       "      <td>0</td>\n",
       "      <td>0</td>\n",
       "      <td>STON/O2. 3101282</td>\n",
       "      <td>7.9250</td>\n",
       "      <td>NaN</td>\n",
       "      <td>S</td>\n",
       "    </tr>\n",
       "    <tr>\n",
       "      <th>3</th>\n",
       "      <td>4</td>\n",
       "      <td>1</td>\n",
       "      <td>1</td>\n",
       "      <td>Futrelle, Mrs. Jacques Heath (Lily May Peel)</td>\n",
       "      <td>female</td>\n",
       "      <td>35.0</td>\n",
       "      <td>1</td>\n",
       "      <td>0</td>\n",
       "      <td>113803</td>\n",
       "      <td>53.1000</td>\n",
       "      <td>C123</td>\n",
       "      <td>S</td>\n",
       "    </tr>\n",
       "    <tr>\n",
       "      <th>4</th>\n",
       "      <td>5</td>\n",
       "      <td>0</td>\n",
       "      <td>3</td>\n",
       "      <td>Allen, Mr. William Henry</td>\n",
       "      <td>male</td>\n",
       "      <td>35.0</td>\n",
       "      <td>0</td>\n",
       "      <td>0</td>\n",
       "      <td>373450</td>\n",
       "      <td>8.0500</td>\n",
       "      <td>NaN</td>\n",
       "      <td>S</td>\n",
       "    </tr>\n",
       "    <tr>\n",
       "      <th>...</th>\n",
       "      <td>...</td>\n",
       "      <td>...</td>\n",
       "      <td>...</td>\n",
       "      <td>...</td>\n",
       "      <td>...</td>\n",
       "      <td>...</td>\n",
       "      <td>...</td>\n",
       "      <td>...</td>\n",
       "      <td>...</td>\n",
       "      <td>...</td>\n",
       "      <td>...</td>\n",
       "      <td>...</td>\n",
       "    </tr>\n",
       "    <tr>\n",
       "      <th>886</th>\n",
       "      <td>887</td>\n",
       "      <td>0</td>\n",
       "      <td>2</td>\n",
       "      <td>Montvila, Rev. Juozas</td>\n",
       "      <td>male</td>\n",
       "      <td>27.0</td>\n",
       "      <td>0</td>\n",
       "      <td>0</td>\n",
       "      <td>211536</td>\n",
       "      <td>13.0000</td>\n",
       "      <td>NaN</td>\n",
       "      <td>S</td>\n",
       "    </tr>\n",
       "    <tr>\n",
       "      <th>887</th>\n",
       "      <td>888</td>\n",
       "      <td>1</td>\n",
       "      <td>1</td>\n",
       "      <td>Graham, Miss. Margaret Edith</td>\n",
       "      <td>female</td>\n",
       "      <td>19.0</td>\n",
       "      <td>0</td>\n",
       "      <td>0</td>\n",
       "      <td>112053</td>\n",
       "      <td>30.0000</td>\n",
       "      <td>B42</td>\n",
       "      <td>S</td>\n",
       "    </tr>\n",
       "    <tr>\n",
       "      <th>888</th>\n",
       "      <td>889</td>\n",
       "      <td>0</td>\n",
       "      <td>3</td>\n",
       "      <td>Johnston, Miss. Catherine Helen \"Carrie\"</td>\n",
       "      <td>female</td>\n",
       "      <td>NaN</td>\n",
       "      <td>1</td>\n",
       "      <td>2</td>\n",
       "      <td>W./C. 6607</td>\n",
       "      <td>23.4500</td>\n",
       "      <td>NaN</td>\n",
       "      <td>S</td>\n",
       "    </tr>\n",
       "    <tr>\n",
       "      <th>889</th>\n",
       "      <td>890</td>\n",
       "      <td>1</td>\n",
       "      <td>1</td>\n",
       "      <td>Behr, Mr. Karl Howell</td>\n",
       "      <td>male</td>\n",
       "      <td>26.0</td>\n",
       "      <td>0</td>\n",
       "      <td>0</td>\n",
       "      <td>111369</td>\n",
       "      <td>30.0000</td>\n",
       "      <td>C148</td>\n",
       "      <td>C</td>\n",
       "    </tr>\n",
       "    <tr>\n",
       "      <th>890</th>\n",
       "      <td>891</td>\n",
       "      <td>0</td>\n",
       "      <td>3</td>\n",
       "      <td>Dooley, Mr. Patrick</td>\n",
       "      <td>male</td>\n",
       "      <td>32.0</td>\n",
       "      <td>0</td>\n",
       "      <td>0</td>\n",
       "      <td>370376</td>\n",
       "      <td>7.7500</td>\n",
       "      <td>NaN</td>\n",
       "      <td>Q</td>\n",
       "    </tr>\n",
       "  </tbody>\n",
       "</table>\n",
       "<p>891 rows × 12 columns</p>\n",
       "</div>"
      ],
      "text/plain": [
       "     PassengerId  Survived  Pclass  \\\n",
       "0              1         0       3   \n",
       "1              2         1       1   \n",
       "2              3         1       3   \n",
       "3              4         1       1   \n",
       "4              5         0       3   \n",
       "..           ...       ...     ...   \n",
       "886          887         0       2   \n",
       "887          888         1       1   \n",
       "888          889         0       3   \n",
       "889          890         1       1   \n",
       "890          891         0       3   \n",
       "\n",
       "                                                  Name     Sex   Age  SibSp  \\\n",
       "0                              Braund, Mr. Owen Harris    male  22.0      1   \n",
       "1    Cumings, Mrs. John Bradley (Florence Briggs Th...  female  38.0      1   \n",
       "2                               Heikkinen, Miss. Laina  female  26.0      0   \n",
       "3         Futrelle, Mrs. Jacques Heath (Lily May Peel)  female  35.0      1   \n",
       "4                             Allen, Mr. William Henry    male  35.0      0   \n",
       "..                                                 ...     ...   ...    ...   \n",
       "886                              Montvila, Rev. Juozas    male  27.0      0   \n",
       "887                       Graham, Miss. Margaret Edith  female  19.0      0   \n",
       "888           Johnston, Miss. Catherine Helen \"Carrie\"  female   NaN      1   \n",
       "889                              Behr, Mr. Karl Howell    male  26.0      0   \n",
       "890                                Dooley, Mr. Patrick    male  32.0      0   \n",
       "\n",
       "     Parch            Ticket     Fare Cabin Embarked  \n",
       "0        0         A/5 21171   7.2500   NaN        S  \n",
       "1        0          PC 17599  71.2833   C85        C  \n",
       "2        0  STON/O2. 3101282   7.9250   NaN        S  \n",
       "3        0            113803  53.1000  C123        S  \n",
       "4        0            373450   8.0500   NaN        S  \n",
       "..     ...               ...      ...   ...      ...  \n",
       "886      0            211536  13.0000   NaN        S  \n",
       "887      0            112053  30.0000   B42        S  \n",
       "888      2        W./C. 6607  23.4500   NaN        S  \n",
       "889      0            111369  30.0000  C148        C  \n",
       "890      0            370376   7.7500   NaN        Q  \n",
       "\n",
       "[891 rows x 12 columns]"
      ]
     },
     "execution_count": 166,
     "metadata": {},
     "output_type": "execute_result"
    }
   ],
   "source": [
    "titani_data_train=pd.read_csv('data/train.csv', delimiter=',')\n",
    "titani_data_train"
   ]
  },
  {
   "cell_type": "code",
   "execution_count": 167,
   "id": "824d214d-24b6-4b19-bef6-b7a0717fb309",
   "metadata": {},
   "outputs": [
    {
     "data": {
      "text/plain": [
       "(891, 12)"
      ]
     },
     "execution_count": 167,
     "metadata": {},
     "output_type": "execute_result"
    }
   ],
   "source": [
    "titani_data_train.shape"
   ]
  },
  {
   "cell_type": "markdown",
   "id": "d851d182-45a7-4442-83e9-1df6b70db95d",
   "metadata": {},
   "source": [
    "There are 891 passengers and 11 attributes (PassengerId is just an index not an attribute of a passenger). The attributes are:"
   ]
  },
  {
   "cell_type": "code",
   "execution_count": 168,
   "id": "77634c03-524c-45f1-8d74-3f872181b1ca",
   "metadata": {},
   "outputs": [
    {
     "data": {
      "text/html": [
       "<div>\n",
       "<style scoped>\n",
       "    .dataframe tbody tr th:only-of-type {\n",
       "        vertical-align: middle;\n",
       "    }\n",
       "\n",
       "    .dataframe tbody tr th {\n",
       "        vertical-align: top;\n",
       "    }\n",
       "\n",
       "    .dataframe thead th {\n",
       "        text-align: right;\n",
       "    }\n",
       "</style>\n",
       "<table border=\"1\" class=\"dataframe\">\n",
       "  <thead>\n",
       "    <tr style=\"text-align: right;\">\n",
       "      <th></th>\n",
       "      <th>PassengerId</th>\n",
       "      <th>Survived</th>\n",
       "      <th>Pclass</th>\n",
       "      <th>Name</th>\n",
       "      <th>Sex</th>\n",
       "      <th>Age</th>\n",
       "      <th>SibSp</th>\n",
       "      <th>Parch</th>\n",
       "      <th>Ticket</th>\n",
       "      <th>Fare</th>\n",
       "      <th>Cabin</th>\n",
       "      <th>Embarked</th>\n",
       "    </tr>\n",
       "  </thead>\n",
       "  <tbody>\n",
       "    <tr>\n",
       "      <th>0</th>\n",
       "      <td>1</td>\n",
       "      <td>0</td>\n",
       "      <td>3</td>\n",
       "      <td>Braund, Mr. Owen Harris</td>\n",
       "      <td>male</td>\n",
       "      <td>22.0</td>\n",
       "      <td>1</td>\n",
       "      <td>0</td>\n",
       "      <td>A/5 21171</td>\n",
       "      <td>7.2500</td>\n",
       "      <td>NaN</td>\n",
       "      <td>S</td>\n",
       "    </tr>\n",
       "    <tr>\n",
       "      <th>1</th>\n",
       "      <td>2</td>\n",
       "      <td>1</td>\n",
       "      <td>1</td>\n",
       "      <td>Cumings, Mrs. John Bradley (Florence Briggs Th...</td>\n",
       "      <td>female</td>\n",
       "      <td>38.0</td>\n",
       "      <td>1</td>\n",
       "      <td>0</td>\n",
       "      <td>PC 17599</td>\n",
       "      <td>71.2833</td>\n",
       "      <td>C85</td>\n",
       "      <td>C</td>\n",
       "    </tr>\n",
       "    <tr>\n",
       "      <th>2</th>\n",
       "      <td>3</td>\n",
       "      <td>1</td>\n",
       "      <td>3</td>\n",
       "      <td>Heikkinen, Miss. Laina</td>\n",
       "      <td>female</td>\n",
       "      <td>26.0</td>\n",
       "      <td>0</td>\n",
       "      <td>0</td>\n",
       "      <td>STON/O2. 3101282</td>\n",
       "      <td>7.9250</td>\n",
       "      <td>NaN</td>\n",
       "      <td>S</td>\n",
       "    </tr>\n",
       "    <tr>\n",
       "      <th>3</th>\n",
       "      <td>4</td>\n",
       "      <td>1</td>\n",
       "      <td>1</td>\n",
       "      <td>Futrelle, Mrs. Jacques Heath (Lily May Peel)</td>\n",
       "      <td>female</td>\n",
       "      <td>35.0</td>\n",
       "      <td>1</td>\n",
       "      <td>0</td>\n",
       "      <td>113803</td>\n",
       "      <td>53.1000</td>\n",
       "      <td>C123</td>\n",
       "      <td>S</td>\n",
       "    </tr>\n",
       "    <tr>\n",
       "      <th>4</th>\n",
       "      <td>5</td>\n",
       "      <td>0</td>\n",
       "      <td>3</td>\n",
       "      <td>Allen, Mr. William Henry</td>\n",
       "      <td>male</td>\n",
       "      <td>35.0</td>\n",
       "      <td>0</td>\n",
       "      <td>0</td>\n",
       "      <td>373450</td>\n",
       "      <td>8.0500</td>\n",
       "      <td>NaN</td>\n",
       "      <td>S</td>\n",
       "    </tr>\n",
       "  </tbody>\n",
       "</table>\n",
       "</div>"
      ],
      "text/plain": [
       "   PassengerId  Survived  Pclass  \\\n",
       "0            1         0       3   \n",
       "1            2         1       1   \n",
       "2            3         1       3   \n",
       "3            4         1       1   \n",
       "4            5         0       3   \n",
       "\n",
       "                                                Name     Sex   Age  SibSp  \\\n",
       "0                            Braund, Mr. Owen Harris    male  22.0      1   \n",
       "1  Cumings, Mrs. John Bradley (Florence Briggs Th...  female  38.0      1   \n",
       "2                             Heikkinen, Miss. Laina  female  26.0      0   \n",
       "3       Futrelle, Mrs. Jacques Heath (Lily May Peel)  female  35.0      1   \n",
       "4                           Allen, Mr. William Henry    male  35.0      0   \n",
       "\n",
       "   Parch            Ticket     Fare Cabin Embarked  \n",
       "0      0         A/5 21171   7.2500   NaN        S  \n",
       "1      0          PC 17599  71.2833   C85        C  \n",
       "2      0  STON/O2. 3101282   7.9250   NaN        S  \n",
       "3      0            113803  53.1000  C123        S  \n",
       "4      0            373450   8.0500   NaN        S  "
      ]
     },
     "execution_count": 168,
     "metadata": {},
     "output_type": "execute_result"
    }
   ],
   "source": [
    "titani_data_train.head()"
   ]
  },
  {
   "cell_type": "code",
   "execution_count": 169,
   "id": "c20fea9d-15f4-4bef-8e0e-2f38b38ad689",
   "metadata": {},
   "outputs": [
    {
     "name": "stdout",
     "output_type": "stream",
     "text": [
      "<class 'pandas.core.frame.DataFrame'>\n",
      "RangeIndex: 891 entries, 0 to 890\n",
      "Data columns (total 12 columns):\n",
      " #   Column       Non-Null Count  Dtype  \n",
      "---  ------       --------------  -----  \n",
      " 0   PassengerId  891 non-null    int64  \n",
      " 1   Survived     891 non-null    int64  \n",
      " 2   Pclass       891 non-null    int64  \n",
      " 3   Name         891 non-null    object \n",
      " 4   Sex          891 non-null    object \n",
      " 5   Age          714 non-null    float64\n",
      " 6   SibSp        891 non-null    int64  \n",
      " 7   Parch        891 non-null    int64  \n",
      " 8   Ticket       891 non-null    object \n",
      " 9   Fare         891 non-null    float64\n",
      " 10  Cabin        204 non-null    object \n",
      " 11  Embarked     889 non-null    object \n",
      "dtypes: float64(2), int64(5), object(5)\n",
      "memory usage: 83.7+ KB\n"
     ]
    }
   ],
   "source": [
    "titani_data_train.info()"
   ]
  },
  {
   "cell_type": "markdown",
   "id": "e800cd92-d28d-4486-b5cf-bfc6e5723b50",
   "metadata": {},
   "source": [
    "# 1. Show the data (test data set)"
   ]
  },
  {
   "cell_type": "code",
   "execution_count": 170,
   "id": "4d979d31-80dd-42d1-8411-4bf7b48f306a",
   "metadata": {},
   "outputs": [
    {
     "data": {
      "text/html": [
       "<div>\n",
       "<style scoped>\n",
       "    .dataframe tbody tr th:only-of-type {\n",
       "        vertical-align: middle;\n",
       "    }\n",
       "\n",
       "    .dataframe tbody tr th {\n",
       "        vertical-align: top;\n",
       "    }\n",
       "\n",
       "    .dataframe thead th {\n",
       "        text-align: right;\n",
       "    }\n",
       "</style>\n",
       "<table border=\"1\" class=\"dataframe\">\n",
       "  <thead>\n",
       "    <tr style=\"text-align: right;\">\n",
       "      <th></th>\n",
       "      <th>PassengerId</th>\n",
       "      <th>Pclass</th>\n",
       "      <th>Name</th>\n",
       "      <th>Sex</th>\n",
       "      <th>Age</th>\n",
       "      <th>SibSp</th>\n",
       "      <th>Parch</th>\n",
       "      <th>Ticket</th>\n",
       "      <th>Fare</th>\n",
       "      <th>Cabin</th>\n",
       "      <th>Embarked</th>\n",
       "    </tr>\n",
       "  </thead>\n",
       "  <tbody>\n",
       "    <tr>\n",
       "      <th>0</th>\n",
       "      <td>892</td>\n",
       "      <td>3</td>\n",
       "      <td>Kelly, Mr. James</td>\n",
       "      <td>male</td>\n",
       "      <td>34.5</td>\n",
       "      <td>0</td>\n",
       "      <td>0</td>\n",
       "      <td>330911</td>\n",
       "      <td>7.8292</td>\n",
       "      <td>NaN</td>\n",
       "      <td>Q</td>\n",
       "    </tr>\n",
       "    <tr>\n",
       "      <th>1</th>\n",
       "      <td>893</td>\n",
       "      <td>3</td>\n",
       "      <td>Wilkes, Mrs. James (Ellen Needs)</td>\n",
       "      <td>female</td>\n",
       "      <td>47.0</td>\n",
       "      <td>1</td>\n",
       "      <td>0</td>\n",
       "      <td>363272</td>\n",
       "      <td>7.0000</td>\n",
       "      <td>NaN</td>\n",
       "      <td>S</td>\n",
       "    </tr>\n",
       "    <tr>\n",
       "      <th>2</th>\n",
       "      <td>894</td>\n",
       "      <td>2</td>\n",
       "      <td>Myles, Mr. Thomas Francis</td>\n",
       "      <td>male</td>\n",
       "      <td>62.0</td>\n",
       "      <td>0</td>\n",
       "      <td>0</td>\n",
       "      <td>240276</td>\n",
       "      <td>9.6875</td>\n",
       "      <td>NaN</td>\n",
       "      <td>Q</td>\n",
       "    </tr>\n",
       "    <tr>\n",
       "      <th>3</th>\n",
       "      <td>895</td>\n",
       "      <td>3</td>\n",
       "      <td>Wirz, Mr. Albert</td>\n",
       "      <td>male</td>\n",
       "      <td>27.0</td>\n",
       "      <td>0</td>\n",
       "      <td>0</td>\n",
       "      <td>315154</td>\n",
       "      <td>8.6625</td>\n",
       "      <td>NaN</td>\n",
       "      <td>S</td>\n",
       "    </tr>\n",
       "    <tr>\n",
       "      <th>4</th>\n",
       "      <td>896</td>\n",
       "      <td>3</td>\n",
       "      <td>Hirvonen, Mrs. Alexander (Helga E Lindqvist)</td>\n",
       "      <td>female</td>\n",
       "      <td>22.0</td>\n",
       "      <td>1</td>\n",
       "      <td>1</td>\n",
       "      <td>3101298</td>\n",
       "      <td>12.2875</td>\n",
       "      <td>NaN</td>\n",
       "      <td>S</td>\n",
       "    </tr>\n",
       "    <tr>\n",
       "      <th>...</th>\n",
       "      <td>...</td>\n",
       "      <td>...</td>\n",
       "      <td>...</td>\n",
       "      <td>...</td>\n",
       "      <td>...</td>\n",
       "      <td>...</td>\n",
       "      <td>...</td>\n",
       "      <td>...</td>\n",
       "      <td>...</td>\n",
       "      <td>...</td>\n",
       "      <td>...</td>\n",
       "    </tr>\n",
       "    <tr>\n",
       "      <th>413</th>\n",
       "      <td>1305</td>\n",
       "      <td>3</td>\n",
       "      <td>Spector, Mr. Woolf</td>\n",
       "      <td>male</td>\n",
       "      <td>NaN</td>\n",
       "      <td>0</td>\n",
       "      <td>0</td>\n",
       "      <td>A.5. 3236</td>\n",
       "      <td>8.0500</td>\n",
       "      <td>NaN</td>\n",
       "      <td>S</td>\n",
       "    </tr>\n",
       "    <tr>\n",
       "      <th>414</th>\n",
       "      <td>1306</td>\n",
       "      <td>1</td>\n",
       "      <td>Oliva y Ocana, Dona. Fermina</td>\n",
       "      <td>female</td>\n",
       "      <td>39.0</td>\n",
       "      <td>0</td>\n",
       "      <td>0</td>\n",
       "      <td>PC 17758</td>\n",
       "      <td>108.9000</td>\n",
       "      <td>C105</td>\n",
       "      <td>C</td>\n",
       "    </tr>\n",
       "    <tr>\n",
       "      <th>415</th>\n",
       "      <td>1307</td>\n",
       "      <td>3</td>\n",
       "      <td>Saether, Mr. Simon Sivertsen</td>\n",
       "      <td>male</td>\n",
       "      <td>38.5</td>\n",
       "      <td>0</td>\n",
       "      <td>0</td>\n",
       "      <td>SOTON/O.Q. 3101262</td>\n",
       "      <td>7.2500</td>\n",
       "      <td>NaN</td>\n",
       "      <td>S</td>\n",
       "    </tr>\n",
       "    <tr>\n",
       "      <th>416</th>\n",
       "      <td>1308</td>\n",
       "      <td>3</td>\n",
       "      <td>Ware, Mr. Frederick</td>\n",
       "      <td>male</td>\n",
       "      <td>NaN</td>\n",
       "      <td>0</td>\n",
       "      <td>0</td>\n",
       "      <td>359309</td>\n",
       "      <td>8.0500</td>\n",
       "      <td>NaN</td>\n",
       "      <td>S</td>\n",
       "    </tr>\n",
       "    <tr>\n",
       "      <th>417</th>\n",
       "      <td>1309</td>\n",
       "      <td>3</td>\n",
       "      <td>Peter, Master. Michael J</td>\n",
       "      <td>male</td>\n",
       "      <td>NaN</td>\n",
       "      <td>1</td>\n",
       "      <td>1</td>\n",
       "      <td>2668</td>\n",
       "      <td>22.3583</td>\n",
       "      <td>NaN</td>\n",
       "      <td>C</td>\n",
       "    </tr>\n",
       "  </tbody>\n",
       "</table>\n",
       "<p>418 rows × 11 columns</p>\n",
       "</div>"
      ],
      "text/plain": [
       "     PassengerId  Pclass                                          Name  \\\n",
       "0            892       3                              Kelly, Mr. James   \n",
       "1            893       3              Wilkes, Mrs. James (Ellen Needs)   \n",
       "2            894       2                     Myles, Mr. Thomas Francis   \n",
       "3            895       3                              Wirz, Mr. Albert   \n",
       "4            896       3  Hirvonen, Mrs. Alexander (Helga E Lindqvist)   \n",
       "..           ...     ...                                           ...   \n",
       "413         1305       3                            Spector, Mr. Woolf   \n",
       "414         1306       1                  Oliva y Ocana, Dona. Fermina   \n",
       "415         1307       3                  Saether, Mr. Simon Sivertsen   \n",
       "416         1308       3                           Ware, Mr. Frederick   \n",
       "417         1309       3                      Peter, Master. Michael J   \n",
       "\n",
       "        Sex   Age  SibSp  Parch              Ticket      Fare Cabin Embarked  \n",
       "0      male  34.5      0      0              330911    7.8292   NaN        Q  \n",
       "1    female  47.0      1      0              363272    7.0000   NaN        S  \n",
       "2      male  62.0      0      0              240276    9.6875   NaN        Q  \n",
       "3      male  27.0      0      0              315154    8.6625   NaN        S  \n",
       "4    female  22.0      1      1             3101298   12.2875   NaN        S  \n",
       "..      ...   ...    ...    ...                 ...       ...   ...      ...  \n",
       "413    male   NaN      0      0           A.5. 3236    8.0500   NaN        S  \n",
       "414  female  39.0      0      0            PC 17758  108.9000  C105        C  \n",
       "415    male  38.5      0      0  SOTON/O.Q. 3101262    7.2500   NaN        S  \n",
       "416    male   NaN      0      0              359309    8.0500   NaN        S  \n",
       "417    male   NaN      1      1                2668   22.3583   NaN        C  \n",
       "\n",
       "[418 rows x 11 columns]"
      ]
     },
     "execution_count": 170,
     "metadata": {},
     "output_type": "execute_result"
    }
   ],
   "source": [
    "titani_data_test=pd.read_csv('data/test.csv', delimiter=',')\n",
    "titani_data_test"
   ]
  },
  {
   "cell_type": "code",
   "execution_count": 171,
   "id": "30b7ce20-9079-4591-8b6d-d5c591d6e463",
   "metadata": {},
   "outputs": [
    {
     "data": {
      "text/plain": [
       "(418, 11)"
      ]
     },
     "execution_count": 171,
     "metadata": {},
     "output_type": "execute_result"
    }
   ],
   "source": [
    "titani_data_test.shape"
   ]
  },
  {
   "cell_type": "code",
   "execution_count": 172,
   "id": "32d3ba7b-7e33-461a-8573-303104f20b51",
   "metadata": {},
   "outputs": [
    {
     "data": {
      "text/html": [
       "<div>\n",
       "<style scoped>\n",
       "    .dataframe tbody tr th:only-of-type {\n",
       "        vertical-align: middle;\n",
       "    }\n",
       "\n",
       "    .dataframe tbody tr th {\n",
       "        vertical-align: top;\n",
       "    }\n",
       "\n",
       "    .dataframe thead th {\n",
       "        text-align: right;\n",
       "    }\n",
       "</style>\n",
       "<table border=\"1\" class=\"dataframe\">\n",
       "  <thead>\n",
       "    <tr style=\"text-align: right;\">\n",
       "      <th></th>\n",
       "      <th>PassengerId</th>\n",
       "      <th>Pclass</th>\n",
       "      <th>Name</th>\n",
       "      <th>Sex</th>\n",
       "      <th>Age</th>\n",
       "      <th>SibSp</th>\n",
       "      <th>Parch</th>\n",
       "      <th>Ticket</th>\n",
       "      <th>Fare</th>\n",
       "      <th>Cabin</th>\n",
       "      <th>Embarked</th>\n",
       "    </tr>\n",
       "  </thead>\n",
       "  <tbody>\n",
       "    <tr>\n",
       "      <th>0</th>\n",
       "      <td>892</td>\n",
       "      <td>3</td>\n",
       "      <td>Kelly, Mr. James</td>\n",
       "      <td>male</td>\n",
       "      <td>34.5</td>\n",
       "      <td>0</td>\n",
       "      <td>0</td>\n",
       "      <td>330911</td>\n",
       "      <td>7.8292</td>\n",
       "      <td>NaN</td>\n",
       "      <td>Q</td>\n",
       "    </tr>\n",
       "    <tr>\n",
       "      <th>1</th>\n",
       "      <td>893</td>\n",
       "      <td>3</td>\n",
       "      <td>Wilkes, Mrs. James (Ellen Needs)</td>\n",
       "      <td>female</td>\n",
       "      <td>47.0</td>\n",
       "      <td>1</td>\n",
       "      <td>0</td>\n",
       "      <td>363272</td>\n",
       "      <td>7.0000</td>\n",
       "      <td>NaN</td>\n",
       "      <td>S</td>\n",
       "    </tr>\n",
       "    <tr>\n",
       "      <th>2</th>\n",
       "      <td>894</td>\n",
       "      <td>2</td>\n",
       "      <td>Myles, Mr. Thomas Francis</td>\n",
       "      <td>male</td>\n",
       "      <td>62.0</td>\n",
       "      <td>0</td>\n",
       "      <td>0</td>\n",
       "      <td>240276</td>\n",
       "      <td>9.6875</td>\n",
       "      <td>NaN</td>\n",
       "      <td>Q</td>\n",
       "    </tr>\n",
       "    <tr>\n",
       "      <th>3</th>\n",
       "      <td>895</td>\n",
       "      <td>3</td>\n",
       "      <td>Wirz, Mr. Albert</td>\n",
       "      <td>male</td>\n",
       "      <td>27.0</td>\n",
       "      <td>0</td>\n",
       "      <td>0</td>\n",
       "      <td>315154</td>\n",
       "      <td>8.6625</td>\n",
       "      <td>NaN</td>\n",
       "      <td>S</td>\n",
       "    </tr>\n",
       "    <tr>\n",
       "      <th>4</th>\n",
       "      <td>896</td>\n",
       "      <td>3</td>\n",
       "      <td>Hirvonen, Mrs. Alexander (Helga E Lindqvist)</td>\n",
       "      <td>female</td>\n",
       "      <td>22.0</td>\n",
       "      <td>1</td>\n",
       "      <td>1</td>\n",
       "      <td>3101298</td>\n",
       "      <td>12.2875</td>\n",
       "      <td>NaN</td>\n",
       "      <td>S</td>\n",
       "    </tr>\n",
       "  </tbody>\n",
       "</table>\n",
       "</div>"
      ],
      "text/plain": [
       "   PassengerId  Pclass                                          Name     Sex  \\\n",
       "0          892       3                              Kelly, Mr. James    male   \n",
       "1          893       3              Wilkes, Mrs. James (Ellen Needs)  female   \n",
       "2          894       2                     Myles, Mr. Thomas Francis    male   \n",
       "3          895       3                              Wirz, Mr. Albert    male   \n",
       "4          896       3  Hirvonen, Mrs. Alexander (Helga E Lindqvist)  female   \n",
       "\n",
       "    Age  SibSp  Parch   Ticket     Fare Cabin Embarked  \n",
       "0  34.5      0      0   330911   7.8292   NaN        Q  \n",
       "1  47.0      1      0   363272   7.0000   NaN        S  \n",
       "2  62.0      0      0   240276   9.6875   NaN        Q  \n",
       "3  27.0      0      0   315154   8.6625   NaN        S  \n",
       "4  22.0      1      1  3101298  12.2875   NaN        S  "
      ]
     },
     "execution_count": 172,
     "metadata": {},
     "output_type": "execute_result"
    }
   ],
   "source": [
    "titani_data_test.head()"
   ]
  },
  {
   "cell_type": "code",
   "execution_count": 173,
   "id": "afa3840e-9ef6-4af2-8ac7-b0f640db36a7",
   "metadata": {},
   "outputs": [
    {
     "name": "stdout",
     "output_type": "stream",
     "text": [
      "<class 'pandas.core.frame.DataFrame'>\n",
      "RangeIndex: 418 entries, 0 to 417\n",
      "Data columns (total 11 columns):\n",
      " #   Column       Non-Null Count  Dtype  \n",
      "---  ------       --------------  -----  \n",
      " 0   PassengerId  418 non-null    int64  \n",
      " 1   Pclass       418 non-null    int64  \n",
      " 2   Name         418 non-null    object \n",
      " 3   Sex          418 non-null    object \n",
      " 4   Age          332 non-null    float64\n",
      " 5   SibSp        418 non-null    int64  \n",
      " 6   Parch        418 non-null    int64  \n",
      " 7   Ticket       418 non-null    object \n",
      " 8   Fare         417 non-null    float64\n",
      " 9   Cabin        91 non-null     object \n",
      " 10  Embarked     418 non-null    object \n",
      "dtypes: float64(2), int64(4), object(5)\n",
      "memory usage: 36.0+ KB\n"
     ]
    }
   ],
   "source": [
    "titani_data_test.info()"
   ]
  },
  {
   "cell_type": "markdown",
   "id": "407f8cee-5ffb-4c1f-a391-98a5e0b0a3f8",
   "metadata": {},
   "source": [
    "3.  Data Wrangling: this is an open component and you need to transform the data into a data frame or data frames for analysis or visualization. However, you need to include the discussion for each data properties (i.e., structure, granularity, scope, temporality, and faithfulness), using the data (e.g., visualizations or statistical summaries) as evidences. If one property cannot be identified using the data, you also need to show and tell that this is not available. [25 points, 5 for each property]"
   ]
  },
  {
   "cell_type": "markdown",
   "id": "af2763a2-9b2b-4092-aa79-805476306394",
   "metadata": {},
   "source": [
    "Ø Structure -- the “shape” of a data file Ø Granularity -- how fine/coarse is each datum Ø Scope -- how (in)complete is the data Ø Temporality -- how is the data situated in time Ø Faithfulness -- how well does the data capture “reality”\n"
   ]
  },
  {
   "cell_type": "markdown",
   "id": "6c2c706a-4bfc-4c35-8e44-90e351c1e9c8",
   "metadata": {},
   "source": [
    "# 3.1 Structure: the “shape” of a data file\n",
    "The train dataset and test dataset are all tabular data. For train dataset, we have 891 rows and 12 columns. For test dataset, we have 418 rows and 11 columns. The column names in test data and train data are same except that train data has “ground truth” for each passenger which is called \"Survived\" and test data doesn't."
   ]
  },
  {
   "cell_type": "code",
   "execution_count": 174,
   "id": "4d3265b0-3cf3-4b23-a7ea-ee5e87211834",
   "metadata": {},
   "outputs": [
    {
     "name": "stdout",
     "output_type": "stream",
     "text": [
      "Shape of train data (891, 12)\n",
      "Shape of test data (418, 11)\n"
     ]
    }
   ],
   "source": [
    "print('Shape of train data', titani_data_train.shape)\n",
    "print('Shape of test data', titani_data_test.shape)"
   ]
  },
  {
   "cell_type": "markdown",
   "id": "0a8c79e6-b104-4399-af0f-e1c3b4e70d2e",
   "metadata": {},
   "source": [
    "# 3.2 Granularity: how fine/coarse is each datum Ø Scopetitani_data_train[\"Survived\"].value_counts()\n",
    " We can further analyze the data by 'Pclass', 'Survived', or 'Sex'."
   ]
  },
  {
   "cell_type": "code",
   "execution_count": 175,
   "id": "8286a388-997c-424c-8edd-dbb8bd52eaa2",
   "metadata": {},
   "outputs": [
    {
     "data": {
      "text/plain": [
       "0    549\n",
       "1    342\n",
       "Name: Survived, dtype: int64"
      ]
     },
     "execution_count": 175,
     "metadata": {},
     "output_type": "execute_result"
    }
   ],
   "source": [
    "titani_data_train[\"Survived\"].value_counts()"
   ]
  },
  {
   "cell_type": "markdown",
   "id": "49a30195-3d8d-4694-a1ff-f06da3248d8c",
   "metadata": {},
   "source": [
    " # 0 means not survived and 1 means survived"
   ]
  },
  {
   "cell_type": "code",
   "execution_count": 176,
   "id": "d2a8c30e-76b4-4329-a557-61fbb0fa6504",
   "metadata": {},
   "outputs": [
    {
     "data": {
      "image/png": "[encoded data removed]",
      "text/plain": [
       "<Figure size 432x288 with 1 Axes>"
      ]
     },
     "metadata": {
      "needs_background": "light"
     },
     "output_type": "display_data"
    }
   ],
   "source": [
    "plt.bar(list(titani_data_train[\"Survived\"].value_counts().keys()),list(titani_data_train[\"Survived\"].value_counts()),color= ['b','r'])\n",
    "plt.ylabel(\"Count\")\n",
    "plt.title(\" Count who is not survived and survived\")\n",
    "plt.show()"
   ]
  },
  {
   "cell_type": "markdown",
   "id": "b3eb9c1d-8093-4cb2-be14-37d51f918039",
   "metadata": {},
   "source": [
    "Overall Survival Rates. Surival chances were low based on the graph. We might want to visualize how the survival rates varied by Sex, Age, Pclass. "
   ]
  },
  {
   "cell_type": "code",
   "execution_count": 177,
   "id": "23592e01-7a9f-438a-a51c-fb4264549035",
   "metadata": {},
   "outputs": [
    {
     "data": {
      "text/html": [
       "<div>\n",
       "<style scoped>\n",
       "    .dataframe tbody tr th:only-of-type {\n",
       "        vertical-align: middle;\n",
       "    }\n",
       "\n",
       "    .dataframe tbody tr th {\n",
       "        vertical-align: top;\n",
       "    }\n",
       "\n",
       "    .dataframe thead th {\n",
       "        text-align: right;\n",
       "    }\n",
       "</style>\n",
       "<table border=\"1\" class=\"dataframe\">\n",
       "  <thead>\n",
       "    <tr style=\"text-align: right;\">\n",
       "      <th></th>\n",
       "      <th>Pclass</th>\n",
       "      <th>Survived</th>\n",
       "    </tr>\n",
       "  </thead>\n",
       "  <tbody>\n",
       "    <tr>\n",
       "      <th>0</th>\n",
       "      <td>1</td>\n",
       "      <td>0.629630</td>\n",
       "    </tr>\n",
       "    <tr>\n",
       "      <th>1</th>\n",
       "      <td>2</td>\n",
       "      <td>0.472826</td>\n",
       "    </tr>\n",
       "    <tr>\n",
       "      <th>2</th>\n",
       "      <td>3</td>\n",
       "      <td>0.242363</td>\n",
       "    </tr>\n",
       "  </tbody>\n",
       "</table>\n",
       "</div>"
      ],
      "text/plain": [
       "   Pclass  Survived\n",
       "0       1  0.629630\n",
       "1       2  0.472826\n",
       "2       3  0.242363"
      ]
     },
     "execution_count": 177,
     "metadata": {},
     "output_type": "execute_result"
    }
   ],
   "source": [
    " titani_data_train[['Pclass', 'Survived']].groupby(['Pclass'], as_index=False).mean().sort_values(by='Survived', ascending=False)"
   ]
  },
  {
   "cell_type": "code",
   "execution_count": 178,
   "id": "3fb9aaa1-77fb-40cb-8054-17e40e6261a7",
   "metadata": {},
   "outputs": [
    {
     "data": {
      "text/plain": [
       "<AxesSubplot:xlabel='Pclass', ylabel='Survived'>"
      ]
     },
     "execution_count": 178,
     "metadata": {},
     "output_type": "execute_result"
    },
    {
     "data": {
      "image/png": "[encoded data removed]",
      "text/plain": [
       "<Figure size 432x288 with 1 Axes>"
      ]
     },
     "metadata": {
      "needs_background": "light"
     },
     "output_type": "display_data"
    }
   ],
   "source": [
    "import seaborn as sns\n",
    "sns.barplot(x='Pclass', y='Survived', data=titani_data_train)"
   ]
  },
  {
   "cell_type": "code",
   "execution_count": 179,
   "id": "651b0ee6-ea21-4f27-934e-a8b186a5b454",
   "metadata": {},
   "outputs": [
    {
     "data": {
      "text/html": [
       "<div>\n",
       "<style scoped>\n",
       "    .dataframe tbody tr th:only-of-type {\n",
       "        vertical-align: middle;\n",
       "    }\n",
       "\n",
       "    .dataframe tbody tr th {\n",
       "        vertical-align: top;\n",
       "    }\n",
       "\n",
       "    .dataframe thead th {\n",
       "        text-align: right;\n",
       "    }\n",
       "</style>\n",
       "<table border=\"1\" class=\"dataframe\">\n",
       "  <thead>\n",
       "    <tr style=\"text-align: right;\">\n",
       "      <th></th>\n",
       "      <th>Sex</th>\n",
       "      <th>Survived</th>\n",
       "    </tr>\n",
       "  </thead>\n",
       "  <tbody>\n",
       "    <tr>\n",
       "      <th>0</th>\n",
       "      <td>female</td>\n",
       "      <td>0.742038</td>\n",
       "    </tr>\n",
       "    <tr>\n",
       "      <th>1</th>\n",
       "      <td>male</td>\n",
       "      <td>0.188908</td>\n",
       "    </tr>\n",
       "  </tbody>\n",
       "</table>\n",
       "</div>"
      ],
      "text/plain": [
       "      Sex  Survived\n",
       "0  female  0.742038\n",
       "1    male  0.188908"
      ]
     },
     "execution_count": 179,
     "metadata": {},
     "output_type": "execute_result"
    }
   ],
   "source": [
    "titani_data_train[[\"Sex\", \"Survived\"]].groupby(['Sex'], as_index=False).mean().sort_values(by='Survived', ascending=False)"
   ]
  },
  {
   "cell_type": "code",
   "execution_count": 180,
   "id": "c69ef4cf-c8c7-4208-b69e-d3ba1d1628ec",
   "metadata": {},
   "outputs": [
    {
     "data": {
      "text/plain": [
       "<AxesSubplot:xlabel='Sex', ylabel='Survived'>"
      ]
     },
     "execution_count": 180,
     "metadata": {},
     "output_type": "execute_result"
    },
    {
     "data": {
      "image/png": "[encoded data removed]",
      "text/plain": [
       "<Figure size 432x288 with 1 Axes>"
      ]
     },
     "metadata": {
      "needs_background": "light"
     },
     "output_type": "display_data"
    }
   ],
   "source": [
    "import seaborn as sns\n",
    "sns.barplot(x='Sex', y='Survived', data=titani_data_train)"
   ]
  },
  {
   "cell_type": "markdown",
   "id": "b397df56-567d-46c8-963b-18597f3f3ed4",
   "metadata": {},
   "source": [
    "females had about 70% survival chance while males had about 30% survival chance.\n",
    "\n",
    "Next, we investigate the survival rate by the passenger class."
   ]
  },
  {
   "cell_type": "code",
   "execution_count": 181,
   "id": "a648b8bc-9675-45b5-ae30-babb5c8406f0",
   "metadata": {},
   "outputs": [
    {
     "data": {
      "text/html": [
       "<div>\n",
       "<style scoped>\n",
       "    .dataframe tbody tr th:only-of-type {\n",
       "        vertical-align: middle;\n",
       "    }\n",
       "\n",
       "    .dataframe tbody tr th {\n",
       "        vertical-align: top;\n",
       "    }\n",
       "\n",
       "    .dataframe thead th {\n",
       "        text-align: right;\n",
       "    }\n",
       "</style>\n",
       "<table border=\"1\" class=\"dataframe\">\n",
       "  <thead>\n",
       "    <tr style=\"text-align: right;\">\n",
       "      <th></th>\n",
       "      <th>Pclass</th>\n",
       "      <th>Num</th>\n",
       "      <th>ticket_class</th>\n",
       "    </tr>\n",
       "  </thead>\n",
       "  <tbody>\n",
       "    <tr>\n",
       "      <th>0</th>\n",
       "      <td>1</td>\n",
       "      <td>216</td>\n",
       "      <td>first</td>\n",
       "    </tr>\n",
       "    <tr>\n",
       "      <th>1</th>\n",
       "      <td>2</td>\n",
       "      <td>184</td>\n",
       "      <td>second</td>\n",
       "    </tr>\n",
       "    <tr>\n",
       "      <th>2</th>\n",
       "      <td>3</td>\n",
       "      <td>491</td>\n",
       "      <td>third</td>\n",
       "    </tr>\n",
       "  </tbody>\n",
       "</table>\n",
       "</div>"
      ],
      "text/plain": [
       "   Pclass  Num ticket_class\n",
       "0       1  216        first\n",
       "1       2  184       second\n",
       "2       3  491        third"
      ]
     },
     "execution_count": 181,
     "metadata": {},
     "output_type": "execute_result"
    }
   ],
   "source": [
    "train_pclass = titani_data_train.groupby('Pclass').size().reset_index(name='Num')\n",
    "train_pclass['ticket_class'] = ['first', 'second', 'third']\n",
    "train_pclass"
   ]
  },
  {
   "cell_type": "markdown",
   "id": "f4ab1b6b-0552-4525-ae89-1467e60cf455",
   "metadata": {},
   "source": [
    "# 3.3 Scope: how (in)complete is the data\n",
    "For the train data, the scope of age, fare, sibsp, and parch are 79.58, 512.33,\n",
    "8, 6 respectively. For the test data, the scope of age, fare, sibsp, and parch are 75.83, 512.33, 8, 9 respectively."
   ]
  },
  {
   "cell_type": "markdown",
   "id": "0116232a-e459-4953-b6e3-4ca327d9bc15",
   "metadata": {},
   "source": [
    "<span style=\"font-family: Arial; font-size:1.4em; background-color: gold\"><font color='red'>Comments<br>\n",
    "for the scope, it is better to provide the value range instead of the difference between the max and min. The age distribution is a good one.\n",
    "</font>"
   ]
  },
  {
   "cell_type": "code",
   "execution_count": null,
   "id": "52c89a8a-056a-42b0-bc24-8aa89fe65725",
   "metadata": {},
   "outputs": [],
   "source": []
  },
  {
   "cell_type": "code",
   "execution_count": 182,
   "id": "81542a9e-cb45-485d-a19a-c01c7ccb8581",
   "metadata": {},
   "outputs": [
    {
     "name": "stdout",
     "output_type": "stream",
     "text": [
      "Scope of Age:  79.58\n",
      "Scope of Fare:  512.3292\n",
      "Scope of SibSp:  8\n",
      "Scope of Parch:  6\n"
     ]
    }
   ],
   "source": [
    "# scope analysis of train data\n",
    "print('Scope of Age: ', titani_data_train['Age'].max() - titani_data_train['Age'].min())\n",
    "print('Scope of Fare: ', titani_data_train['Fare'].max() - titani_data_train['Fare'].min())\n",
    "print('Scope of SibSp: ',titani_data_train['SibSp'].max() - titani_data_train['SibSp'].min())\n",
    "print('Scope of Parch: ', titani_data_train['Parch'].max() - titani_data_train['Parch'].min())"
   ]
  },
  {
   "cell_type": "code",
   "execution_count": 183,
   "id": "c48c9a96-1c59-4304-8ac7-575ad7646dd5",
   "metadata": {},
   "outputs": [
    {
     "data": {
      "image/png": "[encoded data removed]",
      "text/plain": [
       "<Figure size 432x288 with 1 Axes>"
      ]
     },
     "metadata": {
      "needs_background": "light"
     },
     "output_type": "display_data"
    }
   ],
   "source": [
    "plt.hist(titani_data_train['Age'])\n",
    "plt.title(\"Distribution of Age\")\n",
    "plt.xlabel('Age')\n",
    "plt.show()"
   ]
  },
  {
   "cell_type": "markdown",
   "id": "96b71ea0-b89b-4c8f-be51-395168e520d2",
   "metadata": {},
   "source": [
    "Children less than 15 years had higher survival chances. Passengers aged 20-40 were more likely to die. Passengers aged about 65 - 75 had an almost 0 survival chance. One passenger aged 80 years survived."
   ]
  },
  {
   "cell_type": "code",
   "execution_count": 184,
   "id": "62f42e26-606c-454a-9fc8-d1675d66a90b",
   "metadata": {},
   "outputs": [
    {
     "data": {
      "image/png": "[encoded data removed]",
      "text/plain": [
       "<Figure size 432x288 with 1 Axes>"
      ]
     },
     "metadata": {
      "needs_background": "light"
     },
     "output_type": "display_data"
    }
   ],
   "source": [
    "plt.hist(titani_data_train['Fare'])\n",
    "plt.title(\"Analysis by Fare'\")\n",
    "plt.xlabel('Fare')\n",
    "plt.show()"
   ]
  },
  {
   "cell_type": "code",
   "execution_count": 185,
   "id": "a03282a5-2d55-4c2a-be5b-848eac080720",
   "metadata": {},
   "outputs": [
    {
     "data": {
      "image/png": "[encoded data removed]",
      "text/plain": [
       "<Figure size 432x288 with 1 Axes>"
      ]
     },
     "metadata": {
      "needs_background": "light"
     },
     "output_type": "display_data"
    }
   ],
   "source": [
    "plt.hist(titani_data_train['SibSp'])\n",
    "plt.title(\"Analysis by SibSp'\")\n",
    "plt.xlabel('SibSp')\n",
    "plt.show()"
   ]
  },
  {
   "cell_type": "code",
   "execution_count": 186,
   "id": "7c29af1f-a6c2-42ac-8eba-e77a094100ee",
   "metadata": {},
   "outputs": [
    {
     "data": {
      "image/png": "[encoded data removed]",
      "text/plain": [
       "<Figure size 432x288 with 1 Axes>"
      ]
     },
     "metadata": {
      "needs_background": "light"
     },
     "output_type": "display_data"
    }
   ],
   "source": [
    "plt.hist(titani_data_train['Parch'])\n",
    "plt.title(\"Analysis by parch'\")\n",
    "plt.xlabel('Parch')\n",
    "plt.show()"
   ]
  },
  {
   "cell_type": "code",
   "execution_count": 187,
   "id": "d21e2d42-cb13-4e79-9f81-cfaf472419f0",
   "metadata": {},
   "outputs": [
    {
     "name": "stdout",
     "output_type": "stream",
     "text": [
      "Scope of Age:  75.83\n",
      "Scope of Fare:  512.3292\n",
      "Scope of SibSp:  8\n",
      "Scope of Parch:  9\n"
     ]
    }
   ],
   "source": [
    "print('Scope of Age: ', titani_data_test['Age'].max() - titani_data_test['Age'].min())\n",
    "print('Scope of Fare: ', titani_data_test['Fare'].max() - titani_data_test['Fare'].min())\n",
    "print('Scope of SibSp: ', titani_data_test['SibSp'].max() - titani_data_test['SibSp'].min())\n",
    "print('Scope of Parch: ', titani_data_test['Parch'].max() - titani_data_test['Parch'].min())"
   ]
  },
  {
   "cell_type": "code",
   "execution_count": 188,
   "id": "437d15fc-d136-454e-8a52-b8b9a5b37728",
   "metadata": {},
   "outputs": [
    {
     "data": {
      "image/png": "[encoded data removed]",
      "text/plain": [
       "<Figure size 432x288 with 1 Axes>"
      ]
     },
     "metadata": {
      "needs_background": "light"
     },
     "output_type": "display_data"
    }
   ],
   "source": [
    "plt.hist(titani_data_test['Parch'])\n",
    "plt.title(\"Analysis by parch'\")\n",
    "plt.xlabel('Parch')\n",
    "plt.show()"
   ]
  },
  {
   "cell_type": "code",
   "execution_count": null,
   "id": "b4b1cfd0-44b1-448a-9ec4-f67ba57c1d28",
   "metadata": {},
   "outputs": [],
   "source": []
  },
  {
   "cell_type": "code",
   "execution_count": 189,
   "id": "908cfafb-1456-4856-86c3-560b64354824",
   "metadata": {},
   "outputs": [
    {
     "data": {
      "image/png": "[encoded data removed]",
      "text/plain": [
       "<Figure size 432x288 with 1 Axes>"
      ]
     },
     "metadata": {
      "needs_background": "light"
     },
     "output_type": "display_data"
    }
   ],
   "source": [
    "plt.hist(titani_data_test['SibSp'])\n",
    "plt.title(\"Analysis by SibSp'\")\n",
    "plt.xlabel('SibSp')\n",
    "plt.show()"
   ]
  },
  {
   "cell_type": "markdown",
   "id": "c8eca4fe-efaa-403c-998e-6db65ac58efa",
   "metadata": {},
   "source": [
    "Who has a SibSp less survived. "
   ]
  },
  {
   "cell_type": "code",
   "execution_count": 190,
   "id": "3bc907a3-2dcd-4ccb-9307-a5ec914f8dda",
   "metadata": {},
   "outputs": [
    {
     "data": {
      "image/png": "[encoded data removed]",
      "text/plain": [
       "<Figure size 432x288 with 1 Axes>"
      ]
     },
     "metadata": {
      "needs_background": "light"
     },
     "output_type": "display_data"
    }
   ],
   "source": [
    "plt.hist(titani_data_test['Fare'])\n",
    "plt.title(\"Analysis by Fare'\")\n",
    "plt.xlabel('Fare')\n",
    "plt.show()"
   ]
  },
  {
   "cell_type": "code",
   "execution_count": 191,
   "id": "d60f3daf-a370-4425-bf11-ad593a0d4497",
   "metadata": {},
   "outputs": [
    {
     "data": {
      "image/png": "[encoded data removed]",
      "text/plain": [
       "<Figure size 432x288 with 1 Axes>"
      ]
     },
     "metadata": {
      "needs_background": "light"
     },
     "output_type": "display_data"
    }
   ],
   "source": [
    "plt.hist(titani_data_test['Age'])\n",
    "plt.title(\"Distribution of Age\")\n",
    "plt.xlabel('Age')\n",
    "plt.show()"
   ]
  },
  {
   "cell_type": "markdown",
   "id": "84d14132-5f30-496d-b5dc-a36cee07bfb2",
   "metadata": {},
   "source": [
    "Children less than 15 years had higher survival chances. Passengers aged 20-40 were more likely to die. Passengers aged about 65 - 75 had an almost 0 survival chance. One passenger aged 80 years survived."
   ]
  },
  {
   "cell_type": "markdown",
   "id": "481b08ee-2fe4-4ee5-bfa5-a38a193167ce",
   "metadata": {},
   "source": [
    "# 3.4 Temporality:  how is the data situated in time"
   ]
  },
  {
   "cell_type": "markdown",
   "id": "4cf50381-de54-4c87-96c7-bcd5b2f0561a",
   "metadata": {},
   "source": [
    "Since all the data don't include any information related to time, I think this property cannot be identified in this problem."
   ]
  },
  {
   "cell_type": "markdown",
   "id": "dbca6e32-8faf-4bf9-b03e-cf18d6b156ed",
   "metadata": {},
   "source": [
    "# 3.5 Faithfulness:"
   ]
  },
  {
   "cell_type": "markdown",
   "id": "a1a891ef-0fb7-4fd6-8c24-0b06306b9afc",
   "metadata": {},
   "source": [
    "<span style=\"font-family: Arial; font-size:1.4em; background-color: gold;\"><font color='red'>Comments<br>\n",
    "It is better to provide a conclusion of your evidence in terms of faithfulness. You will also need to check NaN values.</font>"
   ]
  },
  {
   "cell_type": "markdown",
   "id": "12af1266-8460-4fe2-a1f4-b6cb67cf170c",
   "metadata": {},
   "source": [
    "*`Here is the changes of answer! faithfulness?`* "
   ]
  },
  {
   "cell_type": "markdown",
   "id": "908fb821-e1b1-4488-a18b-fc569ff794ec",
   "metadata": {},
   "source": [
    "<font color='blue'>***Answer:“faithful” if we believe it accurately captures reality. Combining the analysis of train data and test data, the scope of age is [0.42,80], the scope of fare is [0,512.33], the scope of sibsp is [0,8], and the scope of parch is [0,6]. It seems like reasonable and credible.***</font>"
   ]
  },
  {
   "cell_type": "markdown",
   "id": "c61f164a-b86f-4f43-aef9-e3b7b63f80a4",
   "metadata": {},
   "source": [
    "Combining the analysis of train data and test data"
   ]
  },
  {
   "cell_type": "code",
   "execution_count": 192,
   "id": "c554e816-f646-4852-a80b-f0558fac85ce",
   "metadata": {},
   "outputs": [
    {
     "name": "stdout",
     "output_type": "stream",
     "text": [
      "Range of Age:  0.42 - 80.0\n",
      "Range of Fare:  0.0 - 512.3292\n",
      "Range of SibSp:  0 - 8\n",
      "Range of Parch:  0 - 6\n"
     ]
    }
   ],
   "source": [
    "print('Range of Age: ', titani_data_train['Age'].min(), \"-\", titani_data_train['Age'].max())\n",
    "print('Range of Fare: ', titani_data_train['Fare'].min(), \"-\",  titani_data_train['Fare'].max())\n",
    "print('Range of SibSp: ', titani_data_train['SibSp'].min(), \"-\",  titani_data_train['SibSp'].max())\n",
    "print('Range of Parch: ', titani_data_train['Parch'].min(), \"-\",  titani_data_train['Parch'].max())"
   ]
  },
  {
   "cell_type": "code",
   "execution_count": 193,
   "id": "6cc3ab50-6a93-4810-9639-c7fc616b70f0",
   "metadata": {},
   "outputs": [
    {
     "name": "stdout",
     "output_type": "stream",
     "text": [
      "Range of Age:  0.17 - 76.0\n",
      "Range of Fare:  0.0 - 512.3292\n",
      "Range of SibSp:  0 - 8\n",
      "Range of Parch:  0 - 9\n"
     ]
    }
   ],
   "source": [
    "print('Range of Age: ', titani_data_test['Age'].min(), \"-\", titani_data_test['Age'].max())\n",
    "print('Range of Fare: ', titani_data_test['Fare'].min(), \"-\",  titani_data_test['Fare'].max())\n",
    "print('Range of SibSp: ', titani_data_test['SibSp'].min(), \"-\",  titani_data_test['SibSp'].max())\n",
    "print('Range of Parch: ', titani_data_test['Parch'].min(), \"-\",  titani_data_test['Parch'].max())"
   ]
  },
  {
   "cell_type": "markdown",
   "id": "1dd62b1d-04f7-49d2-a74f-e14de5d14deb",
   "metadata": {},
   "source": [
    "# 4. According to the data wrangling (maybe some visualizations), is the data obtained representative for the problem according to your data population? What kind of assumptions are needed that the analysis using the current data can solve the problem? [5 points]"
   ]
  },
  {
   "cell_type": "markdown",
   "id": "fba8fb8d-9dfa-447e-a103-c5e5645cb389",
   "metadata": {},
   "source": [
    "scope of the age, SibSp, Parch is bigger enough and the data distribution is reasonable, such as Pclass and Sex. b. Assumptions: All the information in the data is real and correct.\n",
    "Graphs are powerful visualization tools. In the titanic data, Age, Sex, Pclass and passenger class were important predictors of survival. Identifying such predictors is important for predictive modelling. we will investigate how different variables intercted with each other and with the survival rate."
   ]
  },
  {
   "cell_type": "markdown",
   "id": "113d6516-d36b-4db1-95a2-2167c99d2238",
   "metadata": {},
   "source": [
    "# 5. Comparing the data population and the given data, guess what kind of sampling method maybe used during the data collection and why do you guess so. [2 points]"
   ]
  },
  {
   "cell_type": "markdown",
   "id": "92d2e374-2552-4041-a5a7-c84a219cd289",
   "metadata": {},
   "source": [
    "Using statitstics functions for data collection. \n",
    "Categorical: Survived, Sex, and Embarked. Ordinal: Pclass."
   ]
  },
  {
   "cell_type": "markdown",
   "id": "29cf75e5-4b0c-4bca-a2c9-5290882cad92",
   "metadata": {},
   "source": [
    "\n",
    "Total samples are 891 or 40% of the actual number of passengers on board the Titanic (2,224)."
   ]
  },
  {
   "cell_type": "markdown",
   "id": "44533786-da4f-4745-a4af-0112535b6020",
   "metadata": {},
   "source": [
    "Ticket class. 1 stands for First class ticket. 2 stands for Second class ticket. 3 stands for Third class ticket.\n",
    "data: Age, Sex who has siblin , Fare (How much money the passenger has paid for the travel) and Passenger class were important predictors of survival. Identifying such predictors is important for predictive modelling."
   ]
  },
  {
   "cell_type": "markdown",
   "id": "b156e595-54e3-48a0-92b6-a9e2205563a2",
   "metadata": {},
   "source": [
    "<span style=\"font-family: Arial; font-size:1.4em;background-color: gold;\"><font color='red'>Comments<br>\n",
    "More assumptions can be made, e.g., passengers not included in this sample are following similar pattern.<br>\n",
    "Comments<br>\n",
    "*Which statistics function? Why are you guessing so? No discussion.*<br>\n",
    "Comments<br>\n",
    "Better to emphasize the key points.</font>"
   ]
  },
  {
   "cell_type": "markdown",
   "id": "d25c950f-8593-4397-8f71-473706dec555",
   "metadata": {},
   "source": [
    "*`Here is the changes of answer! statistics function?`* "
   ]
  },
  {
   "cell_type": "markdown",
   "id": "8359df19-51b1-4178-8d2f-3aff684c5fd7",
   "metadata": {},
   "source": [
    "<font color='blue'>***Answer:\n",
    "    stratified sampling was used during the data collection, since we have three classes in the train/test data: first, second and third class.***</font>"
   ]
  },
  {
   "cell_type": "markdown",
   "id": "fb52a65f-ffd9-4e60-b2f5-07eba8f0c25e",
   "metadata": {},
   "source": [
    "<hr>\n",
    "<hr>\n",
    "<hr>"
   ]
  },
  {
   "cell_type": "markdown",
   "id": "d993b4ac-47ef-41f2-9985-cc202d7cd1c9",
   "metadata": {},
   "source": [
    "# <span style=\"font-family: Arial; font-size:1.4em; background-color: yellow;\"> ***Starting of stage-2*** \n"
   ]
  },
  {
   "cell_type": "markdown",
   "id": "2857e3c7-53d5-44a7-ba6c-e116ca205a26",
   "metadata": {},
   "source": [
    "`Here is Starting of stage-2!`"
   ]
  },
  {
   "cell_type": "markdown",
   "id": "fdacb2ac-dcc5-48f3-b025-b2b7990cf252",
   "metadata": {},
   "source": [
    "## 1.2 EDA and Data Transformation"
   ]
  },
  {
   "cell_type": "markdown",
   "id": "58618466-28ce-4b7c-8e71-568dec6cb8a7",
   "metadata": {},
   "source": [
    "This is an open question. The goal of this section is to prepare the data ready for modeling. First, the raw data you have may not be ready for even very simple EDA. \n",
    "\n",
    "Describe the transformations of the data you have applied if applicable. Why or Why not? [10 points]\n",
    "Second, you probably have a certain number of features that you can use. You may choose to use all or some.\n",
    "\n",
    "What are the features you choose to use for modeling? Why? Note: You may use EDA to show the reason. [5 points]\n",
    "Finally, you will have the data ready for prediction. \n",
    "\n",
    "Readiness of the data. [2 points] [HINT: for some models, the value range of your features can affect the model a lot. Data normalization may be needed, o.w., one feature with huge values may dominate the modeling effect]"
   ]
  },
  {
   "cell_type": "code",
   "execution_count": 194,
   "id": "d42c01da-f682-4a6f-a5d4-c635575ef57b",
   "metadata": {},
   "outputs": [
    {
     "name": "stdout",
     "output_type": "stream",
     "text": [
      "<class 'pandas.core.frame.DataFrame'>\n",
      "RangeIndex: 891 entries, 0 to 890\n",
      "Data columns (total 12 columns):\n",
      " #   Column       Non-Null Count  Dtype  \n",
      "---  ------       --------------  -----  \n",
      " 0   PassengerId  891 non-null    int64  \n",
      " 1   Survived     891 non-null    int64  \n",
      " 2   Pclass       891 non-null    int64  \n",
      " 3   Name         891 non-null    object \n",
      " 4   Sex          891 non-null    object \n",
      " 5   Age          714 non-null    float64\n",
      " 6   SibSp        891 non-null    int64  \n",
      " 7   Parch        891 non-null    int64  \n",
      " 8   Ticket       891 non-null    object \n",
      " 9   Fare         891 non-null    float64\n",
      " 10  Cabin        204 non-null    object \n",
      " 11  Embarked     889 non-null    object \n",
      "dtypes: float64(2), int64(5), object(5)\n",
      "memory usage: 83.7+ KB\n"
     ]
    }
   ],
   "source": [
    "titani_data_train.info()"
   ]
  },
  {
   "cell_type": "code",
   "execution_count": 195,
   "id": "36ea4005-4f25-4126-aa39-f8352609c063",
   "metadata": {},
   "outputs": [
    {
     "data": {
      "text/html": [
       "<div>\n",
       "<style scoped>\n",
       "    .dataframe tbody tr th:only-of-type {\n",
       "        vertical-align: middle;\n",
       "    }\n",
       "\n",
       "    .dataframe tbody tr th {\n",
       "        vertical-align: top;\n",
       "    }\n",
       "\n",
       "    .dataframe thead th {\n",
       "        text-align: right;\n",
       "    }\n",
       "</style>\n",
       "<table border=\"1\" class=\"dataframe\">\n",
       "  <thead>\n",
       "    <tr style=\"text-align: right;\">\n",
       "      <th></th>\n",
       "      <th>PassengerId</th>\n",
       "      <th>Survived</th>\n",
       "      <th>Pclass</th>\n",
       "      <th>Name</th>\n",
       "      <th>Sex</th>\n",
       "      <th>Age</th>\n",
       "      <th>SibSp</th>\n",
       "      <th>Parch</th>\n",
       "      <th>Ticket</th>\n",
       "      <th>Fare</th>\n",
       "      <th>Cabin</th>\n",
       "      <th>Embarked</th>\n",
       "    </tr>\n",
       "  </thead>\n",
       "  <tbody>\n",
       "    <tr>\n",
       "      <th>0</th>\n",
       "      <td>1</td>\n",
       "      <td>0</td>\n",
       "      <td>3</td>\n",
       "      <td>Braund, Mr. Owen Harris</td>\n",
       "      <td>male</td>\n",
       "      <td>22.0</td>\n",
       "      <td>1</td>\n",
       "      <td>0</td>\n",
       "      <td>A/5 21171</td>\n",
       "      <td>7.2500</td>\n",
       "      <td>NaN</td>\n",
       "      <td>S</td>\n",
       "    </tr>\n",
       "    <tr>\n",
       "      <th>1</th>\n",
       "      <td>2</td>\n",
       "      <td>1</td>\n",
       "      <td>1</td>\n",
       "      <td>Cumings, Mrs. John Bradley (Florence Briggs Th...</td>\n",
       "      <td>female</td>\n",
       "      <td>38.0</td>\n",
       "      <td>1</td>\n",
       "      <td>0</td>\n",
       "      <td>PC 17599</td>\n",
       "      <td>71.2833</td>\n",
       "      <td>C85</td>\n",
       "      <td>C</td>\n",
       "    </tr>\n",
       "    <tr>\n",
       "      <th>2</th>\n",
       "      <td>3</td>\n",
       "      <td>1</td>\n",
       "      <td>3</td>\n",
       "      <td>Heikkinen, Miss. Laina</td>\n",
       "      <td>female</td>\n",
       "      <td>26.0</td>\n",
       "      <td>0</td>\n",
       "      <td>0</td>\n",
       "      <td>STON/O2. 3101282</td>\n",
       "      <td>7.9250</td>\n",
       "      <td>NaN</td>\n",
       "      <td>S</td>\n",
       "    </tr>\n",
       "    <tr>\n",
       "      <th>3</th>\n",
       "      <td>4</td>\n",
       "      <td>1</td>\n",
       "      <td>1</td>\n",
       "      <td>Futrelle, Mrs. Jacques Heath (Lily May Peel)</td>\n",
       "      <td>female</td>\n",
       "      <td>35.0</td>\n",
       "      <td>1</td>\n",
       "      <td>0</td>\n",
       "      <td>113803</td>\n",
       "      <td>53.1000</td>\n",
       "      <td>C123</td>\n",
       "      <td>S</td>\n",
       "    </tr>\n",
       "    <tr>\n",
       "      <th>4</th>\n",
       "      <td>5</td>\n",
       "      <td>0</td>\n",
       "      <td>3</td>\n",
       "      <td>Allen, Mr. William Henry</td>\n",
       "      <td>male</td>\n",
       "      <td>35.0</td>\n",
       "      <td>0</td>\n",
       "      <td>0</td>\n",
       "      <td>373450</td>\n",
       "      <td>8.0500</td>\n",
       "      <td>NaN</td>\n",
       "      <td>S</td>\n",
       "    </tr>\n",
       "    <tr>\n",
       "      <th>5</th>\n",
       "      <td>6</td>\n",
       "      <td>0</td>\n",
       "      <td>3</td>\n",
       "      <td>Moran, Mr. James</td>\n",
       "      <td>male</td>\n",
       "      <td>NaN</td>\n",
       "      <td>0</td>\n",
       "      <td>0</td>\n",
       "      <td>330877</td>\n",
       "      <td>8.4583</td>\n",
       "      <td>NaN</td>\n",
       "      <td>Q</td>\n",
       "    </tr>\n",
       "    <tr>\n",
       "      <th>6</th>\n",
       "      <td>7</td>\n",
       "      <td>0</td>\n",
       "      <td>1</td>\n",
       "      <td>McCarthy, Mr. Timothy J</td>\n",
       "      <td>male</td>\n",
       "      <td>54.0</td>\n",
       "      <td>0</td>\n",
       "      <td>0</td>\n",
       "      <td>17463</td>\n",
       "      <td>51.8625</td>\n",
       "      <td>E46</td>\n",
       "      <td>S</td>\n",
       "    </tr>\n",
       "    <tr>\n",
       "      <th>7</th>\n",
       "      <td>8</td>\n",
       "      <td>0</td>\n",
       "      <td>3</td>\n",
       "      <td>Palsson, Master. Gosta Leonard</td>\n",
       "      <td>male</td>\n",
       "      <td>2.0</td>\n",
       "      <td>3</td>\n",
       "      <td>1</td>\n",
       "      <td>349909</td>\n",
       "      <td>21.0750</td>\n",
       "      <td>NaN</td>\n",
       "      <td>S</td>\n",
       "    </tr>\n",
       "  </tbody>\n",
       "</table>\n",
       "</div>"
      ],
      "text/plain": [
       "   PassengerId  Survived  Pclass  \\\n",
       "0            1         0       3   \n",
       "1            2         1       1   \n",
       "2            3         1       3   \n",
       "3            4         1       1   \n",
       "4            5         0       3   \n",
       "5            6         0       3   \n",
       "6            7         0       1   \n",
       "7            8         0       3   \n",
       "\n",
       "                                                Name     Sex   Age  SibSp  \\\n",
       "0                            Braund, Mr. Owen Harris    male  22.0      1   \n",
       "1  Cumings, Mrs. John Bradley (Florence Briggs Th...  female  38.0      1   \n",
       "2                             Heikkinen, Miss. Laina  female  26.0      0   \n",
       "3       Futrelle, Mrs. Jacques Heath (Lily May Peel)  female  35.0      1   \n",
       "4                           Allen, Mr. William Henry    male  35.0      0   \n",
       "5                                   Moran, Mr. James    male   NaN      0   \n",
       "6                            McCarthy, Mr. Timothy J    male  54.0      0   \n",
       "7                     Palsson, Master. Gosta Leonard    male   2.0      3   \n",
       "\n",
       "   Parch            Ticket     Fare Cabin Embarked  \n",
       "0      0         A/5 21171   7.2500   NaN        S  \n",
       "1      0          PC 17599  71.2833   C85        C  \n",
       "2      0  STON/O2. 3101282   7.9250   NaN        S  \n",
       "3      0            113803  53.1000  C123        S  \n",
       "4      0            373450   8.0500   NaN        S  \n",
       "5      0            330877   8.4583   NaN        Q  \n",
       "6      0             17463  51.8625   E46        S  \n",
       "7      1            349909  21.0750   NaN        S  "
      ]
     },
     "execution_count": 195,
     "metadata": {},
     "output_type": "execute_result"
    }
   ],
   "source": [
    "#  train data before data transformation\n",
    "titani_data_train.head(8)"
   ]
  },
  {
   "cell_type": "markdown",
   "id": "bd05af3d-1788-42eb-9f38-5db75c337847",
   "metadata": {},
   "source": [
    "<font color='blue'>**Answer: According to the above table, it requires a lot of change from alphabetic to numerical format. We can, for example, change a male to a 0 and a female to a 1. Some cells that contain missing values (NaN = not a number)\n",
    "***</font>\n",
    "\n",
    "<font color='blue'>1. Sibsp\t# of siblings / spouses aboard the Titanic*</font>    \n",
    "<font color='blue'>2. *Parch\t# of parents / children aboard the Titanic*</font>    \n",
    "\n",
    "**SibSp and Parch would make more sense as a combined data, that shows the total number of relativescolumn**"
   ]
  },
  {
   "cell_type": "markdown",
   "id": "859baf03-2721-40b8-beb0-55f3f90cd552",
   "metadata": {},
   "source": [
    "# Look at the missing data"
   ]
  },
  {
   "cell_type": "code",
   "execution_count": 196,
   "id": "4a5986eb-3a55-4af7-8317-466fadbb1516",
   "metadata": {},
   "outputs": [
    {
     "data": {
      "text/html": [
       "<div>\n",
       "<style scoped>\n",
       "    .dataframe tbody tr th:only-of-type {\n",
       "        vertical-align: middle;\n",
       "    }\n",
       "\n",
       "    .dataframe tbody tr th {\n",
       "        vertical-align: top;\n",
       "    }\n",
       "\n",
       "    .dataframe thead th {\n",
       "        text-align: right;\n",
       "    }\n",
       "</style>\n",
       "<table border=\"1\" class=\"dataframe\">\n",
       "  <thead>\n",
       "    <tr style=\"text-align: right;\">\n",
       "      <th></th>\n",
       "      <th>Total</th>\n",
       "      <th>%</th>\n",
       "    </tr>\n",
       "  </thead>\n",
       "  <tbody>\n",
       "    <tr>\n",
       "      <th>Cabin</th>\n",
       "      <td>687</td>\n",
       "      <td>77.1</td>\n",
       "    </tr>\n",
       "    <tr>\n",
       "      <th>Age</th>\n",
       "      <td>177</td>\n",
       "      <td>19.9</td>\n",
       "    </tr>\n",
       "    <tr>\n",
       "      <th>Embarked</th>\n",
       "      <td>2</td>\n",
       "      <td>0.2</td>\n",
       "    </tr>\n",
       "    <tr>\n",
       "      <th>PassengerId</th>\n",
       "      <td>0</td>\n",
       "      <td>0.0</td>\n",
       "    </tr>\n",
       "    <tr>\n",
       "      <th>Survived</th>\n",
       "      <td>0</td>\n",
       "      <td>0.0</td>\n",
       "    </tr>\n",
       "    <tr>\n",
       "      <th>Pclass</th>\n",
       "      <td>0</td>\n",
       "      <td>0.0</td>\n",
       "    </tr>\n",
       "    <tr>\n",
       "      <th>Name</th>\n",
       "      <td>0</td>\n",
       "      <td>0.0</td>\n",
       "    </tr>\n",
       "    <tr>\n",
       "      <th>Sex</th>\n",
       "      <td>0</td>\n",
       "      <td>0.0</td>\n",
       "    </tr>\n",
       "    <tr>\n",
       "      <th>SibSp</th>\n",
       "      <td>0</td>\n",
       "      <td>0.0</td>\n",
       "    </tr>\n",
       "    <tr>\n",
       "      <th>Parch</th>\n",
       "      <td>0</td>\n",
       "      <td>0.0</td>\n",
       "    </tr>\n",
       "    <tr>\n",
       "      <th>Ticket</th>\n",
       "      <td>0</td>\n",
       "      <td>0.0</td>\n",
       "    </tr>\n",
       "    <tr>\n",
       "      <th>Fare</th>\n",
       "      <td>0</td>\n",
       "      <td>0.0</td>\n",
       "    </tr>\n",
       "  </tbody>\n",
       "</table>\n",
       "</div>"
      ],
      "text/plain": [
       "             Total     %\n",
       "Cabin          687  77.1\n",
       "Age            177  19.9\n",
       "Embarked         2   0.2\n",
       "PassengerId      0   0.0\n",
       "Survived         0   0.0\n",
       "Pclass           0   0.0\n",
       "Name             0   0.0\n",
       "Sex              0   0.0\n",
       "SibSp            0   0.0\n",
       "Parch            0   0.0\n",
       "Ticket           0   0.0\n",
       "Fare             0   0.0"
      ]
     },
     "execution_count": 196,
     "metadata": {},
     "output_type": "execute_result"
    }
   ],
   "source": [
    "total = titani_data_train.isnull().sum().sort_values(ascending=False)\n",
    "percent1 = titani_data_train.isnull().sum()/titani_data_train.isnull().count()*100\n",
    "percent2 = (round(percent1, 1)).sort_values(ascending=False)\n",
    "missingData = pd.concat([total, percent2], axis=1, keys=['Total', '%'])\n",
    "missingData.head(12)"
   ]
  },
  {
   "cell_type": "markdown",
   "id": "16e81393-96c0-4347-b922-cd27b9fe92fb",
   "metadata": {},
   "source": [
    "<font color='blue'>* ‘Age’ feature, which has 177 missing values \n",
    "\n",
    "<font color='blue'>* \"Cabin\" 77% of it is missing----->drop Because we have a lot of missing data! \n",
    "</font>"
   ]
  },
  {
   "cell_type": "markdown",
   "id": "b197ff08-04c9-4ecf-afef-79c67a524448",
   "metadata": {},
   "source": [
    "<font color='blue'>** Convert ‘Sex’ data into numeric**"
   ]
  },
  {
   "cell_type": "code",
   "execution_count": 197,
   "id": "fc74f6cd-627c-4367-89f0-1904cae67969",
   "metadata": {},
   "outputs": [
    {
     "data": {
      "text/plain": [
       "array([[1, 0, 3, ..., 7.25, nan, 'S'],\n",
       "       [2, 1, 1, ..., 71.2833, 'C85', 'C'],\n",
       "       [3, 1, 3, ..., 7.925, nan, 'S'],\n",
       "       ...,\n",
       "       [889, 0, 3, ..., 23.45, nan, 'S'],\n",
       "       [890, 1, 1, ..., 30.0, 'C148', 'C'],\n",
       "       [891, 0, 3, ..., 7.75, nan, 'Q']], dtype=object)"
      ]
     },
     "execution_count": 197,
     "metadata": {},
     "output_type": "execute_result"
    }
   ],
   "source": [
    "titani_data_train.values"
   ]
  },
  {
   "cell_type": "code",
   "execution_count": 198,
   "id": "6832af63-90bc-4dd7-ba3c-ec5bad083dff",
   "metadata": {},
   "outputs": [
    {
     "data": {
      "text/html": [
       "<div>\n",
       "<style scoped>\n",
       "    .dataframe tbody tr th:only-of-type {\n",
       "        vertical-align: middle;\n",
       "    }\n",
       "\n",
       "    .dataframe tbody tr th {\n",
       "        vertical-align: top;\n",
       "    }\n",
       "\n",
       "    .dataframe thead th {\n",
       "        text-align: right;\n",
       "    }\n",
       "</style>\n",
       "<table border=\"1\" class=\"dataframe\">\n",
       "  <thead>\n",
       "    <tr style=\"text-align: right;\">\n",
       "      <th></th>\n",
       "      <th>Survived</th>\n",
       "      <th>Pclass</th>\n",
       "      <th>Sex</th>\n",
       "      <th>Age</th>\n",
       "      <th>Fare</th>\n",
       "      <th>CombRel</th>\n",
       "      <th>dataset</th>\n",
       "    </tr>\n",
       "  </thead>\n",
       "  <tbody>\n",
       "    <tr>\n",
       "      <th>0</th>\n",
       "      <td>0</td>\n",
       "      <td>3</td>\n",
       "      <td>0</td>\n",
       "      <td>22.00000</td>\n",
       "      <td>7.2500</td>\n",
       "      <td>1</td>\n",
       "      <td>[3.0, 0.0, 22.0, 7.25, 1.0]</td>\n",
       "    </tr>\n",
       "    <tr>\n",
       "      <th>1</th>\n",
       "      <td>1</td>\n",
       "      <td>1</td>\n",
       "      <td>1</td>\n",
       "      <td>38.00000</td>\n",
       "      <td>71.2833</td>\n",
       "      <td>1</td>\n",
       "      <td>[1.0, 1.0, 38.0, 71.2833, 1.0]</td>\n",
       "    </tr>\n",
       "    <tr>\n",
       "      <th>2</th>\n",
       "      <td>1</td>\n",
       "      <td>3</td>\n",
       "      <td>1</td>\n",
       "      <td>26.00000</td>\n",
       "      <td>7.9250</td>\n",
       "      <td>0</td>\n",
       "      <td>[3.0, 1.0, 26.0, 7.925, 0.0]</td>\n",
       "    </tr>\n",
       "    <tr>\n",
       "      <th>3</th>\n",
       "      <td>1</td>\n",
       "      <td>1</td>\n",
       "      <td>1</td>\n",
       "      <td>35.00000</td>\n",
       "      <td>53.1000</td>\n",
       "      <td>1</td>\n",
       "      <td>[1.0, 1.0, 35.0, 53.1, 1.0]</td>\n",
       "    </tr>\n",
       "    <tr>\n",
       "      <th>4</th>\n",
       "      <td>0</td>\n",
       "      <td>3</td>\n",
       "      <td>0</td>\n",
       "      <td>35.00000</td>\n",
       "      <td>8.0500</td>\n",
       "      <td>0</td>\n",
       "      <td>[3.0, 0.0, 35.0, 8.05, 0.0]</td>\n",
       "    </tr>\n",
       "    <tr>\n",
       "      <th>5</th>\n",
       "      <td>0</td>\n",
       "      <td>3</td>\n",
       "      <td>0</td>\n",
       "      <td>46.89368</td>\n",
       "      <td>8.4583</td>\n",
       "      <td>0</td>\n",
       "      <td>[3.0, 0.0, 46.893679740659486, 8.4583, 0.0]</td>\n",
       "    </tr>\n",
       "    <tr>\n",
       "      <th>6</th>\n",
       "      <td>0</td>\n",
       "      <td>1</td>\n",
       "      <td>0</td>\n",
       "      <td>54.00000</td>\n",
       "      <td>51.8625</td>\n",
       "      <td>0</td>\n",
       "      <td>[1.0, 0.0, 54.0, 51.8625, 0.0]</td>\n",
       "    </tr>\n",
       "    <tr>\n",
       "      <th>7</th>\n",
       "      <td>0</td>\n",
       "      <td>3</td>\n",
       "      <td>0</td>\n",
       "      <td>2.00000</td>\n",
       "      <td>21.0750</td>\n",
       "      <td>4</td>\n",
       "      <td>[3.0, 0.0, 2.0, 21.075, 4.0]</td>\n",
       "    </tr>\n",
       "  </tbody>\n",
       "</table>\n",
       "</div>"
      ],
      "text/plain": [
       "   Survived  Pclass  Sex       Age     Fare  CombRel  \\\n",
       "0         0       3    0  22.00000   7.2500        1   \n",
       "1         1       1    1  38.00000  71.2833        1   \n",
       "2         1       3    1  26.00000   7.9250        0   \n",
       "3         1       1    1  35.00000  53.1000        1   \n",
       "4         0       3    0  35.00000   8.0500        0   \n",
       "5         0       3    0  46.89368   8.4583        0   \n",
       "6         0       1    0  54.00000  51.8625        0   \n",
       "7         0       3    0   2.00000  21.0750        4   \n",
       "\n",
       "                                       dataset  \n",
       "0                  [3.0, 0.0, 22.0, 7.25, 1.0]  \n",
       "1               [1.0, 1.0, 38.0, 71.2833, 1.0]  \n",
       "2                 [3.0, 1.0, 26.0, 7.925, 0.0]  \n",
       "3                  [1.0, 1.0, 35.0, 53.1, 1.0]  \n",
       "4                  [3.0, 0.0, 35.0, 8.05, 0.0]  \n",
       "5  [3.0, 0.0, 46.893679740659486, 8.4583, 0.0]  \n",
       "6               [1.0, 0.0, 54.0, 51.8625, 0.0]  \n",
       "7                 [3.0, 0.0, 2.0, 21.075, 4.0]  "
      ]
     },
     "execution_count": 198,
     "metadata": {},
     "output_type": "execute_result"
    }
   ],
   "source": [
    "# change data in the sex column as a male to a 0 and as a female to a 1\n",
    "# Create a new dataframe \n",
    "# fill up missing data of age by ramdom value generated by normal distribution in train data\n",
    "# Age column which has 177 missing values\n",
    "transformdata = titani_data_train.replace({\"Sex\": {\"male\":0,\"female\":1}})\n",
    "transformdata[\"Age\"].fillna(np.random.normal(titani_data_train[\"Age\"].mean(), titani_data_train[\"Age\"].std()), inplace =True)\n",
    "#Sibsp\t# of siblings / spouses aboard the Titanic   \n",
    "#Parch\t# of parents / children aboard the Titanic\n",
    "#SibSp and Parch would make more sense as a combined data, that shows the total number of relativescolumn\n",
    "transformdata['CombRel'] = titani_data_train['SibSp'] + titani_data_train['Parch']\n",
    "#drop 'PassengerId’, 'Name', \"SibSp\", 'Parch', 'Ticket', 'Cabin', 'Embarked' from the train set, because it does not contribute to a persons survival probability\n",
    "transformdata.drop(['PassengerId', 'Name', 'SibSp', 'Parch', 'Ticket', 'Cabin', 'Embarked'], axis=1,inplace=True)\n",
    "\n",
    "# creata a new column `dataset` by combining all the normalized data into a list\n",
    "transformdata['dataset'] = transformdata.apply(\n",
    "    lambda x: list([x['Pclass'], x['Sex'], x['Age'], x['Fare'], x['CombRel']]), axis=1)\n",
    "transformdata.head(8)"
   ]
  },
  {
   "cell_type": "markdown",
   "id": "2641e24b-c641-4177-bc8a-86f6fa6f53bb",
   "metadata": {},
   "source": [
    "## <font color='blue'>Drop These Colums</font>  \n",
    "* **'PassengerId’**\n",
    "* **'Name'** \n",
    "* **\"SibSp\"** \n",
    "* **'Parch'**\n",
    "* **'Ticket'** \n",
    "* **'Cabin'**\n",
    "* **'Embarked'** \n",
    "    \n",
    "    \n",
    "<font color='blue'>From the train dataset, because it does not contribute to a persons survival probability or missing data</font>"
   ]
  },
  {
   "cell_type": "code",
   "execution_count": 199,
   "id": "ce5423b9-13bf-439c-889f-3f3a1b44c5d9",
   "metadata": {},
   "outputs": [
    {
     "name": "stdout",
     "output_type": "stream",
     "text": [
      "<class 'pandas.core.frame.DataFrame'>\n",
      "RangeIndex: 891 entries, 0 to 890\n",
      "Data columns (total 7 columns):\n",
      " #   Column    Non-Null Count  Dtype  \n",
      "---  ------    --------------  -----  \n",
      " 0   Survived  891 non-null    int64  \n",
      " 1   Pclass    891 non-null    int64  \n",
      " 2   Sex       891 non-null    int64  \n",
      " 3   Age       891 non-null    float64\n",
      " 4   Fare      891 non-null    float64\n",
      " 5   CombRel   891 non-null    int64  \n",
      " 6   dataset   891 non-null    object \n",
      "dtypes: float64(2), int64(4), object(1)\n",
      "memory usage: 48.9+ KB\n"
     ]
    }
   ],
   "source": [
    "transformdata.info()"
   ]
  },
  {
   "cell_type": "markdown",
   "id": "f09ce828-aa06-43d2-bf06-fe741eb6c042",
   "metadata": {},
   "source": [
    "<font color='blue'>***Removed the missing cells in the 'Age' column and avoce information shows the prove about that***</font>"
   ]
  },
  {
   "cell_type": "code",
   "execution_count": 200,
   "id": "8c06b845-2c09-45d2-b94c-1b43dbfa89b7",
   "metadata": {},
   "outputs": [
    {
     "data": {
      "text/plain": [
       "1    537\n",
       "0    354\n",
       "Name: Withrelative, dtype: int64"
      ]
     },
     "execution_count": 200,
     "metadata": {},
     "output_type": "execute_result"
    }
   ],
   "source": [
    "data = [titani_data_train, titani_data_test]\n",
    "for transformdata in data:\n",
    "    transformdata['CombRel'] = transformdata['SibSp'] + transformdata['Parch']\n",
    "    transformdata.loc[transformdata['CombRel'] > 0, 'Withrelative'] = 0\n",
    "    transformdata.loc[transformdata['CombRel'] == 0, 'Withrelative'] = 1\n",
    "    transformdata['Withrelative'] = transformdata['Withrelative'].astype(int)\n",
    "titani_data_train['Withrelative'].value_counts()"
   ]
  },
  {
   "cell_type": "code",
   "execution_count": 201,
   "id": "0acdbb66-f428-45ce-a81f-0f1a848b5c8f",
   "metadata": {},
   "outputs": [
    {
     "data": {
      "image/png": "[encoded data removed]",
      "text/plain": [
       "<Figure size 900x360 with 1 Axes>"
      ]
     },
     "metadata": {
      "needs_background": "light"
     },
     "output_type": "display_data"
    }
   ],
   "source": [
    "import warnings\n",
    "warnings.simplefilter(action=\"ignore\", category=FutureWarning)\n",
    "import seaborn as sns\n",
    "axes = sns.catplot(x='CombRel',y='Survived', data=titani_data_train, kind='point',aspect = 2.5)"
   ]
  },
  {
   "cell_type": "markdown",
   "id": "e6d3991c-75c9-407e-9e08-744d88be47f3",
   "metadata": {},
   "source": [
    "<font color='blue'>**The plot shows that there is a high probabilty of survival when passengers have with 1 to 3 realitvesa nd a lower probability when there is one or more than 3 (except for some cases with 6 relatives).**</font>"
   ]
  },
  {
   "cell_type": "markdown",
   "id": "4f4b874a-570d-4d61-8e38-ea13bcce234b",
   "metadata": {},
   "source": [
    "# 1.3 Modeling"
   ]
  },
  {
   "cell_type": "markdown",
   "id": "27c0ffa7-f12d-432f-9eb5-98c354dabd02",
   "metadata": {},
   "source": [
    "`Here is Starting of Modeling!`"
   ]
  },
  {
   "cell_type": "markdown",
   "id": "bba2eb85-6cf7-42c5-9874-8885876ebd32",
   "metadata": {},
   "source": [
    "* **Describe the chosen model and why choose this one. [3 points]**\n",
    "* **Describe how the chosen features in 1.2 are involved in the chosen model (e.g., weighted linear combination of features in a linear model). [2 points]**\n",
    "* **Describe the loss function that will be used to estimate the model's parameters (HINT: MSE? MAE? or others? if you are using an existing lib, you may need to check its document or google to figure out ). [2 points]**\n",
    "* **Use a specific way (different ways have been discussed in A3) to estimate the model's parameters (e.g., sklearn's fit). [2 points]**\n",
    "* **Use the model estimated to conduct a submission to the Kaggle competition and screenshot your leaderboard position. [3 points]**"
   ]
  },
  {
   "cell_type": "markdown",
   "id": "1d6e1e77-8723-474f-9bc2-3207f1663af3",
   "metadata": {},
   "source": [
    "## <span style=\"font-family: Arial; font-size:1.4em; background-color: yellow;\"><font color='blue'>Choosing These colums:\n",
    "* **Pclass**\n",
    "* **Sex**\n",
    "* **Age**\n",
    "* **Fare**\n",
    "* **CombRel** (combine columns | SibSp and Parch)\n",
    "  \n",
    "<font color='green'>***#Sibsp\t# of siblings / spouses aboard the Titanic***   \n",
    "***#Parch\t# of parents / children aboard the Titanic***   \n",
    "    \n",
    "<font color='blue'>\n",
    "There are five columns, we droped Cabin because it has \" 77% of it is missing\" Because Age is important younger survied more than older and Gender is important because female survied more than male, Pclass is important because od populantions are different and lower fare is greater than of higher fare. These five coulumns will have a ......Even if PassengerId, Name, and Ticket don't have any missing values either, they don't have much meaning.</font>"
   ]
  },
  {
   "cell_type": "markdown",
   "id": "f396df9b-9515-4306-a029-c6e00462db39",
   "metadata": {},
   "source": [
    "# 1.4 Inference"
   ]
  },
  {
   "cell_type": "markdown",
   "id": "3f6c0e9b-d703-4552-abb8-ad07d941e8df",
   "metadata": {},
   "source": [
    "# 1.5 Conclusions and Learnings"
   ]
  },
  {
   "cell_type": "markdown",
   "id": "bc4ad210-30f9-49bb-9eda-cf364ab46093",
   "metadata": {},
   "source": [
    "In this section, you can summarize your project and conclude your findings based on what you have done for the whole project. Additionally, please state what you have learned from this project in this course.\n",
    "\n",
    "* **A convincing conclusion about the findings. [2 points]**\n",
    "* **What you have learned from this project. [2 points]**"
   ]
  },
  {
   "cell_type": "markdown",
   "id": "37128e93-662d-49c7-984a-0befd085463c",
   "metadata": {},
   "source": [
    "<font color='blue'>**Began with data exploration, which allowed us to get a sense of the dataset, check for missing data, and determine which aspects are most essential. The visualizations were created using seaborn and matplotlib during this procedure. We computed missing values, transformed features to numeric ones and created a few additional features during the data preprocessing phase.**</font>"
   ]
  },
  {
   "cell_type": "code",
   "execution_count": null,
   "id": "e7bc5d43-5e78-4890-83cb-5a3a71b0a92d",
   "metadata": {},
   "outputs": [],
   "source": []
  },
  {
   "cell_type": "code",
   "execution_count": null,
   "id": "8c7ccb07-0a08-48de-960b-85234060732a",
   "metadata": {},
   "outputs": [],
   "source": []
  }
 ],
 "metadata": {
  "kernelspec": {
   "display_name": "Python 3",
   "language": "python",
   "name": "python3"
  },
  "language_info": {
   "codemirror_mode": {
    "name": "ipython",
    "version": 3
   },
   "file_extension": ".py",
   "mimetype": "text/x-python",
   "name": "python",
   "nbconvert_exporter": "python",
   "pygments_lexer": "ipython3",
   "version": "3.8.8"
  }
 },
 "nbformat": 4,
 "nbformat_minor": 5
}
